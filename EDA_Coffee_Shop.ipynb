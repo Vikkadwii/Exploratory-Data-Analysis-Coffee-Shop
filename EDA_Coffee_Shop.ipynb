{
  "nbformat": 4,
  "nbformat_minor": 0,
  "metadata": {
    "colab": {
      "provenance": []
    },
    "kernelspec": {
      "display_name": "Python 3",
      "language": "python",
      "name": "python3"
    },
    "language_info": {
      "codemirror_mode": {
        "name": "ipython",
        "version": 3
      },
      "file_extension": ".py",
      "mimetype": "text/x-python",
      "name": "python",
      "nbconvert_exporter": "python",
      "pygments_lexer": "ipython3",
      "version": "3.7.7"
    }
  },
  "cells": [
    {
      "cell_type": "markdown",
      "metadata": {
        "id": "cWDijqRGKn8I"
      },
      "source": [
        "# CAPSTONE PROJECT - Certified Data Analyst"
      ]
    },
    {
      "cell_type": "markdown",
      "metadata": {
        "id": "UEnIzR1tlWhB"
      },
      "source": [
        "## 1. Connect Colab to Google Drive"
      ]
    },
    {
      "cell_type": "code",
      "metadata": {
        "id": "4Q2pgfwMlbRY",
        "colab": {
          "base_uri": "https://localhost:8080/"
        },
        "outputId": "38d8ca22-c29b-4f62-e714-db408596c128"
      },
      "source": [
        "from google.colab import drive\n",
        "drive.mount('/content/drive')"
      ],
      "execution_count": 1,
      "outputs": [
        {
          "output_type": "stream",
          "name": "stdout",
          "text": [
            "Mounted at /content/drive\n"
          ]
        }
      ]
    },
    {
      "cell_type": "markdown",
      "metadata": {
        "id": "M6YWX-NtKn8K"
      },
      "source": [
        "## 2. Import Packages"
      ]
    },
    {
      "cell_type": "code",
      "metadata": {
        "id": "MHUsnon5l5yo"
      },
      "source": [
        "import os\n",
        "import csv\n",
        "import sqlite3\n",
        "import pandas as pd\n",
        "import numpy as np\n",
        "import statistics\n",
        "import scipy.stats as stats\n",
        "import seaborn as sns\n",
        "import matplotlib.pyplot as plt\n",
        "from scipy.stats import ttest_1samp, ttest_ind"
      ],
      "execution_count": 2,
      "outputs": []
    },
    {
      "cell_type": "markdown",
      "metadata": {
        "id": "TmfuYV3clcWk"
      },
      "source": [
        "## 3. Connect SQLite to Python"
      ]
    },
    {
      "cell_type": "code",
      "metadata": {
        "id": "v31KzqKnling"
      },
      "source": [
        "# Membuat koneksi ke database\n",
        "db = '/content/drive/MyDrive/IntroPython/Proyek_Mandiri_case1/CoffeeShop_Dataset.db'\n",
        "conn = sqlite3.connect(db)\n",
        "\n",
        "# Membuat cursor untuk memanggil sql statement\n",
        "cur = conn.cursor()"
      ],
      "execution_count": 3,
      "outputs": []
    },
    {
      "cell_type": "markdown",
      "metadata": {
        "id": "031LDaaFlk2t"
      },
      "source": [
        "## 4. Data Preparation Using SQL"
      ]
    },
    {
      "cell_type": "code",
      "metadata": {
        "id": "RjnGaIillubA",
        "colab": {
          "base_uri": "https://localhost:8080/"
        },
        "outputId": "55e403d9-bfa5-4a78-c04a-c4c714d4349c"
      },
      "source": [
        "# Mengecek table yang ada di db\n",
        "cur.execute('''select name\n",
        "               from sqlite_master\n",
        "               where type='table' ''')\n",
        "cur.fetchall()"
      ],
      "execution_count": 4,
      "outputs": [
        {
          "output_type": "execute_result",
          "data": {
            "text/plain": [
              "[('sales outlet',),\n",
              " ('pastry inventory',),\n",
              " ('product',),\n",
              " ('generations',),\n",
              " ('sales reciepts',),\n",
              " ('customer',)]"
            ]
          },
          "metadata": {},
          "execution_count": 4
        }
      ]
    },
    {
      "cell_type": "code",
      "source": [
        " # mengambil semua baris dari hasil query\n",
        "rows = cur.fetchall()"
      ],
      "metadata": {
        "id": "KGbUnAPzQKmL"
      },
      "execution_count": 5,
      "outputs": []
    },
    {
      "cell_type": "code",
      "source": [
        "# mengubah ke csv\n",
        "def export_csv(file_name):\n",
        "  with open(file_name, 'w', newline='') as f :\n",
        "    writer = csv.writer(f)\n",
        "    writer.writerow([i[0] for i in cur.description]) # menulis kolom\n",
        "    for row in rows :\n",
        "      writer.writerow(row)"
      ],
      "metadata": {
        "id": "sBeWjDSmOigl"
      },
      "execution_count": 6,
      "outputs": []
    },
    {
      "cell_type": "markdown",
      "source": [
        "### UBAH TABLE sales outlet ke Sales_Outlet.csv\n"
      ],
      "metadata": {
        "id": "CV7EOrGaXREF"
      }
    },
    {
      "cell_type": "code",
      "source": [
        "# Mengeksekusi kueri SQL untuk mengambil data dari tabel\n",
        "cur.execute(\"SELECT * FROM 'sales outlet'\")\n",
        "# Mengambil semua baris dari hasil kueri\n",
        "rows = cur.fetchall()\n",
        "export_csv('Sales_Outlet.csv')"
      ],
      "metadata": {
        "id": "7cp_VN2QPnZr"
      },
      "execution_count": 7,
      "outputs": []
    },
    {
      "cell_type": "markdown",
      "source": [
        "### UBAH TABLE pastry inventory ke Pastry_Inventory.csv"
      ],
      "metadata": {
        "id": "Q6-f4WrIYqX8"
      }
    },
    {
      "cell_type": "code",
      "source": [
        "cur.execute(\"SELECT * FROM 'pastry inventory'\")\n",
        "rows = cur.fetchall()\n",
        "export_csv('Pastry_Inventory.csv')"
      ],
      "metadata": {
        "id": "VisW9-SPZdFm"
      },
      "execution_count": 8,
      "outputs": []
    },
    {
      "cell_type": "markdown",
      "source": [
        "### UBAH TABLE product ke Product.csv"
      ],
      "metadata": {
        "id": "3SPtKxvrYoVQ"
      }
    },
    {
      "cell_type": "code",
      "source": [
        "cur.execute(\"SELECT * FROM product\")\n",
        "rows = cur.fetchall()\n",
        "export_csv('Product.csv')"
      ],
      "metadata": {
        "id": "75hG262PZdsL"
      },
      "execution_count": 9,
      "outputs": []
    },
    {
      "cell_type": "markdown",
      "source": [
        "### UBAH TABLE generations ke Generations.csv"
      ],
      "metadata": {
        "id": "s6LnhIW8Y23o"
      }
    },
    {
      "cell_type": "code",
      "source": [
        "cur.execute(\"SELECT * FROM generations\")\n",
        "rows = cur.fetchall()\n",
        "export_csv('Generations.csv')"
      ],
      "metadata": {
        "id": "a7Dm2DyeZeXw"
      },
      "execution_count": 10,
      "outputs": []
    },
    {
      "cell_type": "markdown",
      "source": [
        "### UBAH TABLE sales reciepts ke Sales_Reciepts.csv"
      ],
      "metadata": {
        "id": "iqZwLn3fY_ZE"
      }
    },
    {
      "cell_type": "code",
      "source": [
        "cur.execute(\"SELECT * FROM 'sales reciepts'\")\n",
        "rows = cur.fetchall()\n",
        "export_csv('Sales_Reciepts.csv')"
      ],
      "metadata": {
        "id": "4vtR_XIYZfOY"
      },
      "execution_count": 11,
      "outputs": []
    },
    {
      "cell_type": "markdown",
      "source": [
        "### UBAH TABLE customer ke Customer.csv"
      ],
      "metadata": {
        "id": "oE1uJ-WbZBD7"
      }
    },
    {
      "cell_type": "code",
      "source": [
        "cur.execute(\"SELECT * FROM customer\")\n",
        "rows = cur.fetchall()\n",
        "export_csv('Customer.csv')"
      ],
      "metadata": {
        "id": "HAKsf1ZAZf0G"
      },
      "execution_count": 12,
      "outputs": []
    },
    {
      "cell_type": "markdown",
      "metadata": {
        "id": "1DH2ISL0Kn8L"
      },
      "source": [
        "## 5. Problem Statement"
      ]
    },
    {
      "cell_type": "markdown",
      "source": [
        "Hal yang menarik yang dapat dianalisis :\n",
        "1.\tProfilling Pelanggan\n",
        "\n",
        "    Problem Statement : Melakukan analisi terkait profil pembeli untuk meningkatkan loyalitas pelanggan dengan memperhatikan preferensi mereka \n",
        "\n",
        "  Pertanyaan :\n",
        "  -\tApakah ada penambahan / pengurangan customer per bulan?\n",
        "  - Berapakah rata-rata uang yg dikerluarin customer ?\n",
        "  -\tApakah ada perbedaan produk yang diminati berdasarkan generasi?\n",
        "\n",
        "\n",
        "2. Penjualan Produk \n",
        "\n",
        "    Problem Statement : Memberikan rekomendasi variasi produk untuk meningkatkan revenue\n",
        "\n",
        "  Pertanyaan : \n",
        "  -\tApakah terjadi kenaikan penjualan yang cukup signifikan pada produk yang memiliki promo ?\n",
        "  -\tProduk apa saja yang banyak diminati oleh customer pada setiap store ?\n",
        "\n",
        "\n",
        "3.\tOutlet Penjualan\n",
        "\n",
        "    Problem Statement : Menganalisis distribusi tempat penjualan untuk mengetahui potensi pembukaan cabang toko baru maupun toko yang harus ditutup\n",
        "\n",
        "  Pertanyaan :\n",
        "  -\tStore coffee shop wilayah mana yang memiliki pengunjung sangat banyak maupun yang sedikit?\n",
        "\n",
        "\n",
        "4.\tTransaksi Penjualan\n",
        "\n",
        "    Problem Statement :Menganalisis keuntungan yang di dapat dari penjualan\n",
        "  Pertanyaan :\n",
        "  -\tStore mana yang mempunyai penjualan terbanyak dan memiliki keuntungan yang banyak?\n",
        "  -\tBagaimana strategi yang efektif untuk meningkatkan penjualan pada masing-masing store?\n",
        "\n",
        "\n",
        "5.\tInventory Produk\n",
        "\n",
        "    Problem Statement : Menentukan stok produk yang harus di tingkatkan pada masing-masing store.\n",
        "  Pertanyaan :\n",
        "  -\tBerapa banyak produk yang tersisa pada setiap store dan produk apa itu?\n",
        "  -\tProduk apa yang selalu habis pada setiap store?\n",
        "\n",
        "\n",
        "\n"
      ],
      "metadata": {
        "id": "fyNRSVCvKo0e"
      }
    },
    {
      "cell_type": "markdown",
      "metadata": {
        "id": "WlX3RVe4Kn8L"
      },
      "source": [
        "## 6. Data Preparation Using Python (Cleansing, Manipulation, Handling Outlier dst)"
      ]
    },
    {
      "cell_type": "code",
      "source": [
        "# Membuat load ke data\n",
        "path = '/content/drive/MyDrive/IntroPython/Coffee_Shop_Data/'\n",
        "os.listdir(path)"
      ],
      "metadata": {
        "colab": {
          "base_uri": "https://localhost:8080/"
        },
        "id": "Eo9fg5nsHMqM",
        "outputId": "38924157-1be1-49ab-8104-a0725521d205"
      },
      "execution_count": 13,
      "outputs": [
        {
          "output_type": "execute_result",
          "data": {
            "text/plain": [
              "['Customer.csv',\n",
              " 'Generations.csv',\n",
              " 'Pastry_Inventory.csv',\n",
              " 'Product.csv',\n",
              " 'Sales_Outlet.csv',\n",
              " 'Sales_Reciepts.csv']"
            ]
          },
          "metadata": {},
          "execution_count": 13
        }
      ]
    },
    {
      "cell_type": "code",
      "source": [
        "# Membuat function untuk deteksi outlier\n",
        "def detect_outliers_iqr(data):\n",
        "    outliers = []\n",
        "    data = sorted(data)\n",
        "    q1 = np.percentile(data, 25)\n",
        "    q3 = np.percentile(data, 75)\n",
        "\n",
        "    IQR = q3-q1\n",
        "    lwr_bound = q1-(1.5*IQR)\n",
        "    upr_bound = q3+(1.5*IQR)\n",
        "\n",
        "    for i in data: \n",
        "        if (i<lwr_bound or i>upr_bound):\n",
        "            outliers.append(i)\n",
        "    return outliers\n",
        "\n",
        "def hasil_outlier(data_detect):\n",
        "  sample_outliers = detect_outliers_iqr(data_detect)\n",
        "  print(\"Banyaknya outlier \",len(sample_outliers))\n",
        "  print(\"Beberapa outlier dari data: \", sample_outliers)"
      ],
      "metadata": {
        "id": "PqpjoVzpVbpc"
      },
      "execution_count": 14,
      "outputs": []
    },
    {
      "cell_type": "code",
      "source": [
        "# Membuat function handle_outlier\n",
        "# handle_outlier_median\n",
        "def handle_outlier_median(dt_out):\n",
        "  tr=[]\n",
        "  sample_outliers = detect_outliers_iqr(dt_out)\n",
        "  for y in dt_out:\n",
        "    ff = y in sample_outliers\n",
        "    if ff is True:\n",
        "        y=statistics.median(dt_out)\n",
        "    else:\n",
        "        y=y\n",
        "    tr.append(int(y))\n",
        "  return tr\n",
        "\n",
        "#handle_outlier_mean\n",
        "def handle_outlier_mean(dt_out):\n",
        "  tr=[]\n",
        "  sample_outliers = detect_outliers_iqr(dt_out)\n",
        "  for y in dt_out:\n",
        "    ff = y in sample_outliers\n",
        "    if ff is True:\n",
        "        y=statistics.mean(dt_out)\n",
        "    else:\n",
        "        y=y\n",
        "    tr.append(int(y))\n",
        "  return tr"
      ],
      "metadata": {
        "id": "58fd1rxNXmiO"
      },
      "execution_count": 15,
      "outputs": []
    },
    {
      "cell_type": "markdown",
      "source": [
        "#### Data prep Customer\n"
      ],
      "metadata": {
        "id": "Mk49RZeoG9YC"
      }
    },
    {
      "cell_type": "code",
      "metadata": {
        "id": "cAGzDisgKn8M",
        "colab": {
          "base_uri": "https://localhost:8080/",
          "height": 206
        },
        "outputId": "c060db96-7879-45a5-8f67-c0f2814ecd38"
      },
      "source": [
        "Cust = pd.read_csv(path+'Customer.csv')\n",
        "# Membaca isi data\n",
        "Cust.head()"
      ],
      "execution_count": 16,
      "outputs": [
        {
          "output_type": "execute_result",
          "data": {
            "text/plain": [
              "   customer_id  home_store customer_first-name        customer_email  \\\n",
              "0            1           3           Kelly Key  Venus@adipiscing.edu   \n",
              "1            2           3     Clark Schroeder        Nora@fames.gov   \n",
              "2            3           3      Elvis Cardenas    Brianna@tellus.edu   \n",
              "3            4           3        Rafael Estes           Ina@non.gov   \n",
              "4            5           3          Colin Lynn      Dale@Integer.com   \n",
              "\n",
              "  customer_since loyalty_card_number   birthdate gender  birth_year  \n",
              "0     2017-01-04        908-424-2890  1950-05-29      M        1950  \n",
              "1     2017-01-07        032-732-6308  1950-07-30      M        1950  \n",
              "2     2017-01-10        459-375-9187  1950-09-30      M        1950  \n",
              "3     2017-01-13        576-640-9226  1950-12-01      M        1950  \n",
              "4     2017-01-15        344-674-6569  1951-02-01      M        1951  "
            ],
            "text/html": [
              "\n",
              "  <div id=\"df-c3c5bdfe-e24a-4f12-acfc-b59b485ebaf7\">\n",
              "    <div class=\"colab-df-container\">\n",
              "      <div>\n",
              "<style scoped>\n",
              "    .dataframe tbody tr th:only-of-type {\n",
              "        vertical-align: middle;\n",
              "    }\n",
              "\n",
              "    .dataframe tbody tr th {\n",
              "        vertical-align: top;\n",
              "    }\n",
              "\n",
              "    .dataframe thead th {\n",
              "        text-align: right;\n",
              "    }\n",
              "</style>\n",
              "<table border=\"1\" class=\"dataframe\">\n",
              "  <thead>\n",
              "    <tr style=\"text-align: right;\">\n",
              "      <th></th>\n",
              "      <th>customer_id</th>\n",
              "      <th>home_store</th>\n",
              "      <th>customer_first-name</th>\n",
              "      <th>customer_email</th>\n",
              "      <th>customer_since</th>\n",
              "      <th>loyalty_card_number</th>\n",
              "      <th>birthdate</th>\n",
              "      <th>gender</th>\n",
              "      <th>birth_year</th>\n",
              "    </tr>\n",
              "  </thead>\n",
              "  <tbody>\n",
              "    <tr>\n",
              "      <th>0</th>\n",
              "      <td>1</td>\n",
              "      <td>3</td>\n",
              "      <td>Kelly Key</td>\n",
              "      <td>Venus@adipiscing.edu</td>\n",
              "      <td>2017-01-04</td>\n",
              "      <td>908-424-2890</td>\n",
              "      <td>1950-05-29</td>\n",
              "      <td>M</td>\n",
              "      <td>1950</td>\n",
              "    </tr>\n",
              "    <tr>\n",
              "      <th>1</th>\n",
              "      <td>2</td>\n",
              "      <td>3</td>\n",
              "      <td>Clark Schroeder</td>\n",
              "      <td>Nora@fames.gov</td>\n",
              "      <td>2017-01-07</td>\n",
              "      <td>032-732-6308</td>\n",
              "      <td>1950-07-30</td>\n",
              "      <td>M</td>\n",
              "      <td>1950</td>\n",
              "    </tr>\n",
              "    <tr>\n",
              "      <th>2</th>\n",
              "      <td>3</td>\n",
              "      <td>3</td>\n",
              "      <td>Elvis Cardenas</td>\n",
              "      <td>Brianna@tellus.edu</td>\n",
              "      <td>2017-01-10</td>\n",
              "      <td>459-375-9187</td>\n",
              "      <td>1950-09-30</td>\n",
              "      <td>M</td>\n",
              "      <td>1950</td>\n",
              "    </tr>\n",
              "    <tr>\n",
              "      <th>3</th>\n",
              "      <td>4</td>\n",
              "      <td>3</td>\n",
              "      <td>Rafael Estes</td>\n",
              "      <td>Ina@non.gov</td>\n",
              "      <td>2017-01-13</td>\n",
              "      <td>576-640-9226</td>\n",
              "      <td>1950-12-01</td>\n",
              "      <td>M</td>\n",
              "      <td>1950</td>\n",
              "    </tr>\n",
              "    <tr>\n",
              "      <th>4</th>\n",
              "      <td>5</td>\n",
              "      <td>3</td>\n",
              "      <td>Colin Lynn</td>\n",
              "      <td>Dale@Integer.com</td>\n",
              "      <td>2017-01-15</td>\n",
              "      <td>344-674-6569</td>\n",
              "      <td>1951-02-01</td>\n",
              "      <td>M</td>\n",
              "      <td>1951</td>\n",
              "    </tr>\n",
              "  </tbody>\n",
              "</table>\n",
              "</div>\n",
              "      <button class=\"colab-df-convert\" onclick=\"convertToInteractive('df-c3c5bdfe-e24a-4f12-acfc-b59b485ebaf7')\"\n",
              "              title=\"Convert this dataframe to an interactive table.\"\n",
              "              style=\"display:none;\">\n",
              "        \n",
              "  <svg xmlns=\"http://www.w3.org/2000/svg\" height=\"24px\"viewBox=\"0 0 24 24\"\n",
              "       width=\"24px\">\n",
              "    <path d=\"M0 0h24v24H0V0z\" fill=\"none\"/>\n",
              "    <path d=\"M18.56 5.44l.94 2.06.94-2.06 2.06-.94-2.06-.94-.94-2.06-.94 2.06-2.06.94zm-11 1L8.5 8.5l.94-2.06 2.06-.94-2.06-.94L8.5 2.5l-.94 2.06-2.06.94zm10 10l.94 2.06.94-2.06 2.06-.94-2.06-.94-.94-2.06-.94 2.06-2.06.94z\"/><path d=\"M17.41 7.96l-1.37-1.37c-.4-.4-.92-.59-1.43-.59-.52 0-1.04.2-1.43.59L10.3 9.45l-7.72 7.72c-.78.78-.78 2.05 0 2.83L4 21.41c.39.39.9.59 1.41.59.51 0 1.02-.2 1.41-.59l7.78-7.78 2.81-2.81c.8-.78.8-2.07 0-2.86zM5.41 20L4 18.59l7.72-7.72 1.47 1.35L5.41 20z\"/>\n",
              "  </svg>\n",
              "      </button>\n",
              "      \n",
              "  <style>\n",
              "    .colab-df-container {\n",
              "      display:flex;\n",
              "      flex-wrap:wrap;\n",
              "      gap: 12px;\n",
              "    }\n",
              "\n",
              "    .colab-df-convert {\n",
              "      background-color: #E8F0FE;\n",
              "      border: none;\n",
              "      border-radius: 50%;\n",
              "      cursor: pointer;\n",
              "      display: none;\n",
              "      fill: #1967D2;\n",
              "      height: 32px;\n",
              "      padding: 0 0 0 0;\n",
              "      width: 32px;\n",
              "    }\n",
              "\n",
              "    .colab-df-convert:hover {\n",
              "      background-color: #E2EBFA;\n",
              "      box-shadow: 0px 1px 2px rgba(60, 64, 67, 0.3), 0px 1px 3px 1px rgba(60, 64, 67, 0.15);\n",
              "      fill: #174EA6;\n",
              "    }\n",
              "\n",
              "    [theme=dark] .colab-df-convert {\n",
              "      background-color: #3B4455;\n",
              "      fill: #D2E3FC;\n",
              "    }\n",
              "\n",
              "    [theme=dark] .colab-df-convert:hover {\n",
              "      background-color: #434B5C;\n",
              "      box-shadow: 0px 1px 3px 1px rgba(0, 0, 0, 0.15);\n",
              "      filter: drop-shadow(0px 1px 2px rgba(0, 0, 0, 0.3));\n",
              "      fill: #FFFFFF;\n",
              "    }\n",
              "  </style>\n",
              "\n",
              "      <script>\n",
              "        const buttonEl =\n",
              "          document.querySelector('#df-c3c5bdfe-e24a-4f12-acfc-b59b485ebaf7 button.colab-df-convert');\n",
              "        buttonEl.style.display =\n",
              "          google.colab.kernel.accessAllowed ? 'block' : 'none';\n",
              "\n",
              "        async function convertToInteractive(key) {\n",
              "          const element = document.querySelector('#df-c3c5bdfe-e24a-4f12-acfc-b59b485ebaf7');\n",
              "          const dataTable =\n",
              "            await google.colab.kernel.invokeFunction('convertToInteractive',\n",
              "                                                     [key], {});\n",
              "          if (!dataTable) return;\n",
              "\n",
              "          const docLinkHtml = 'Like what you see? Visit the ' +\n",
              "            '<a target=\"_blank\" href=https://colab.research.google.com/notebooks/data_table.ipynb>data table notebook</a>'\n",
              "            + ' to learn more about interactive tables.';\n",
              "          element.innerHTML = '';\n",
              "          dataTable['output_type'] = 'display_data';\n",
              "          await google.colab.output.renderOutput(dataTable, element);\n",
              "          const docLink = document.createElement('div');\n",
              "          docLink.innerHTML = docLinkHtml;\n",
              "          element.appendChild(docLink);\n",
              "        }\n",
              "      </script>\n",
              "    </div>\n",
              "  </div>\n",
              "  "
            ]
          },
          "metadata": {},
          "execution_count": 16
        }
      ]
    },
    {
      "cell_type": "code",
      "source": [
        "# Cek tipe data & missing value\n",
        "Cust.info()"
      ],
      "metadata": {
        "colab": {
          "base_uri": "https://localhost:8080/"
        },
        "id": "HRHQVFV8KeqA",
        "outputId": "db35204b-69c0-4b56-f9ff-29bdee791bf3"
      },
      "execution_count": 17,
      "outputs": [
        {
          "output_type": "stream",
          "name": "stdout",
          "text": [
            "<class 'pandas.core.frame.DataFrame'>\n",
            "RangeIndex: 2246 entries, 0 to 2245\n",
            "Data columns (total 9 columns):\n",
            " #   Column               Non-Null Count  Dtype \n",
            "---  ------               --------------  ----- \n",
            " 0   customer_id          2246 non-null   int64 \n",
            " 1   home_store           2246 non-null   int64 \n",
            " 2   customer_first-name  2246 non-null   object\n",
            " 3   customer_email       2246 non-null   object\n",
            " 4   customer_since       2246 non-null   object\n",
            " 5   loyalty_card_number  2246 non-null   object\n",
            " 6   birthdate            2246 non-null   object\n",
            " 7   gender               2246 non-null   object\n",
            " 8   birth_year           2246 non-null   int64 \n",
            "dtypes: int64(3), object(6)\n",
            "memory usage: 158.0+ KB\n"
          ]
        }
      ]
    },
    {
      "cell_type": "markdown",
      "source": [
        "Dari info data customer didapat bahwa tidak adanya missing value, tetapi ada beberapa tipe data yang tidak sesuai, seperti customer since dan birthdate yang harus diubah ke tipe data date kemudian customer_id dan home_store diubah ke string"
      ],
      "metadata": {
        "id": "xmzoUwTAK-Wt"
      }
    },
    {
      "cell_type": "code",
      "source": [
        "# Mengubah tipe data yang tidak sesuai\n",
        "Cust['customer_since']=pd.to_datetime(Cust['customer_since'])\n",
        "Cust['birthdate']=pd.to_datetime(Cust['birthdate'])\n",
        "Cust['customer_id']=Cust['customer_id'].astype(str)\n",
        "Cust['home_store']=Cust['home_store'].astype(str)"
      ],
      "metadata": {
        "id": "2o_gB2V9LMHe"
      },
      "execution_count": 18,
      "outputs": []
    },
    {
      "cell_type": "code",
      "source": [
        "# Menambahkan table umur\n",
        "Cust['Usia'] = pd.Timestamp.now().year - Cust['birth_year']\n",
        "Cust.head()"
      ],
      "metadata": {
        "colab": {
          "base_uri": "https://localhost:8080/",
          "height": 206
        },
        "id": "n8xit_s9Ruom",
        "outputId": "4eb60174-e59a-4eed-a31f-93b3f529481a"
      },
      "execution_count": 19,
      "outputs": [
        {
          "output_type": "execute_result",
          "data": {
            "text/plain": [
              "  customer_id home_store customer_first-name        customer_email  \\\n",
              "0           1          3           Kelly Key  Venus@adipiscing.edu   \n",
              "1           2          3     Clark Schroeder        Nora@fames.gov   \n",
              "2           3          3      Elvis Cardenas    Brianna@tellus.edu   \n",
              "3           4          3        Rafael Estes           Ina@non.gov   \n",
              "4           5          3          Colin Lynn      Dale@Integer.com   \n",
              "\n",
              "  customer_since loyalty_card_number  birthdate gender  birth_year  Usia  \n",
              "0     2017-01-04        908-424-2890 1950-05-29      M        1950    73  \n",
              "1     2017-01-07        032-732-6308 1950-07-30      M        1950    73  \n",
              "2     2017-01-10        459-375-9187 1950-09-30      M        1950    73  \n",
              "3     2017-01-13        576-640-9226 1950-12-01      M        1950    73  \n",
              "4     2017-01-15        344-674-6569 1951-02-01      M        1951    72  "
            ],
            "text/html": [
              "\n",
              "  <div id=\"df-fc71da30-c4db-49eb-ba74-b1b93fdcda36\">\n",
              "    <div class=\"colab-df-container\">\n",
              "      <div>\n",
              "<style scoped>\n",
              "    .dataframe tbody tr th:only-of-type {\n",
              "        vertical-align: middle;\n",
              "    }\n",
              "\n",
              "    .dataframe tbody tr th {\n",
              "        vertical-align: top;\n",
              "    }\n",
              "\n",
              "    .dataframe thead th {\n",
              "        text-align: right;\n",
              "    }\n",
              "</style>\n",
              "<table border=\"1\" class=\"dataframe\">\n",
              "  <thead>\n",
              "    <tr style=\"text-align: right;\">\n",
              "      <th></th>\n",
              "      <th>customer_id</th>\n",
              "      <th>home_store</th>\n",
              "      <th>customer_first-name</th>\n",
              "      <th>customer_email</th>\n",
              "      <th>customer_since</th>\n",
              "      <th>loyalty_card_number</th>\n",
              "      <th>birthdate</th>\n",
              "      <th>gender</th>\n",
              "      <th>birth_year</th>\n",
              "      <th>Usia</th>\n",
              "    </tr>\n",
              "  </thead>\n",
              "  <tbody>\n",
              "    <tr>\n",
              "      <th>0</th>\n",
              "      <td>1</td>\n",
              "      <td>3</td>\n",
              "      <td>Kelly Key</td>\n",
              "      <td>Venus@adipiscing.edu</td>\n",
              "      <td>2017-01-04</td>\n",
              "      <td>908-424-2890</td>\n",
              "      <td>1950-05-29</td>\n",
              "      <td>M</td>\n",
              "      <td>1950</td>\n",
              "      <td>73</td>\n",
              "    </tr>\n",
              "    <tr>\n",
              "      <th>1</th>\n",
              "      <td>2</td>\n",
              "      <td>3</td>\n",
              "      <td>Clark Schroeder</td>\n",
              "      <td>Nora@fames.gov</td>\n",
              "      <td>2017-01-07</td>\n",
              "      <td>032-732-6308</td>\n",
              "      <td>1950-07-30</td>\n",
              "      <td>M</td>\n",
              "      <td>1950</td>\n",
              "      <td>73</td>\n",
              "    </tr>\n",
              "    <tr>\n",
              "      <th>2</th>\n",
              "      <td>3</td>\n",
              "      <td>3</td>\n",
              "      <td>Elvis Cardenas</td>\n",
              "      <td>Brianna@tellus.edu</td>\n",
              "      <td>2017-01-10</td>\n",
              "      <td>459-375-9187</td>\n",
              "      <td>1950-09-30</td>\n",
              "      <td>M</td>\n",
              "      <td>1950</td>\n",
              "      <td>73</td>\n",
              "    </tr>\n",
              "    <tr>\n",
              "      <th>3</th>\n",
              "      <td>4</td>\n",
              "      <td>3</td>\n",
              "      <td>Rafael Estes</td>\n",
              "      <td>Ina@non.gov</td>\n",
              "      <td>2017-01-13</td>\n",
              "      <td>576-640-9226</td>\n",
              "      <td>1950-12-01</td>\n",
              "      <td>M</td>\n",
              "      <td>1950</td>\n",
              "      <td>73</td>\n",
              "    </tr>\n",
              "    <tr>\n",
              "      <th>4</th>\n",
              "      <td>5</td>\n",
              "      <td>3</td>\n",
              "      <td>Colin Lynn</td>\n",
              "      <td>Dale@Integer.com</td>\n",
              "      <td>2017-01-15</td>\n",
              "      <td>344-674-6569</td>\n",
              "      <td>1951-02-01</td>\n",
              "      <td>M</td>\n",
              "      <td>1951</td>\n",
              "      <td>72</td>\n",
              "    </tr>\n",
              "  </tbody>\n",
              "</table>\n",
              "</div>\n",
              "      <button class=\"colab-df-convert\" onclick=\"convertToInteractive('df-fc71da30-c4db-49eb-ba74-b1b93fdcda36')\"\n",
              "              title=\"Convert this dataframe to an interactive table.\"\n",
              "              style=\"display:none;\">\n",
              "        \n",
              "  <svg xmlns=\"http://www.w3.org/2000/svg\" height=\"24px\"viewBox=\"0 0 24 24\"\n",
              "       width=\"24px\">\n",
              "    <path d=\"M0 0h24v24H0V0z\" fill=\"none\"/>\n",
              "    <path d=\"M18.56 5.44l.94 2.06.94-2.06 2.06-.94-2.06-.94-.94-2.06-.94 2.06-2.06.94zm-11 1L8.5 8.5l.94-2.06 2.06-.94-2.06-.94L8.5 2.5l-.94 2.06-2.06.94zm10 10l.94 2.06.94-2.06 2.06-.94-2.06-.94-.94-2.06-.94 2.06-2.06.94z\"/><path d=\"M17.41 7.96l-1.37-1.37c-.4-.4-.92-.59-1.43-.59-.52 0-1.04.2-1.43.59L10.3 9.45l-7.72 7.72c-.78.78-.78 2.05 0 2.83L4 21.41c.39.39.9.59 1.41.59.51 0 1.02-.2 1.41-.59l7.78-7.78 2.81-2.81c.8-.78.8-2.07 0-2.86zM5.41 20L4 18.59l7.72-7.72 1.47 1.35L5.41 20z\"/>\n",
              "  </svg>\n",
              "      </button>\n",
              "      \n",
              "  <style>\n",
              "    .colab-df-container {\n",
              "      display:flex;\n",
              "      flex-wrap:wrap;\n",
              "      gap: 12px;\n",
              "    }\n",
              "\n",
              "    .colab-df-convert {\n",
              "      background-color: #E8F0FE;\n",
              "      border: none;\n",
              "      border-radius: 50%;\n",
              "      cursor: pointer;\n",
              "      display: none;\n",
              "      fill: #1967D2;\n",
              "      height: 32px;\n",
              "      padding: 0 0 0 0;\n",
              "      width: 32px;\n",
              "    }\n",
              "\n",
              "    .colab-df-convert:hover {\n",
              "      background-color: #E2EBFA;\n",
              "      box-shadow: 0px 1px 2px rgba(60, 64, 67, 0.3), 0px 1px 3px 1px rgba(60, 64, 67, 0.15);\n",
              "      fill: #174EA6;\n",
              "    }\n",
              "\n",
              "    [theme=dark] .colab-df-convert {\n",
              "      background-color: #3B4455;\n",
              "      fill: #D2E3FC;\n",
              "    }\n",
              "\n",
              "    [theme=dark] .colab-df-convert:hover {\n",
              "      background-color: #434B5C;\n",
              "      box-shadow: 0px 1px 3px 1px rgba(0, 0, 0, 0.15);\n",
              "      filter: drop-shadow(0px 1px 2px rgba(0, 0, 0, 0.3));\n",
              "      fill: #FFFFFF;\n",
              "    }\n",
              "  </style>\n",
              "\n",
              "      <script>\n",
              "        const buttonEl =\n",
              "          document.querySelector('#df-fc71da30-c4db-49eb-ba74-b1b93fdcda36 button.colab-df-convert');\n",
              "        buttonEl.style.display =\n",
              "          google.colab.kernel.accessAllowed ? 'block' : 'none';\n",
              "\n",
              "        async function convertToInteractive(key) {\n",
              "          const element = document.querySelector('#df-fc71da30-c4db-49eb-ba74-b1b93fdcda36');\n",
              "          const dataTable =\n",
              "            await google.colab.kernel.invokeFunction('convertToInteractive',\n",
              "                                                     [key], {});\n",
              "          if (!dataTable) return;\n",
              "\n",
              "          const docLinkHtml = 'Like what you see? Visit the ' +\n",
              "            '<a target=\"_blank\" href=https://colab.research.google.com/notebooks/data_table.ipynb>data table notebook</a>'\n",
              "            + ' to learn more about interactive tables.';\n",
              "          element.innerHTML = '';\n",
              "          dataTable['output_type'] = 'display_data';\n",
              "          await google.colab.output.renderOutput(dataTable, element);\n",
              "          const docLink = document.createElement('div');\n",
              "          docLink.innerHTML = docLinkHtml;\n",
              "          element.appendChild(docLink);\n",
              "        }\n",
              "      </script>\n",
              "    </div>\n",
              "  </div>\n",
              "  "
            ]
          },
          "metadata": {},
          "execution_count": 19
        }
      ]
    },
    {
      "cell_type": "code",
      "source": [
        "# Cek kembali tipe data\n",
        "Cust.info()"
      ],
      "metadata": {
        "colab": {
          "base_uri": "https://localhost:8080/"
        },
        "id": "e7fqPfLENYX0",
        "outputId": "0ea23337-4cf8-4e19-d3fa-c2d22c7443d2"
      },
      "execution_count": 20,
      "outputs": [
        {
          "output_type": "stream",
          "name": "stdout",
          "text": [
            "<class 'pandas.core.frame.DataFrame'>\n",
            "RangeIndex: 2246 entries, 0 to 2245\n",
            "Data columns (total 10 columns):\n",
            " #   Column               Non-Null Count  Dtype         \n",
            "---  ------               --------------  -----         \n",
            " 0   customer_id          2246 non-null   object        \n",
            " 1   home_store           2246 non-null   object        \n",
            " 2   customer_first-name  2246 non-null   object        \n",
            " 3   customer_email       2246 non-null   object        \n",
            " 4   customer_since       2246 non-null   datetime64[ns]\n",
            " 5   loyalty_card_number  2246 non-null   object        \n",
            " 6   birthdate            2246 non-null   datetime64[ns]\n",
            " 7   gender               2246 non-null   object        \n",
            " 8   birth_year           2246 non-null   int64         \n",
            " 9   Usia                 2246 non-null   int64         \n",
            "dtypes: datetime64[ns](2), int64(2), object(6)\n",
            "memory usage: 175.6+ KB\n"
          ]
        }
      ]
    },
    {
      "cell_type": "code",
      "source": [
        "# cek duplicate\n",
        "Cust[Cust.duplicated(keep=False)]"
      ],
      "metadata": {
        "colab": {
          "base_uri": "https://localhost:8080/",
          "height": 49
        },
        "id": "aRKmvSy2Njc7",
        "outputId": "1091d96e-78b9-4da7-bc70-c90fef1cba27"
      },
      "execution_count": 21,
      "outputs": [
        {
          "output_type": "execute_result",
          "data": {
            "text/plain": [
              "Empty DataFrame\n",
              "Columns: [customer_id, home_store, customer_first-name, customer_email, customer_since, loyalty_card_number, birthdate, gender, birth_year, Usia]\n",
              "Index: []"
            ],
            "text/html": [
              "\n",
              "  <div id=\"df-0bbcedba-acd1-4668-95ca-0faae5a7adb2\">\n",
              "    <div class=\"colab-df-container\">\n",
              "      <div>\n",
              "<style scoped>\n",
              "    .dataframe tbody tr th:only-of-type {\n",
              "        vertical-align: middle;\n",
              "    }\n",
              "\n",
              "    .dataframe tbody tr th {\n",
              "        vertical-align: top;\n",
              "    }\n",
              "\n",
              "    .dataframe thead th {\n",
              "        text-align: right;\n",
              "    }\n",
              "</style>\n",
              "<table border=\"1\" class=\"dataframe\">\n",
              "  <thead>\n",
              "    <tr style=\"text-align: right;\">\n",
              "      <th></th>\n",
              "      <th>customer_id</th>\n",
              "      <th>home_store</th>\n",
              "      <th>customer_first-name</th>\n",
              "      <th>customer_email</th>\n",
              "      <th>customer_since</th>\n",
              "      <th>loyalty_card_number</th>\n",
              "      <th>birthdate</th>\n",
              "      <th>gender</th>\n",
              "      <th>birth_year</th>\n",
              "      <th>Usia</th>\n",
              "    </tr>\n",
              "  </thead>\n",
              "  <tbody>\n",
              "  </tbody>\n",
              "</table>\n",
              "</div>\n",
              "      <button class=\"colab-df-convert\" onclick=\"convertToInteractive('df-0bbcedba-acd1-4668-95ca-0faae5a7adb2')\"\n",
              "              title=\"Convert this dataframe to an interactive table.\"\n",
              "              style=\"display:none;\">\n",
              "        \n",
              "  <svg xmlns=\"http://www.w3.org/2000/svg\" height=\"24px\"viewBox=\"0 0 24 24\"\n",
              "       width=\"24px\">\n",
              "    <path d=\"M0 0h24v24H0V0z\" fill=\"none\"/>\n",
              "    <path d=\"M18.56 5.44l.94 2.06.94-2.06 2.06-.94-2.06-.94-.94-2.06-.94 2.06-2.06.94zm-11 1L8.5 8.5l.94-2.06 2.06-.94-2.06-.94L8.5 2.5l-.94 2.06-2.06.94zm10 10l.94 2.06.94-2.06 2.06-.94-2.06-.94-.94-2.06-.94 2.06-2.06.94z\"/><path d=\"M17.41 7.96l-1.37-1.37c-.4-.4-.92-.59-1.43-.59-.52 0-1.04.2-1.43.59L10.3 9.45l-7.72 7.72c-.78.78-.78 2.05 0 2.83L4 21.41c.39.39.9.59 1.41.59.51 0 1.02-.2 1.41-.59l7.78-7.78 2.81-2.81c.8-.78.8-2.07 0-2.86zM5.41 20L4 18.59l7.72-7.72 1.47 1.35L5.41 20z\"/>\n",
              "  </svg>\n",
              "      </button>\n",
              "      \n",
              "  <style>\n",
              "    .colab-df-container {\n",
              "      display:flex;\n",
              "      flex-wrap:wrap;\n",
              "      gap: 12px;\n",
              "    }\n",
              "\n",
              "    .colab-df-convert {\n",
              "      background-color: #E8F0FE;\n",
              "      border: none;\n",
              "      border-radius: 50%;\n",
              "      cursor: pointer;\n",
              "      display: none;\n",
              "      fill: #1967D2;\n",
              "      height: 32px;\n",
              "      padding: 0 0 0 0;\n",
              "      width: 32px;\n",
              "    }\n",
              "\n",
              "    .colab-df-convert:hover {\n",
              "      background-color: #E2EBFA;\n",
              "      box-shadow: 0px 1px 2px rgba(60, 64, 67, 0.3), 0px 1px 3px 1px rgba(60, 64, 67, 0.15);\n",
              "      fill: #174EA6;\n",
              "    }\n",
              "\n",
              "    [theme=dark] .colab-df-convert {\n",
              "      background-color: #3B4455;\n",
              "      fill: #D2E3FC;\n",
              "    }\n",
              "\n",
              "    [theme=dark] .colab-df-convert:hover {\n",
              "      background-color: #434B5C;\n",
              "      box-shadow: 0px 1px 3px 1px rgba(0, 0, 0, 0.15);\n",
              "      filter: drop-shadow(0px 1px 2px rgba(0, 0, 0, 0.3));\n",
              "      fill: #FFFFFF;\n",
              "    }\n",
              "  </style>\n",
              "\n",
              "      <script>\n",
              "        const buttonEl =\n",
              "          document.querySelector('#df-0bbcedba-acd1-4668-95ca-0faae5a7adb2 button.colab-df-convert');\n",
              "        buttonEl.style.display =\n",
              "          google.colab.kernel.accessAllowed ? 'block' : 'none';\n",
              "\n",
              "        async function convertToInteractive(key) {\n",
              "          const element = document.querySelector('#df-0bbcedba-acd1-4668-95ca-0faae5a7adb2');\n",
              "          const dataTable =\n",
              "            await google.colab.kernel.invokeFunction('convertToInteractive',\n",
              "                                                     [key], {});\n",
              "          if (!dataTable) return;\n",
              "\n",
              "          const docLinkHtml = 'Like what you see? Visit the ' +\n",
              "            '<a target=\"_blank\" href=https://colab.research.google.com/notebooks/data_table.ipynb>data table notebook</a>'\n",
              "            + ' to learn more about interactive tables.';\n",
              "          element.innerHTML = '';\n",
              "          dataTable['output_type'] = 'display_data';\n",
              "          await google.colab.output.renderOutput(dataTable, element);\n",
              "          const docLink = document.createElement('div');\n",
              "          docLink.innerHTML = docLinkHtml;\n",
              "          element.appendChild(docLink);\n",
              "        }\n",
              "      </script>\n",
              "    </div>\n",
              "  </div>\n",
              "  "
            ]
          },
          "metadata": {},
          "execution_count": 21
        }
      ]
    },
    {
      "cell_type": "code",
      "source": [
        "# cek outlier\n",
        "hasil_outlier(Cust['birth_year'])"
      ],
      "metadata": {
        "colab": {
          "base_uri": "https://localhost:8080/"
        },
        "id": "sJ9NhEA2P01A",
        "outputId": "ae54ffd0-5c65-4876-9776-4f42ab1b4cd6"
      },
      "execution_count": 22,
      "outputs": [
        {
          "output_type": "stream",
          "name": "stdout",
          "text": [
            "Banyaknya outlier  0\n",
            "Beberapa outlier dari data:  []\n"
          ]
        }
      ]
    },
    {
      "cell_type": "code",
      "source": [
        "hasil_outlier(Cust['Usia'])"
      ],
      "metadata": {
        "colab": {
          "base_uri": "https://localhost:8080/"
        },
        "id": "QeOM7Tq3Ybwj",
        "outputId": "3980e337-2edb-4442-be38-c2642b4034b7"
      },
      "execution_count": 23,
      "outputs": [
        {
          "output_type": "stream",
          "name": "stdout",
          "text": [
            "Banyaknya outlier  0\n",
            "Beberapa outlier dari data:  []\n"
          ]
        }
      ]
    },
    {
      "cell_type": "markdown",
      "source": [
        "#### Data prep Generations"
      ],
      "metadata": {
        "id": "o42RNBL2cj_t"
      }
    },
    {
      "cell_type": "code",
      "source": [
        "# Membaaca data\n",
        "Gen = pd.read_csv(path+'Generations.csv')\n",
        "Gen.head()"
      ],
      "metadata": {
        "colab": {
          "base_uri": "https://localhost:8080/",
          "height": 206
        },
        "id": "E1-aKJa2fU4i",
        "outputId": "7d155744-a88c-42a9-b7d1-96a5c069c6ed"
      },
      "execution_count": 24,
      "outputs": [
        {
          "output_type": "execute_result",
          "data": {
            "text/plain": [
              "   birth_year    generation\n",
              "0        1946  Baby Boomers\n",
              "1        1947  Baby Boomers\n",
              "2        1948  Baby Boomers\n",
              "3        1949  Baby Boomers\n",
              "4        1950  Baby Boomers"
            ],
            "text/html": [
              "\n",
              "  <div id=\"df-01448d51-ec15-498c-a979-3c74062bbb28\">\n",
              "    <div class=\"colab-df-container\">\n",
              "      <div>\n",
              "<style scoped>\n",
              "    .dataframe tbody tr th:only-of-type {\n",
              "        vertical-align: middle;\n",
              "    }\n",
              "\n",
              "    .dataframe tbody tr th {\n",
              "        vertical-align: top;\n",
              "    }\n",
              "\n",
              "    .dataframe thead th {\n",
              "        text-align: right;\n",
              "    }\n",
              "</style>\n",
              "<table border=\"1\" class=\"dataframe\">\n",
              "  <thead>\n",
              "    <tr style=\"text-align: right;\">\n",
              "      <th></th>\n",
              "      <th>birth_year</th>\n",
              "      <th>generation</th>\n",
              "    </tr>\n",
              "  </thead>\n",
              "  <tbody>\n",
              "    <tr>\n",
              "      <th>0</th>\n",
              "      <td>1946</td>\n",
              "      <td>Baby Boomers</td>\n",
              "    </tr>\n",
              "    <tr>\n",
              "      <th>1</th>\n",
              "      <td>1947</td>\n",
              "      <td>Baby Boomers</td>\n",
              "    </tr>\n",
              "    <tr>\n",
              "      <th>2</th>\n",
              "      <td>1948</td>\n",
              "      <td>Baby Boomers</td>\n",
              "    </tr>\n",
              "    <tr>\n",
              "      <th>3</th>\n",
              "      <td>1949</td>\n",
              "      <td>Baby Boomers</td>\n",
              "    </tr>\n",
              "    <tr>\n",
              "      <th>4</th>\n",
              "      <td>1950</td>\n",
              "      <td>Baby Boomers</td>\n",
              "    </tr>\n",
              "  </tbody>\n",
              "</table>\n",
              "</div>\n",
              "      <button class=\"colab-df-convert\" onclick=\"convertToInteractive('df-01448d51-ec15-498c-a979-3c74062bbb28')\"\n",
              "              title=\"Convert this dataframe to an interactive table.\"\n",
              "              style=\"display:none;\">\n",
              "        \n",
              "  <svg xmlns=\"http://www.w3.org/2000/svg\" height=\"24px\"viewBox=\"0 0 24 24\"\n",
              "       width=\"24px\">\n",
              "    <path d=\"M0 0h24v24H0V0z\" fill=\"none\"/>\n",
              "    <path d=\"M18.56 5.44l.94 2.06.94-2.06 2.06-.94-2.06-.94-.94-2.06-.94 2.06-2.06.94zm-11 1L8.5 8.5l.94-2.06 2.06-.94-2.06-.94L8.5 2.5l-.94 2.06-2.06.94zm10 10l.94 2.06.94-2.06 2.06-.94-2.06-.94-.94-2.06-.94 2.06-2.06.94z\"/><path d=\"M17.41 7.96l-1.37-1.37c-.4-.4-.92-.59-1.43-.59-.52 0-1.04.2-1.43.59L10.3 9.45l-7.72 7.72c-.78.78-.78 2.05 0 2.83L4 21.41c.39.39.9.59 1.41.59.51 0 1.02-.2 1.41-.59l7.78-7.78 2.81-2.81c.8-.78.8-2.07 0-2.86zM5.41 20L4 18.59l7.72-7.72 1.47 1.35L5.41 20z\"/>\n",
              "  </svg>\n",
              "      </button>\n",
              "      \n",
              "  <style>\n",
              "    .colab-df-container {\n",
              "      display:flex;\n",
              "      flex-wrap:wrap;\n",
              "      gap: 12px;\n",
              "    }\n",
              "\n",
              "    .colab-df-convert {\n",
              "      background-color: #E8F0FE;\n",
              "      border: none;\n",
              "      border-radius: 50%;\n",
              "      cursor: pointer;\n",
              "      display: none;\n",
              "      fill: #1967D2;\n",
              "      height: 32px;\n",
              "      padding: 0 0 0 0;\n",
              "      width: 32px;\n",
              "    }\n",
              "\n",
              "    .colab-df-convert:hover {\n",
              "      background-color: #E2EBFA;\n",
              "      box-shadow: 0px 1px 2px rgba(60, 64, 67, 0.3), 0px 1px 3px 1px rgba(60, 64, 67, 0.15);\n",
              "      fill: #174EA6;\n",
              "    }\n",
              "\n",
              "    [theme=dark] .colab-df-convert {\n",
              "      background-color: #3B4455;\n",
              "      fill: #D2E3FC;\n",
              "    }\n",
              "\n",
              "    [theme=dark] .colab-df-convert:hover {\n",
              "      background-color: #434B5C;\n",
              "      box-shadow: 0px 1px 3px 1px rgba(0, 0, 0, 0.15);\n",
              "      filter: drop-shadow(0px 1px 2px rgba(0, 0, 0, 0.3));\n",
              "      fill: #FFFFFF;\n",
              "    }\n",
              "  </style>\n",
              "\n",
              "      <script>\n",
              "        const buttonEl =\n",
              "          document.querySelector('#df-01448d51-ec15-498c-a979-3c74062bbb28 button.colab-df-convert');\n",
              "        buttonEl.style.display =\n",
              "          google.colab.kernel.accessAllowed ? 'block' : 'none';\n",
              "\n",
              "        async function convertToInteractive(key) {\n",
              "          const element = document.querySelector('#df-01448d51-ec15-498c-a979-3c74062bbb28');\n",
              "          const dataTable =\n",
              "            await google.colab.kernel.invokeFunction('convertToInteractive',\n",
              "                                                     [key], {});\n",
              "          if (!dataTable) return;\n",
              "\n",
              "          const docLinkHtml = 'Like what you see? Visit the ' +\n",
              "            '<a target=\"_blank\" href=https://colab.research.google.com/notebooks/data_table.ipynb>data table notebook</a>'\n",
              "            + ' to learn more about interactive tables.';\n",
              "          element.innerHTML = '';\n",
              "          dataTable['output_type'] = 'display_data';\n",
              "          await google.colab.output.renderOutput(dataTable, element);\n",
              "          const docLink = document.createElement('div');\n",
              "          docLink.innerHTML = docLinkHtml;\n",
              "          element.appendChild(docLink);\n",
              "        }\n",
              "      </script>\n",
              "    </div>\n",
              "  </div>\n",
              "  "
            ]
          },
          "metadata": {},
          "execution_count": 24
        }
      ]
    },
    {
      "cell_type": "code",
      "source": [
        "# Cek tipe data & missing value\n",
        "Gen.info()"
      ],
      "metadata": {
        "colab": {
          "base_uri": "https://localhost:8080/"
        },
        "id": "7oWQGaIUfzNT",
        "outputId": "a629598c-05fd-4068-a84e-8b719f57cd37"
      },
      "execution_count": 25,
      "outputs": [
        {
          "output_type": "stream",
          "name": "stdout",
          "text": [
            "<class 'pandas.core.frame.DataFrame'>\n",
            "RangeIndex: 70 entries, 0 to 69\n",
            "Data columns (total 2 columns):\n",
            " #   Column      Non-Null Count  Dtype \n",
            "---  ------      --------------  ----- \n",
            " 0   birth_year  70 non-null     int64 \n",
            " 1   generation  70 non-null     object\n",
            "dtypes: int64(1), object(1)\n",
            "memory usage: 1.2+ KB\n"
          ]
        }
      ]
    },
    {
      "cell_type": "markdown",
      "source": [
        "Dari info data generations tidak adanya missing value dan tipe data sudah benar"
      ],
      "metadata": {
        "id": "7Quir-5hgc00"
      }
    },
    {
      "cell_type": "code",
      "source": [
        "# cek duplicate\n",
        "Gen[Gen.duplicated(keep=False)]"
      ],
      "metadata": {
        "colab": {
          "base_uri": "https://localhost:8080/",
          "height": 49
        },
        "id": "jY-_gzNngmVb",
        "outputId": "717ffcb9-7514-4c84-8b26-fdc62df8742b"
      },
      "execution_count": 26,
      "outputs": [
        {
          "output_type": "execute_result",
          "data": {
            "text/plain": [
              "Empty DataFrame\n",
              "Columns: [birth_year, generation]\n",
              "Index: []"
            ],
            "text/html": [
              "\n",
              "  <div id=\"df-666c1da0-4fa2-4df2-b556-fe1f01d4a581\">\n",
              "    <div class=\"colab-df-container\">\n",
              "      <div>\n",
              "<style scoped>\n",
              "    .dataframe tbody tr th:only-of-type {\n",
              "        vertical-align: middle;\n",
              "    }\n",
              "\n",
              "    .dataframe tbody tr th {\n",
              "        vertical-align: top;\n",
              "    }\n",
              "\n",
              "    .dataframe thead th {\n",
              "        text-align: right;\n",
              "    }\n",
              "</style>\n",
              "<table border=\"1\" class=\"dataframe\">\n",
              "  <thead>\n",
              "    <tr style=\"text-align: right;\">\n",
              "      <th></th>\n",
              "      <th>birth_year</th>\n",
              "      <th>generation</th>\n",
              "    </tr>\n",
              "  </thead>\n",
              "  <tbody>\n",
              "  </tbody>\n",
              "</table>\n",
              "</div>\n",
              "      <button class=\"colab-df-convert\" onclick=\"convertToInteractive('df-666c1da0-4fa2-4df2-b556-fe1f01d4a581')\"\n",
              "              title=\"Convert this dataframe to an interactive table.\"\n",
              "              style=\"display:none;\">\n",
              "        \n",
              "  <svg xmlns=\"http://www.w3.org/2000/svg\" height=\"24px\"viewBox=\"0 0 24 24\"\n",
              "       width=\"24px\">\n",
              "    <path d=\"M0 0h24v24H0V0z\" fill=\"none\"/>\n",
              "    <path d=\"M18.56 5.44l.94 2.06.94-2.06 2.06-.94-2.06-.94-.94-2.06-.94 2.06-2.06.94zm-11 1L8.5 8.5l.94-2.06 2.06-.94-2.06-.94L8.5 2.5l-.94 2.06-2.06.94zm10 10l.94 2.06.94-2.06 2.06-.94-2.06-.94-.94-2.06-.94 2.06-2.06.94z\"/><path d=\"M17.41 7.96l-1.37-1.37c-.4-.4-.92-.59-1.43-.59-.52 0-1.04.2-1.43.59L10.3 9.45l-7.72 7.72c-.78.78-.78 2.05 0 2.83L4 21.41c.39.39.9.59 1.41.59.51 0 1.02-.2 1.41-.59l7.78-7.78 2.81-2.81c.8-.78.8-2.07 0-2.86zM5.41 20L4 18.59l7.72-7.72 1.47 1.35L5.41 20z\"/>\n",
              "  </svg>\n",
              "      </button>\n",
              "      \n",
              "  <style>\n",
              "    .colab-df-container {\n",
              "      display:flex;\n",
              "      flex-wrap:wrap;\n",
              "      gap: 12px;\n",
              "    }\n",
              "\n",
              "    .colab-df-convert {\n",
              "      background-color: #E8F0FE;\n",
              "      border: none;\n",
              "      border-radius: 50%;\n",
              "      cursor: pointer;\n",
              "      display: none;\n",
              "      fill: #1967D2;\n",
              "      height: 32px;\n",
              "      padding: 0 0 0 0;\n",
              "      width: 32px;\n",
              "    }\n",
              "\n",
              "    .colab-df-convert:hover {\n",
              "      background-color: #E2EBFA;\n",
              "      box-shadow: 0px 1px 2px rgba(60, 64, 67, 0.3), 0px 1px 3px 1px rgba(60, 64, 67, 0.15);\n",
              "      fill: #174EA6;\n",
              "    }\n",
              "\n",
              "    [theme=dark] .colab-df-convert {\n",
              "      background-color: #3B4455;\n",
              "      fill: #D2E3FC;\n",
              "    }\n",
              "\n",
              "    [theme=dark] .colab-df-convert:hover {\n",
              "      background-color: #434B5C;\n",
              "      box-shadow: 0px 1px 3px 1px rgba(0, 0, 0, 0.15);\n",
              "      filter: drop-shadow(0px 1px 2px rgba(0, 0, 0, 0.3));\n",
              "      fill: #FFFFFF;\n",
              "    }\n",
              "  </style>\n",
              "\n",
              "      <script>\n",
              "        const buttonEl =\n",
              "          document.querySelector('#df-666c1da0-4fa2-4df2-b556-fe1f01d4a581 button.colab-df-convert');\n",
              "        buttonEl.style.display =\n",
              "          google.colab.kernel.accessAllowed ? 'block' : 'none';\n",
              "\n",
              "        async function convertToInteractive(key) {\n",
              "          const element = document.querySelector('#df-666c1da0-4fa2-4df2-b556-fe1f01d4a581');\n",
              "          const dataTable =\n",
              "            await google.colab.kernel.invokeFunction('convertToInteractive',\n",
              "                                                     [key], {});\n",
              "          if (!dataTable) return;\n",
              "\n",
              "          const docLinkHtml = 'Like what you see? Visit the ' +\n",
              "            '<a target=\"_blank\" href=https://colab.research.google.com/notebooks/data_table.ipynb>data table notebook</a>'\n",
              "            + ' to learn more about interactive tables.';\n",
              "          element.innerHTML = '';\n",
              "          dataTable['output_type'] = 'display_data';\n",
              "          await google.colab.output.renderOutput(dataTable, element);\n",
              "          const docLink = document.createElement('div');\n",
              "          docLink.innerHTML = docLinkHtml;\n",
              "          element.appendChild(docLink);\n",
              "        }\n",
              "      </script>\n",
              "    </div>\n",
              "  </div>\n",
              "  "
            ]
          },
          "metadata": {},
          "execution_count": 26
        }
      ]
    },
    {
      "cell_type": "code",
      "source": [
        "# cek outlier\n",
        "hasil_outlier(Gen['birth_year'])"
      ],
      "metadata": {
        "colab": {
          "base_uri": "https://localhost:8080/"
        },
        "id": "0PgpeUOrguwF",
        "outputId": "ab9db582-9582-43eb-8b5d-c2b04654a179"
      },
      "execution_count": 27,
      "outputs": [
        {
          "output_type": "stream",
          "name": "stdout",
          "text": [
            "Banyaknya outlier  0\n",
            "Beberapa outlier dari data:  []\n"
          ]
        }
      ]
    },
    {
      "cell_type": "markdown",
      "source": [
        "#### Data prep Pastry_Inventory"
      ],
      "metadata": {
        "id": "5fX6fPiJckVE"
      }
    },
    {
      "cell_type": "code",
      "source": [
        "# Membaca data\n",
        "Pas_inv = pd.read_csv(path+'Pastry_Inventory.csv')\n",
        "Pas_inv.head()"
      ],
      "metadata": {
        "colab": {
          "base_uri": "https://localhost:8080/",
          "height": 206
        },
        "id": "oMYhaNJNiwjb",
        "outputId": "cfc33bd3-c295-49a9-f3a1-861fc76932d5"
      },
      "execution_count": 28,
      "outputs": [
        {
          "output_type": "execute_result",
          "data": {
            "text/plain": [
              "   sales_outlet_id transaction_date  product_id  start_of_day  quantity_sold  \\\n",
              "0                3         4/1/2019          69            18              8   \n",
              "1                3         4/1/2019          70            18             12   \n",
              "2                3         4/1/2019          71            18              8   \n",
              "3                3         4/1/2019          72            48              9   \n",
              "4                3         4/1/2019          73            18              9   \n",
              "\n",
              "   waste % waste  \n",
              "0     10     56%  \n",
              "1      6     33%  \n",
              "2     10     56%  \n",
              "3     39     81%  \n",
              "4      9     50%  "
            ],
            "text/html": [
              "\n",
              "  <div id=\"df-1da507ac-9715-4011-af37-f96277994323\">\n",
              "    <div class=\"colab-df-container\">\n",
              "      <div>\n",
              "<style scoped>\n",
              "    .dataframe tbody tr th:only-of-type {\n",
              "        vertical-align: middle;\n",
              "    }\n",
              "\n",
              "    .dataframe tbody tr th {\n",
              "        vertical-align: top;\n",
              "    }\n",
              "\n",
              "    .dataframe thead th {\n",
              "        text-align: right;\n",
              "    }\n",
              "</style>\n",
              "<table border=\"1\" class=\"dataframe\">\n",
              "  <thead>\n",
              "    <tr style=\"text-align: right;\">\n",
              "      <th></th>\n",
              "      <th>sales_outlet_id</th>\n",
              "      <th>transaction_date</th>\n",
              "      <th>product_id</th>\n",
              "      <th>start_of_day</th>\n",
              "      <th>quantity_sold</th>\n",
              "      <th>waste</th>\n",
              "      <th>% waste</th>\n",
              "    </tr>\n",
              "  </thead>\n",
              "  <tbody>\n",
              "    <tr>\n",
              "      <th>0</th>\n",
              "      <td>3</td>\n",
              "      <td>4/1/2019</td>\n",
              "      <td>69</td>\n",
              "      <td>18</td>\n",
              "      <td>8</td>\n",
              "      <td>10</td>\n",
              "      <td>56%</td>\n",
              "    </tr>\n",
              "    <tr>\n",
              "      <th>1</th>\n",
              "      <td>3</td>\n",
              "      <td>4/1/2019</td>\n",
              "      <td>70</td>\n",
              "      <td>18</td>\n",
              "      <td>12</td>\n",
              "      <td>6</td>\n",
              "      <td>33%</td>\n",
              "    </tr>\n",
              "    <tr>\n",
              "      <th>2</th>\n",
              "      <td>3</td>\n",
              "      <td>4/1/2019</td>\n",
              "      <td>71</td>\n",
              "      <td>18</td>\n",
              "      <td>8</td>\n",
              "      <td>10</td>\n",
              "      <td>56%</td>\n",
              "    </tr>\n",
              "    <tr>\n",
              "      <th>3</th>\n",
              "      <td>3</td>\n",
              "      <td>4/1/2019</td>\n",
              "      <td>72</td>\n",
              "      <td>48</td>\n",
              "      <td>9</td>\n",
              "      <td>39</td>\n",
              "      <td>81%</td>\n",
              "    </tr>\n",
              "    <tr>\n",
              "      <th>4</th>\n",
              "      <td>3</td>\n",
              "      <td>4/1/2019</td>\n",
              "      <td>73</td>\n",
              "      <td>18</td>\n",
              "      <td>9</td>\n",
              "      <td>9</td>\n",
              "      <td>50%</td>\n",
              "    </tr>\n",
              "  </tbody>\n",
              "</table>\n",
              "</div>\n",
              "      <button class=\"colab-df-convert\" onclick=\"convertToInteractive('df-1da507ac-9715-4011-af37-f96277994323')\"\n",
              "              title=\"Convert this dataframe to an interactive table.\"\n",
              "              style=\"display:none;\">\n",
              "        \n",
              "  <svg xmlns=\"http://www.w3.org/2000/svg\" height=\"24px\"viewBox=\"0 0 24 24\"\n",
              "       width=\"24px\">\n",
              "    <path d=\"M0 0h24v24H0V0z\" fill=\"none\"/>\n",
              "    <path d=\"M18.56 5.44l.94 2.06.94-2.06 2.06-.94-2.06-.94-.94-2.06-.94 2.06-2.06.94zm-11 1L8.5 8.5l.94-2.06 2.06-.94-2.06-.94L8.5 2.5l-.94 2.06-2.06.94zm10 10l.94 2.06.94-2.06 2.06-.94-2.06-.94-.94-2.06-.94 2.06-2.06.94z\"/><path d=\"M17.41 7.96l-1.37-1.37c-.4-.4-.92-.59-1.43-.59-.52 0-1.04.2-1.43.59L10.3 9.45l-7.72 7.72c-.78.78-.78 2.05 0 2.83L4 21.41c.39.39.9.59 1.41.59.51 0 1.02-.2 1.41-.59l7.78-7.78 2.81-2.81c.8-.78.8-2.07 0-2.86zM5.41 20L4 18.59l7.72-7.72 1.47 1.35L5.41 20z\"/>\n",
              "  </svg>\n",
              "      </button>\n",
              "      \n",
              "  <style>\n",
              "    .colab-df-container {\n",
              "      display:flex;\n",
              "      flex-wrap:wrap;\n",
              "      gap: 12px;\n",
              "    }\n",
              "\n",
              "    .colab-df-convert {\n",
              "      background-color: #E8F0FE;\n",
              "      border: none;\n",
              "      border-radius: 50%;\n",
              "      cursor: pointer;\n",
              "      display: none;\n",
              "      fill: #1967D2;\n",
              "      height: 32px;\n",
              "      padding: 0 0 0 0;\n",
              "      width: 32px;\n",
              "    }\n",
              "\n",
              "    .colab-df-convert:hover {\n",
              "      background-color: #E2EBFA;\n",
              "      box-shadow: 0px 1px 2px rgba(60, 64, 67, 0.3), 0px 1px 3px 1px rgba(60, 64, 67, 0.15);\n",
              "      fill: #174EA6;\n",
              "    }\n",
              "\n",
              "    [theme=dark] .colab-df-convert {\n",
              "      background-color: #3B4455;\n",
              "      fill: #D2E3FC;\n",
              "    }\n",
              "\n",
              "    [theme=dark] .colab-df-convert:hover {\n",
              "      background-color: #434B5C;\n",
              "      box-shadow: 0px 1px 3px 1px rgba(0, 0, 0, 0.15);\n",
              "      filter: drop-shadow(0px 1px 2px rgba(0, 0, 0, 0.3));\n",
              "      fill: #FFFFFF;\n",
              "    }\n",
              "  </style>\n",
              "\n",
              "      <script>\n",
              "        const buttonEl =\n",
              "          document.querySelector('#df-1da507ac-9715-4011-af37-f96277994323 button.colab-df-convert');\n",
              "        buttonEl.style.display =\n",
              "          google.colab.kernel.accessAllowed ? 'block' : 'none';\n",
              "\n",
              "        async function convertToInteractive(key) {\n",
              "          const element = document.querySelector('#df-1da507ac-9715-4011-af37-f96277994323');\n",
              "          const dataTable =\n",
              "            await google.colab.kernel.invokeFunction('convertToInteractive',\n",
              "                                                     [key], {});\n",
              "          if (!dataTable) return;\n",
              "\n",
              "          const docLinkHtml = 'Like what you see? Visit the ' +\n",
              "            '<a target=\"_blank\" href=https://colab.research.google.com/notebooks/data_table.ipynb>data table notebook</a>'\n",
              "            + ' to learn more about interactive tables.';\n",
              "          element.innerHTML = '';\n",
              "          dataTable['output_type'] = 'display_data';\n",
              "          await google.colab.output.renderOutput(dataTable, element);\n",
              "          const docLink = document.createElement('div');\n",
              "          docLink.innerHTML = docLinkHtml;\n",
              "          element.appendChild(docLink);\n",
              "        }\n",
              "      </script>\n",
              "    </div>\n",
              "  </div>\n",
              "  "
            ]
          },
          "metadata": {},
          "execution_count": 28
        }
      ]
    },
    {
      "cell_type": "code",
      "source": [
        "# cek tipe data & missing value\n",
        "Pas_inv.info()"
      ],
      "metadata": {
        "colab": {
          "base_uri": "https://localhost:8080/"
        },
        "id": "BU4Mz8IWkPZg",
        "outputId": "dad23cef-b71e-4ee2-803b-50654d603152"
      },
      "execution_count": 29,
      "outputs": [
        {
          "output_type": "stream",
          "name": "stdout",
          "text": [
            "<class 'pandas.core.frame.DataFrame'>\n",
            "RangeIndex: 307 entries, 0 to 306\n",
            "Data columns (total 7 columns):\n",
            " #   Column            Non-Null Count  Dtype \n",
            "---  ------            --------------  ----- \n",
            " 0   sales_outlet_id   307 non-null    int64 \n",
            " 1   transaction_date  307 non-null    object\n",
            " 2   product_id        307 non-null    int64 \n",
            " 3   start_of_day      307 non-null    int64 \n",
            " 4   quantity_sold     307 non-null    int64 \n",
            " 5   waste             307 non-null    int64 \n",
            " 6   % waste           307 non-null    object\n",
            "dtypes: int64(5), object(2)\n",
            "memory usage: 16.9+ KB\n"
          ]
        }
      ]
    },
    {
      "cell_type": "markdown",
      "source": [
        "Dari data tersebut tipe data pada sales_outlet_id dan product_id akan diganti menjadi object dan tipe data transaction_date diganti menjadi date, sedangkan %waste akan diganti float"
      ],
      "metadata": {
        "id": "_YFrGgJ7kzcm"
      }
    },
    {
      "cell_type": "code",
      "source": [
        "# Mengubah tipe data yang tidak sesuai\n",
        "to_string = ['sales_outlet_id','product_id']\n",
        "for string in to_string:\n",
        "  Pas_inv[string]=(Pas_inv[string]).astype(str)\n",
        "\n",
        "Pas_inv['transaction_date']=pd.to_datetime(Pas_inv['transaction_date'])"
      ],
      "metadata": {
        "id": "OprZIGSilfm-"
      },
      "execution_count": 30,
      "outputs": []
    },
    {
      "cell_type": "code",
      "source": [
        "# Hapus terlebih dahulu tanda %\n",
        "Pas_inv['% waste'] = Pas_inv['% waste'].str.replace('%','')\n",
        "#ubah ke integer\n",
        "Pas_inv['% waste'] = Pas_inv['% waste'].astype(int)"
      ],
      "metadata": {
        "id": "AFiyH_Qrnm32"
      },
      "execution_count": 31,
      "outputs": []
    },
    {
      "cell_type": "code",
      "source": [
        "Pas_inv.info()"
      ],
      "metadata": {
        "colab": {
          "base_uri": "https://localhost:8080/"
        },
        "id": "E8VWHHklpcVb",
        "outputId": "27469d36-bffc-40b1-c44c-3ad39f99464a"
      },
      "execution_count": 32,
      "outputs": [
        {
          "output_type": "stream",
          "name": "stdout",
          "text": [
            "<class 'pandas.core.frame.DataFrame'>\n",
            "RangeIndex: 307 entries, 0 to 306\n",
            "Data columns (total 7 columns):\n",
            " #   Column            Non-Null Count  Dtype         \n",
            "---  ------            --------------  -----         \n",
            " 0   sales_outlet_id   307 non-null    object        \n",
            " 1   transaction_date  307 non-null    datetime64[ns]\n",
            " 2   product_id        307 non-null    object        \n",
            " 3   start_of_day      307 non-null    int64         \n",
            " 4   quantity_sold     307 non-null    int64         \n",
            " 5   waste             307 non-null    int64         \n",
            " 6   % waste           307 non-null    int64         \n",
            "dtypes: datetime64[ns](1), int64(4), object(2)\n",
            "memory usage: 16.9+ KB\n"
          ]
        }
      ]
    },
    {
      "cell_type": "code",
      "source": [
        "Pas_inv.head()"
      ],
      "metadata": {
        "colab": {
          "base_uri": "https://localhost:8080/",
          "height": 206
        },
        "id": "ibdl5qSpsF6a",
        "outputId": "f6a31f42-bdb6-4a48-e2b7-2e270940622d"
      },
      "execution_count": 33,
      "outputs": [
        {
          "output_type": "execute_result",
          "data": {
            "text/plain": [
              "  sales_outlet_id transaction_date product_id  start_of_day  quantity_sold  \\\n",
              "0               3       2019-04-01         69            18              8   \n",
              "1               3       2019-04-01         70            18             12   \n",
              "2               3       2019-04-01         71            18              8   \n",
              "3               3       2019-04-01         72            48              9   \n",
              "4               3       2019-04-01         73            18              9   \n",
              "\n",
              "   waste  % waste  \n",
              "0     10       56  \n",
              "1      6       33  \n",
              "2     10       56  \n",
              "3     39       81  \n",
              "4      9       50  "
            ],
            "text/html": [
              "\n",
              "  <div id=\"df-45c0a93c-7343-41ca-b548-22a84339bf56\">\n",
              "    <div class=\"colab-df-container\">\n",
              "      <div>\n",
              "<style scoped>\n",
              "    .dataframe tbody tr th:only-of-type {\n",
              "        vertical-align: middle;\n",
              "    }\n",
              "\n",
              "    .dataframe tbody tr th {\n",
              "        vertical-align: top;\n",
              "    }\n",
              "\n",
              "    .dataframe thead th {\n",
              "        text-align: right;\n",
              "    }\n",
              "</style>\n",
              "<table border=\"1\" class=\"dataframe\">\n",
              "  <thead>\n",
              "    <tr style=\"text-align: right;\">\n",
              "      <th></th>\n",
              "      <th>sales_outlet_id</th>\n",
              "      <th>transaction_date</th>\n",
              "      <th>product_id</th>\n",
              "      <th>start_of_day</th>\n",
              "      <th>quantity_sold</th>\n",
              "      <th>waste</th>\n",
              "      <th>% waste</th>\n",
              "    </tr>\n",
              "  </thead>\n",
              "  <tbody>\n",
              "    <tr>\n",
              "      <th>0</th>\n",
              "      <td>3</td>\n",
              "      <td>2019-04-01</td>\n",
              "      <td>69</td>\n",
              "      <td>18</td>\n",
              "      <td>8</td>\n",
              "      <td>10</td>\n",
              "      <td>56</td>\n",
              "    </tr>\n",
              "    <tr>\n",
              "      <th>1</th>\n",
              "      <td>3</td>\n",
              "      <td>2019-04-01</td>\n",
              "      <td>70</td>\n",
              "      <td>18</td>\n",
              "      <td>12</td>\n",
              "      <td>6</td>\n",
              "      <td>33</td>\n",
              "    </tr>\n",
              "    <tr>\n",
              "      <th>2</th>\n",
              "      <td>3</td>\n",
              "      <td>2019-04-01</td>\n",
              "      <td>71</td>\n",
              "      <td>18</td>\n",
              "      <td>8</td>\n",
              "      <td>10</td>\n",
              "      <td>56</td>\n",
              "    </tr>\n",
              "    <tr>\n",
              "      <th>3</th>\n",
              "      <td>3</td>\n",
              "      <td>2019-04-01</td>\n",
              "      <td>72</td>\n",
              "      <td>48</td>\n",
              "      <td>9</td>\n",
              "      <td>39</td>\n",
              "      <td>81</td>\n",
              "    </tr>\n",
              "    <tr>\n",
              "      <th>4</th>\n",
              "      <td>3</td>\n",
              "      <td>2019-04-01</td>\n",
              "      <td>73</td>\n",
              "      <td>18</td>\n",
              "      <td>9</td>\n",
              "      <td>9</td>\n",
              "      <td>50</td>\n",
              "    </tr>\n",
              "  </tbody>\n",
              "</table>\n",
              "</div>\n",
              "      <button class=\"colab-df-convert\" onclick=\"convertToInteractive('df-45c0a93c-7343-41ca-b548-22a84339bf56')\"\n",
              "              title=\"Convert this dataframe to an interactive table.\"\n",
              "              style=\"display:none;\">\n",
              "        \n",
              "  <svg xmlns=\"http://www.w3.org/2000/svg\" height=\"24px\"viewBox=\"0 0 24 24\"\n",
              "       width=\"24px\">\n",
              "    <path d=\"M0 0h24v24H0V0z\" fill=\"none\"/>\n",
              "    <path d=\"M18.56 5.44l.94 2.06.94-2.06 2.06-.94-2.06-.94-.94-2.06-.94 2.06-2.06.94zm-11 1L8.5 8.5l.94-2.06 2.06-.94-2.06-.94L8.5 2.5l-.94 2.06-2.06.94zm10 10l.94 2.06.94-2.06 2.06-.94-2.06-.94-.94-2.06-.94 2.06-2.06.94z\"/><path d=\"M17.41 7.96l-1.37-1.37c-.4-.4-.92-.59-1.43-.59-.52 0-1.04.2-1.43.59L10.3 9.45l-7.72 7.72c-.78.78-.78 2.05 0 2.83L4 21.41c.39.39.9.59 1.41.59.51 0 1.02-.2 1.41-.59l7.78-7.78 2.81-2.81c.8-.78.8-2.07 0-2.86zM5.41 20L4 18.59l7.72-7.72 1.47 1.35L5.41 20z\"/>\n",
              "  </svg>\n",
              "      </button>\n",
              "      \n",
              "  <style>\n",
              "    .colab-df-container {\n",
              "      display:flex;\n",
              "      flex-wrap:wrap;\n",
              "      gap: 12px;\n",
              "    }\n",
              "\n",
              "    .colab-df-convert {\n",
              "      background-color: #E8F0FE;\n",
              "      border: none;\n",
              "      border-radius: 50%;\n",
              "      cursor: pointer;\n",
              "      display: none;\n",
              "      fill: #1967D2;\n",
              "      height: 32px;\n",
              "      padding: 0 0 0 0;\n",
              "      width: 32px;\n",
              "    }\n",
              "\n",
              "    .colab-df-convert:hover {\n",
              "      background-color: #E2EBFA;\n",
              "      box-shadow: 0px 1px 2px rgba(60, 64, 67, 0.3), 0px 1px 3px 1px rgba(60, 64, 67, 0.15);\n",
              "      fill: #174EA6;\n",
              "    }\n",
              "\n",
              "    [theme=dark] .colab-df-convert {\n",
              "      background-color: #3B4455;\n",
              "      fill: #D2E3FC;\n",
              "    }\n",
              "\n",
              "    [theme=dark] .colab-df-convert:hover {\n",
              "      background-color: #434B5C;\n",
              "      box-shadow: 0px 1px 3px 1px rgba(0, 0, 0, 0.15);\n",
              "      filter: drop-shadow(0px 1px 2px rgba(0, 0, 0, 0.3));\n",
              "      fill: #FFFFFF;\n",
              "    }\n",
              "  </style>\n",
              "\n",
              "      <script>\n",
              "        const buttonEl =\n",
              "          document.querySelector('#df-45c0a93c-7343-41ca-b548-22a84339bf56 button.colab-df-convert');\n",
              "        buttonEl.style.display =\n",
              "          google.colab.kernel.accessAllowed ? 'block' : 'none';\n",
              "\n",
              "        async function convertToInteractive(key) {\n",
              "          const element = document.querySelector('#df-45c0a93c-7343-41ca-b548-22a84339bf56');\n",
              "          const dataTable =\n",
              "            await google.colab.kernel.invokeFunction('convertToInteractive',\n",
              "                                                     [key], {});\n",
              "          if (!dataTable) return;\n",
              "\n",
              "          const docLinkHtml = 'Like what you see? Visit the ' +\n",
              "            '<a target=\"_blank\" href=https://colab.research.google.com/notebooks/data_table.ipynb>data table notebook</a>'\n",
              "            + ' to learn more about interactive tables.';\n",
              "          element.innerHTML = '';\n",
              "          dataTable['output_type'] = 'display_data';\n",
              "          await google.colab.output.renderOutput(dataTable, element);\n",
              "          const docLink = document.createElement('div');\n",
              "          docLink.innerHTML = docLinkHtml;\n",
              "          element.appendChild(docLink);\n",
              "        }\n",
              "      </script>\n",
              "    </div>\n",
              "  </div>\n",
              "  "
            ]
          },
          "metadata": {},
          "execution_count": 33
        }
      ]
    },
    {
      "cell_type": "code",
      "source": [
        "# cek duplicate\n",
        "Pas_inv[Pas_inv.duplicated(keep=False)]"
      ],
      "metadata": {
        "colab": {
          "base_uri": "https://localhost:8080/",
          "height": 49
        },
        "id": "NIGBJ3jLp9Jz",
        "outputId": "7ac84a49-bf06-4a4d-897f-2e5afd8d3f64"
      },
      "execution_count": 34,
      "outputs": [
        {
          "output_type": "execute_result",
          "data": {
            "text/plain": [
              "Empty DataFrame\n",
              "Columns: [sales_outlet_id, transaction_date, product_id, start_of_day, quantity_sold, waste, % waste]\n",
              "Index: []"
            ],
            "text/html": [
              "\n",
              "  <div id=\"df-81a1fd47-fd71-4e3f-8e1e-ba9aa5e5f189\">\n",
              "    <div class=\"colab-df-container\">\n",
              "      <div>\n",
              "<style scoped>\n",
              "    .dataframe tbody tr th:only-of-type {\n",
              "        vertical-align: middle;\n",
              "    }\n",
              "\n",
              "    .dataframe tbody tr th {\n",
              "        vertical-align: top;\n",
              "    }\n",
              "\n",
              "    .dataframe thead th {\n",
              "        text-align: right;\n",
              "    }\n",
              "</style>\n",
              "<table border=\"1\" class=\"dataframe\">\n",
              "  <thead>\n",
              "    <tr style=\"text-align: right;\">\n",
              "      <th></th>\n",
              "      <th>sales_outlet_id</th>\n",
              "      <th>transaction_date</th>\n",
              "      <th>product_id</th>\n",
              "      <th>start_of_day</th>\n",
              "      <th>quantity_sold</th>\n",
              "      <th>waste</th>\n",
              "      <th>% waste</th>\n",
              "    </tr>\n",
              "  </thead>\n",
              "  <tbody>\n",
              "  </tbody>\n",
              "</table>\n",
              "</div>\n",
              "      <button class=\"colab-df-convert\" onclick=\"convertToInteractive('df-81a1fd47-fd71-4e3f-8e1e-ba9aa5e5f189')\"\n",
              "              title=\"Convert this dataframe to an interactive table.\"\n",
              "              style=\"display:none;\">\n",
              "        \n",
              "  <svg xmlns=\"http://www.w3.org/2000/svg\" height=\"24px\"viewBox=\"0 0 24 24\"\n",
              "       width=\"24px\">\n",
              "    <path d=\"M0 0h24v24H0V0z\" fill=\"none\"/>\n",
              "    <path d=\"M18.56 5.44l.94 2.06.94-2.06 2.06-.94-2.06-.94-.94-2.06-.94 2.06-2.06.94zm-11 1L8.5 8.5l.94-2.06 2.06-.94-2.06-.94L8.5 2.5l-.94 2.06-2.06.94zm10 10l.94 2.06.94-2.06 2.06-.94-2.06-.94-.94-2.06-.94 2.06-2.06.94z\"/><path d=\"M17.41 7.96l-1.37-1.37c-.4-.4-.92-.59-1.43-.59-.52 0-1.04.2-1.43.59L10.3 9.45l-7.72 7.72c-.78.78-.78 2.05 0 2.83L4 21.41c.39.39.9.59 1.41.59.51 0 1.02-.2 1.41-.59l7.78-7.78 2.81-2.81c.8-.78.8-2.07 0-2.86zM5.41 20L4 18.59l7.72-7.72 1.47 1.35L5.41 20z\"/>\n",
              "  </svg>\n",
              "      </button>\n",
              "      \n",
              "  <style>\n",
              "    .colab-df-container {\n",
              "      display:flex;\n",
              "      flex-wrap:wrap;\n",
              "      gap: 12px;\n",
              "    }\n",
              "\n",
              "    .colab-df-convert {\n",
              "      background-color: #E8F0FE;\n",
              "      border: none;\n",
              "      border-radius: 50%;\n",
              "      cursor: pointer;\n",
              "      display: none;\n",
              "      fill: #1967D2;\n",
              "      height: 32px;\n",
              "      padding: 0 0 0 0;\n",
              "      width: 32px;\n",
              "    }\n",
              "\n",
              "    .colab-df-convert:hover {\n",
              "      background-color: #E2EBFA;\n",
              "      box-shadow: 0px 1px 2px rgba(60, 64, 67, 0.3), 0px 1px 3px 1px rgba(60, 64, 67, 0.15);\n",
              "      fill: #174EA6;\n",
              "    }\n",
              "\n",
              "    [theme=dark] .colab-df-convert {\n",
              "      background-color: #3B4455;\n",
              "      fill: #D2E3FC;\n",
              "    }\n",
              "\n",
              "    [theme=dark] .colab-df-convert:hover {\n",
              "      background-color: #434B5C;\n",
              "      box-shadow: 0px 1px 3px 1px rgba(0, 0, 0, 0.15);\n",
              "      filter: drop-shadow(0px 1px 2px rgba(0, 0, 0, 0.3));\n",
              "      fill: #FFFFFF;\n",
              "    }\n",
              "  </style>\n",
              "\n",
              "      <script>\n",
              "        const buttonEl =\n",
              "          document.querySelector('#df-81a1fd47-fd71-4e3f-8e1e-ba9aa5e5f189 button.colab-df-convert');\n",
              "        buttonEl.style.display =\n",
              "          google.colab.kernel.accessAllowed ? 'block' : 'none';\n",
              "\n",
              "        async function convertToInteractive(key) {\n",
              "          const element = document.querySelector('#df-81a1fd47-fd71-4e3f-8e1e-ba9aa5e5f189');\n",
              "          const dataTable =\n",
              "            await google.colab.kernel.invokeFunction('convertToInteractive',\n",
              "                                                     [key], {});\n",
              "          if (!dataTable) return;\n",
              "\n",
              "          const docLinkHtml = 'Like what you see? Visit the ' +\n",
              "            '<a target=\"_blank\" href=https://colab.research.google.com/notebooks/data_table.ipynb>data table notebook</a>'\n",
              "            + ' to learn more about interactive tables.';\n",
              "          element.innerHTML = '';\n",
              "          dataTable['output_type'] = 'display_data';\n",
              "          await google.colab.output.renderOutput(dataTable, element);\n",
              "          const docLink = document.createElement('div');\n",
              "          docLink.innerHTML = docLinkHtml;\n",
              "          element.appendChild(docLink);\n",
              "        }\n",
              "      </script>\n",
              "    </div>\n",
              "  </div>\n",
              "  "
            ]
          },
          "metadata": {},
          "execution_count": 34
        }
      ]
    },
    {
      "cell_type": "code",
      "source": [
        "# cek outlier\n",
        "hasil_outlier(Pas_inv['start_of_day'])"
      ],
      "metadata": {
        "colab": {
          "base_uri": "https://localhost:8080/"
        },
        "id": "51eMcq4fvo1u",
        "outputId": "c665f284-d604-4ad1-9723-66fea4c39889"
      },
      "execution_count": 35,
      "outputs": [
        {
          "output_type": "stream",
          "name": "stdout",
          "text": [
            "Banyaknya outlier  62\n",
            "Beberapa outlier dari data:  [48, 48, 48, 48, 48, 48, 48, 48, 48, 48, 48, 48, 48, 48, 48, 48, 48, 48, 48, 48, 48, 48, 48, 48, 48, 48, 48, 48, 48, 48, 48, 48, 48, 48, 48, 48, 48, 48, 48, 48, 48, 48, 48, 48, 48, 48, 48, 48, 48, 48, 48, 48, 48, 48, 48, 48, 48, 48, 48, 48, 48, 48]\n"
          ]
        }
      ]
    },
    {
      "cell_type": "code",
      "source": [
        "hasil_outlier(Pas_inv['quantity_sold'])"
      ],
      "metadata": {
        "colab": {
          "base_uri": "https://localhost:8080/"
        },
        "id": "o-1kkS4Kv1E_",
        "outputId": "c2e6c37a-96b8-42e4-91bd-e7d9262b4253"
      },
      "execution_count": 36,
      "outputs": [
        {
          "output_type": "stream",
          "name": "stdout",
          "text": [
            "Banyaknya outlier  21\n",
            "Beberapa outlier dari data:  [19, 20, 21, 21, 21, 22, 22, 22, 23, 23, 23, 23, 23, 24, 24, 27, 28, 29, 30, 31, 32]\n"
          ]
        }
      ]
    },
    {
      "cell_type": "code",
      "source": [
        "hasil_outlier(Pas_inv['waste'])"
      ],
      "metadata": {
        "colab": {
          "base_uri": "https://localhost:8080/"
        },
        "id": "XVeb9ojEv2Uw",
        "outputId": "783b5c03-d6ef-4c6c-fa75-ad656b925336"
      },
      "execution_count": 37,
      "outputs": [
        {
          "output_type": "stream",
          "name": "stdout",
          "text": [
            "Banyaknya outlier  49\n",
            "Beberapa outlier dari data:  [26, 26, 26, 27, 27, 27, 28, 29, 30, 30, 30, 32, 34, 37, 38, 38, 38, 38, 38, 38, 38, 39, 39, 39, 39, 39, 39, 40, 40, 40, 40, 40, 40, 41, 42, 43, 43, 44, 44, 44, 44, 44, 44, 45, 45, 45, 46, 46, 47]\n"
          ]
        }
      ]
    },
    {
      "cell_type": "code",
      "source": [
        "hasil_outlier(Pas_inv['% waste'])"
      ],
      "metadata": {
        "colab": {
          "base_uri": "https://localhost:8080/"
        },
        "id": "-bSeKl8sv47v",
        "outputId": "1deae6b6-93b0-4531-8b8a-12b82b379cf1"
      },
      "execution_count": 38,
      "outputs": [
        {
          "output_type": "stream",
          "name": "stdout",
          "text": [
            "Banyaknya outlier  4\n",
            "Beberapa outlier dari data:  [0, 0, 0, 0]\n"
          ]
        }
      ]
    },
    {
      "cell_type": "markdown",
      "source": [
        "Dari analisa outlier terdapat oulier pada data 'start_of_day','quantity_sold','waste', dan % waste. Tetapi tidak dilakukan handling outlier karena jika dilakukan handling outlier data yang akan dihasilkan akan bias"
      ],
      "metadata": {
        "id": "VtJSEqS5v6w4"
      }
    },
    {
      "cell_type": "markdown",
      "source": [
        "#### Data prep Product"
      ],
      "metadata": {
        "id": "raU5_bo2crm7"
      }
    },
    {
      "cell_type": "code",
      "source": [
        "# Membaca isi data\n",
        "Prod = pd.read_csv(path+'Product.csv')\n",
        "Prod.head()"
      ],
      "metadata": {
        "colab": {
          "base_uri": "https://localhost:8080/",
          "height": 354
        },
        "id": "cocoZuc2whsn",
        "outputId": "03abb358-8e32-4da1-97b9-eda00698fb67"
      },
      "execution_count": 39,
      "outputs": [
        {
          "output_type": "execute_result",
          "data": {
            "text/plain": [
              "   product_id    product_group product_category       product_type  \\\n",
              "0           1  Whole Bean/Teas     Coffee beans      Organic Beans   \n",
              "1           2  Whole Bean/Teas     Coffee beans  House blend Beans   \n",
              "2           3  Whole Bean/Teas     Coffee beans     Espresso Beans   \n",
              "3           4  Whole Bean/Teas     Coffee beans     Espresso Beans   \n",
              "4           5  Whole Bean/Teas     Coffee beans      Gourmet Beans   \n",
              "\n",
              "                    product  \\\n",
              "0       Brazilian - Organic   \n",
              "1  Our Old Time Diner Blend   \n",
              "2            Espresso Roast   \n",
              "3      Primo Espresso Roast   \n",
              "4    Columbian Medium Roast   \n",
              "\n",
              "                                 product_description unit_of_measure  \\\n",
              "0     It's like Carnival in a cup. Clean and smooth.           12 oz   \n",
              "1  Out packed blend of beans that is reminiscent ...           12 oz   \n",
              "2          Our house blend for a good espresso shot.            1 lb   \n",
              "3   Our primium single source of hand roasted beans.            1 lb   \n",
              "4           A smooth cup of coffee any time of day.             1 lb   \n",
              "\n",
              "   current_wholesale_price current_retail_price tax_exempt_yn promo_yn  \\\n",
              "0                    14.40              $18.00              Y        N   \n",
              "1                    14.40              $18.00              Y        N   \n",
              "2                    11.80              $14.75              Y        N   \n",
              "3                    16.36              $20.45              Y        N   \n",
              "4                    12.00              $15.00              Y        N   \n",
              "\n",
              "  new_product_yn  \n",
              "0              N  \n",
              "1              N  \n",
              "2              N  \n",
              "3              N  \n",
              "4              N  "
            ],
            "text/html": [
              "\n",
              "  <div id=\"df-58aaa3c8-e342-4590-a3f6-bf878cf5b6ee\">\n",
              "    <div class=\"colab-df-container\">\n",
              "      <div>\n",
              "<style scoped>\n",
              "    .dataframe tbody tr th:only-of-type {\n",
              "        vertical-align: middle;\n",
              "    }\n",
              "\n",
              "    .dataframe tbody tr th {\n",
              "        vertical-align: top;\n",
              "    }\n",
              "\n",
              "    .dataframe thead th {\n",
              "        text-align: right;\n",
              "    }\n",
              "</style>\n",
              "<table border=\"1\" class=\"dataframe\">\n",
              "  <thead>\n",
              "    <tr style=\"text-align: right;\">\n",
              "      <th></th>\n",
              "      <th>product_id</th>\n",
              "      <th>product_group</th>\n",
              "      <th>product_category</th>\n",
              "      <th>product_type</th>\n",
              "      <th>product</th>\n",
              "      <th>product_description</th>\n",
              "      <th>unit_of_measure</th>\n",
              "      <th>current_wholesale_price</th>\n",
              "      <th>current_retail_price</th>\n",
              "      <th>tax_exempt_yn</th>\n",
              "      <th>promo_yn</th>\n",
              "      <th>new_product_yn</th>\n",
              "    </tr>\n",
              "  </thead>\n",
              "  <tbody>\n",
              "    <tr>\n",
              "      <th>0</th>\n",
              "      <td>1</td>\n",
              "      <td>Whole Bean/Teas</td>\n",
              "      <td>Coffee beans</td>\n",
              "      <td>Organic Beans</td>\n",
              "      <td>Brazilian - Organic</td>\n",
              "      <td>It's like Carnival in a cup. Clean and smooth.</td>\n",
              "      <td>12 oz</td>\n",
              "      <td>14.40</td>\n",
              "      <td>$18.00</td>\n",
              "      <td>Y</td>\n",
              "      <td>N</td>\n",
              "      <td>N</td>\n",
              "    </tr>\n",
              "    <tr>\n",
              "      <th>1</th>\n",
              "      <td>2</td>\n",
              "      <td>Whole Bean/Teas</td>\n",
              "      <td>Coffee beans</td>\n",
              "      <td>House blend Beans</td>\n",
              "      <td>Our Old Time Diner Blend</td>\n",
              "      <td>Out packed blend of beans that is reminiscent ...</td>\n",
              "      <td>12 oz</td>\n",
              "      <td>14.40</td>\n",
              "      <td>$18.00</td>\n",
              "      <td>Y</td>\n",
              "      <td>N</td>\n",
              "      <td>N</td>\n",
              "    </tr>\n",
              "    <tr>\n",
              "      <th>2</th>\n",
              "      <td>3</td>\n",
              "      <td>Whole Bean/Teas</td>\n",
              "      <td>Coffee beans</td>\n",
              "      <td>Espresso Beans</td>\n",
              "      <td>Espresso Roast</td>\n",
              "      <td>Our house blend for a good espresso shot.</td>\n",
              "      <td>1 lb</td>\n",
              "      <td>11.80</td>\n",
              "      <td>$14.75</td>\n",
              "      <td>Y</td>\n",
              "      <td>N</td>\n",
              "      <td>N</td>\n",
              "    </tr>\n",
              "    <tr>\n",
              "      <th>3</th>\n",
              "      <td>4</td>\n",
              "      <td>Whole Bean/Teas</td>\n",
              "      <td>Coffee beans</td>\n",
              "      <td>Espresso Beans</td>\n",
              "      <td>Primo Espresso Roast</td>\n",
              "      <td>Our primium single source of hand roasted beans.</td>\n",
              "      <td>1 lb</td>\n",
              "      <td>16.36</td>\n",
              "      <td>$20.45</td>\n",
              "      <td>Y</td>\n",
              "      <td>N</td>\n",
              "      <td>N</td>\n",
              "    </tr>\n",
              "    <tr>\n",
              "      <th>4</th>\n",
              "      <td>5</td>\n",
              "      <td>Whole Bean/Teas</td>\n",
              "      <td>Coffee beans</td>\n",
              "      <td>Gourmet Beans</td>\n",
              "      <td>Columbian Medium Roast</td>\n",
              "      <td>A smooth cup of coffee any time of day.</td>\n",
              "      <td>1 lb</td>\n",
              "      <td>12.00</td>\n",
              "      <td>$15.00</td>\n",
              "      <td>Y</td>\n",
              "      <td>N</td>\n",
              "      <td>N</td>\n",
              "    </tr>\n",
              "  </tbody>\n",
              "</table>\n",
              "</div>\n",
              "      <button class=\"colab-df-convert\" onclick=\"convertToInteractive('df-58aaa3c8-e342-4590-a3f6-bf878cf5b6ee')\"\n",
              "              title=\"Convert this dataframe to an interactive table.\"\n",
              "              style=\"display:none;\">\n",
              "        \n",
              "  <svg xmlns=\"http://www.w3.org/2000/svg\" height=\"24px\"viewBox=\"0 0 24 24\"\n",
              "       width=\"24px\">\n",
              "    <path d=\"M0 0h24v24H0V0z\" fill=\"none\"/>\n",
              "    <path d=\"M18.56 5.44l.94 2.06.94-2.06 2.06-.94-2.06-.94-.94-2.06-.94 2.06-2.06.94zm-11 1L8.5 8.5l.94-2.06 2.06-.94-2.06-.94L8.5 2.5l-.94 2.06-2.06.94zm10 10l.94 2.06.94-2.06 2.06-.94-2.06-.94-.94-2.06-.94 2.06-2.06.94z\"/><path d=\"M17.41 7.96l-1.37-1.37c-.4-.4-.92-.59-1.43-.59-.52 0-1.04.2-1.43.59L10.3 9.45l-7.72 7.72c-.78.78-.78 2.05 0 2.83L4 21.41c.39.39.9.59 1.41.59.51 0 1.02-.2 1.41-.59l7.78-7.78 2.81-2.81c.8-.78.8-2.07 0-2.86zM5.41 20L4 18.59l7.72-7.72 1.47 1.35L5.41 20z\"/>\n",
              "  </svg>\n",
              "      </button>\n",
              "      \n",
              "  <style>\n",
              "    .colab-df-container {\n",
              "      display:flex;\n",
              "      flex-wrap:wrap;\n",
              "      gap: 12px;\n",
              "    }\n",
              "\n",
              "    .colab-df-convert {\n",
              "      background-color: #E8F0FE;\n",
              "      border: none;\n",
              "      border-radius: 50%;\n",
              "      cursor: pointer;\n",
              "      display: none;\n",
              "      fill: #1967D2;\n",
              "      height: 32px;\n",
              "      padding: 0 0 0 0;\n",
              "      width: 32px;\n",
              "    }\n",
              "\n",
              "    .colab-df-convert:hover {\n",
              "      background-color: #E2EBFA;\n",
              "      box-shadow: 0px 1px 2px rgba(60, 64, 67, 0.3), 0px 1px 3px 1px rgba(60, 64, 67, 0.15);\n",
              "      fill: #174EA6;\n",
              "    }\n",
              "\n",
              "    [theme=dark] .colab-df-convert {\n",
              "      background-color: #3B4455;\n",
              "      fill: #D2E3FC;\n",
              "    }\n",
              "\n",
              "    [theme=dark] .colab-df-convert:hover {\n",
              "      background-color: #434B5C;\n",
              "      box-shadow: 0px 1px 3px 1px rgba(0, 0, 0, 0.15);\n",
              "      filter: drop-shadow(0px 1px 2px rgba(0, 0, 0, 0.3));\n",
              "      fill: #FFFFFF;\n",
              "    }\n",
              "  </style>\n",
              "\n",
              "      <script>\n",
              "        const buttonEl =\n",
              "          document.querySelector('#df-58aaa3c8-e342-4590-a3f6-bf878cf5b6ee button.colab-df-convert');\n",
              "        buttonEl.style.display =\n",
              "          google.colab.kernel.accessAllowed ? 'block' : 'none';\n",
              "\n",
              "        async function convertToInteractive(key) {\n",
              "          const element = document.querySelector('#df-58aaa3c8-e342-4590-a3f6-bf878cf5b6ee');\n",
              "          const dataTable =\n",
              "            await google.colab.kernel.invokeFunction('convertToInteractive',\n",
              "                                                     [key], {});\n",
              "          if (!dataTable) return;\n",
              "\n",
              "          const docLinkHtml = 'Like what you see? Visit the ' +\n",
              "            '<a target=\"_blank\" href=https://colab.research.google.com/notebooks/data_table.ipynb>data table notebook</a>'\n",
              "            + ' to learn more about interactive tables.';\n",
              "          element.innerHTML = '';\n",
              "          dataTable['output_type'] = 'display_data';\n",
              "          await google.colab.output.renderOutput(dataTable, element);\n",
              "          const docLink = document.createElement('div');\n",
              "          docLink.innerHTML = docLinkHtml;\n",
              "          element.appendChild(docLink);\n",
              "        }\n",
              "      </script>\n",
              "    </div>\n",
              "  </div>\n",
              "  "
            ]
          },
          "metadata": {},
          "execution_count": 39
        }
      ]
    },
    {
      "cell_type": "code",
      "source": [
        "# cek tipe data & missing value\n",
        "Prod.info()"
      ],
      "metadata": {
        "colab": {
          "base_uri": "https://localhost:8080/"
        },
        "id": "ryCxepsGCpSI",
        "outputId": "cfc0118e-9613-4eb2-ba91-d7da0d326577"
      },
      "execution_count": 40,
      "outputs": [
        {
          "output_type": "stream",
          "name": "stdout",
          "text": [
            "<class 'pandas.core.frame.DataFrame'>\n",
            "RangeIndex: 88 entries, 0 to 87\n",
            "Data columns (total 12 columns):\n",
            " #   Column                   Non-Null Count  Dtype  \n",
            "---  ------                   --------------  -----  \n",
            " 0   product_id               88 non-null     int64  \n",
            " 1   product_group            88 non-null     object \n",
            " 2   product_category         88 non-null     object \n",
            " 3   product_type             88 non-null     object \n",
            " 4   product                  88 non-null     object \n",
            " 5   product_description      88 non-null     object \n",
            " 6   unit_of_measure          88 non-null     object \n",
            " 7   current_wholesale_price  88 non-null     float64\n",
            " 8   current_retail_price     88 non-null     object \n",
            " 9   tax_exempt_yn            88 non-null     object \n",
            " 10  promo_yn                 88 non-null     object \n",
            " 11  new_product_yn           88 non-null     object \n",
            "dtypes: float64(1), int64(1), object(10)\n",
            "memory usage: 8.4+ KB\n"
          ]
        }
      ]
    },
    {
      "cell_type": "markdown",
      "source": [
        "Dari  info data  Produk tidak ada missing value, tetapi ada beberapa colom yang tipe datanya ada perubahan seperti product_id ke object dan current_retail_price ke tipe data float"
      ],
      "metadata": {
        "id": "uz8yQ6AOCysK"
      }
    },
    {
      "cell_type": "code",
      "source": [
        "# Mengubah tipe data\n",
        "Prod['product_id']=Prod['product_id'].astype(str)\n",
        "\n",
        "# Mengubah tipe data current_retail_price tetapi replace tanda dolar terlebih dahulu\n",
        "Prod['current_retail_price'] = Prod['current_retail_price'].str.replace('$','')\n",
        "#ubah ke integer\n",
        "Prod['current_retail_price'] = Prod['current_retail_price'].astype(float)\n",
        "#ubah nama kolom current_retail_price  menjadi current_retail_price ($)\n",
        "Prod = Prod.rename(columns={\"current_retail_price\":\"current_retail_price ($)\"})\n"
      ],
      "metadata": {
        "colab": {
          "base_uri": "https://localhost:8080/"
        },
        "id": "3ba6n1GEEqcR",
        "outputId": "b5b953b3-733c-43b5-835a-51022ceb6549"
      },
      "execution_count": 41,
      "outputs": [
        {
          "output_type": "stream",
          "name": "stderr",
          "text": [
            "<ipython-input-41-a29726fd1be8>:5: FutureWarning: The default value of regex will change from True to False in a future version. In addition, single character regular expressions will *not* be treated as literal strings when regex=True.\n",
            "  Prod['current_retail_price'] = Prod['current_retail_price'].str.replace('$','')\n"
          ]
        }
      ]
    },
    {
      "cell_type": "code",
      "source": [
        "Prod.head()"
      ],
      "metadata": {
        "colab": {
          "base_uri": "https://localhost:8080/",
          "height": 389
        },
        "id": "v6saknewGXjJ",
        "outputId": "b8f83872-53e4-4d87-ef43-e005dbf6a12a"
      },
      "execution_count": 42,
      "outputs": [
        {
          "output_type": "execute_result",
          "data": {
            "text/plain": [
              "  product_id    product_group product_category       product_type  \\\n",
              "0          1  Whole Bean/Teas     Coffee beans      Organic Beans   \n",
              "1          2  Whole Bean/Teas     Coffee beans  House blend Beans   \n",
              "2          3  Whole Bean/Teas     Coffee beans     Espresso Beans   \n",
              "3          4  Whole Bean/Teas     Coffee beans     Espresso Beans   \n",
              "4          5  Whole Bean/Teas     Coffee beans      Gourmet Beans   \n",
              "\n",
              "                    product  \\\n",
              "0       Brazilian - Organic   \n",
              "1  Our Old Time Diner Blend   \n",
              "2            Espresso Roast   \n",
              "3      Primo Espresso Roast   \n",
              "4    Columbian Medium Roast   \n",
              "\n",
              "                                 product_description unit_of_measure  \\\n",
              "0     It's like Carnival in a cup. Clean and smooth.           12 oz   \n",
              "1  Out packed blend of beans that is reminiscent ...           12 oz   \n",
              "2          Our house blend for a good espresso shot.            1 lb   \n",
              "3   Our primium single source of hand roasted beans.            1 lb   \n",
              "4           A smooth cup of coffee any time of day.             1 lb   \n",
              "\n",
              "   current_wholesale_price  current_retail_price ($) tax_exempt_yn promo_yn  \\\n",
              "0                    14.40                     18.00             Y        N   \n",
              "1                    14.40                     18.00             Y        N   \n",
              "2                    11.80                     14.75             Y        N   \n",
              "3                    16.36                     20.45             Y        N   \n",
              "4                    12.00                     15.00             Y        N   \n",
              "\n",
              "  new_product_yn  \n",
              "0              N  \n",
              "1              N  \n",
              "2              N  \n",
              "3              N  \n",
              "4              N  "
            ],
            "text/html": [
              "\n",
              "  <div id=\"df-c5b01731-5d1e-4246-b30e-c846c7f4e8e3\">\n",
              "    <div class=\"colab-df-container\">\n",
              "      <div>\n",
              "<style scoped>\n",
              "    .dataframe tbody tr th:only-of-type {\n",
              "        vertical-align: middle;\n",
              "    }\n",
              "\n",
              "    .dataframe tbody tr th {\n",
              "        vertical-align: top;\n",
              "    }\n",
              "\n",
              "    .dataframe thead th {\n",
              "        text-align: right;\n",
              "    }\n",
              "</style>\n",
              "<table border=\"1\" class=\"dataframe\">\n",
              "  <thead>\n",
              "    <tr style=\"text-align: right;\">\n",
              "      <th></th>\n",
              "      <th>product_id</th>\n",
              "      <th>product_group</th>\n",
              "      <th>product_category</th>\n",
              "      <th>product_type</th>\n",
              "      <th>product</th>\n",
              "      <th>product_description</th>\n",
              "      <th>unit_of_measure</th>\n",
              "      <th>current_wholesale_price</th>\n",
              "      <th>current_retail_price ($)</th>\n",
              "      <th>tax_exempt_yn</th>\n",
              "      <th>promo_yn</th>\n",
              "      <th>new_product_yn</th>\n",
              "    </tr>\n",
              "  </thead>\n",
              "  <tbody>\n",
              "    <tr>\n",
              "      <th>0</th>\n",
              "      <td>1</td>\n",
              "      <td>Whole Bean/Teas</td>\n",
              "      <td>Coffee beans</td>\n",
              "      <td>Organic Beans</td>\n",
              "      <td>Brazilian - Organic</td>\n",
              "      <td>It's like Carnival in a cup. Clean and smooth.</td>\n",
              "      <td>12 oz</td>\n",
              "      <td>14.40</td>\n",
              "      <td>18.00</td>\n",
              "      <td>Y</td>\n",
              "      <td>N</td>\n",
              "      <td>N</td>\n",
              "    </tr>\n",
              "    <tr>\n",
              "      <th>1</th>\n",
              "      <td>2</td>\n",
              "      <td>Whole Bean/Teas</td>\n",
              "      <td>Coffee beans</td>\n",
              "      <td>House blend Beans</td>\n",
              "      <td>Our Old Time Diner Blend</td>\n",
              "      <td>Out packed blend of beans that is reminiscent ...</td>\n",
              "      <td>12 oz</td>\n",
              "      <td>14.40</td>\n",
              "      <td>18.00</td>\n",
              "      <td>Y</td>\n",
              "      <td>N</td>\n",
              "      <td>N</td>\n",
              "    </tr>\n",
              "    <tr>\n",
              "      <th>2</th>\n",
              "      <td>3</td>\n",
              "      <td>Whole Bean/Teas</td>\n",
              "      <td>Coffee beans</td>\n",
              "      <td>Espresso Beans</td>\n",
              "      <td>Espresso Roast</td>\n",
              "      <td>Our house blend for a good espresso shot.</td>\n",
              "      <td>1 lb</td>\n",
              "      <td>11.80</td>\n",
              "      <td>14.75</td>\n",
              "      <td>Y</td>\n",
              "      <td>N</td>\n",
              "      <td>N</td>\n",
              "    </tr>\n",
              "    <tr>\n",
              "      <th>3</th>\n",
              "      <td>4</td>\n",
              "      <td>Whole Bean/Teas</td>\n",
              "      <td>Coffee beans</td>\n",
              "      <td>Espresso Beans</td>\n",
              "      <td>Primo Espresso Roast</td>\n",
              "      <td>Our primium single source of hand roasted beans.</td>\n",
              "      <td>1 lb</td>\n",
              "      <td>16.36</td>\n",
              "      <td>20.45</td>\n",
              "      <td>Y</td>\n",
              "      <td>N</td>\n",
              "      <td>N</td>\n",
              "    </tr>\n",
              "    <tr>\n",
              "      <th>4</th>\n",
              "      <td>5</td>\n",
              "      <td>Whole Bean/Teas</td>\n",
              "      <td>Coffee beans</td>\n",
              "      <td>Gourmet Beans</td>\n",
              "      <td>Columbian Medium Roast</td>\n",
              "      <td>A smooth cup of coffee any time of day.</td>\n",
              "      <td>1 lb</td>\n",
              "      <td>12.00</td>\n",
              "      <td>15.00</td>\n",
              "      <td>Y</td>\n",
              "      <td>N</td>\n",
              "      <td>N</td>\n",
              "    </tr>\n",
              "  </tbody>\n",
              "</table>\n",
              "</div>\n",
              "      <button class=\"colab-df-convert\" onclick=\"convertToInteractive('df-c5b01731-5d1e-4246-b30e-c846c7f4e8e3')\"\n",
              "              title=\"Convert this dataframe to an interactive table.\"\n",
              "              style=\"display:none;\">\n",
              "        \n",
              "  <svg xmlns=\"http://www.w3.org/2000/svg\" height=\"24px\"viewBox=\"0 0 24 24\"\n",
              "       width=\"24px\">\n",
              "    <path d=\"M0 0h24v24H0V0z\" fill=\"none\"/>\n",
              "    <path d=\"M18.56 5.44l.94 2.06.94-2.06 2.06-.94-2.06-.94-.94-2.06-.94 2.06-2.06.94zm-11 1L8.5 8.5l.94-2.06 2.06-.94-2.06-.94L8.5 2.5l-.94 2.06-2.06.94zm10 10l.94 2.06.94-2.06 2.06-.94-2.06-.94-.94-2.06-.94 2.06-2.06.94z\"/><path d=\"M17.41 7.96l-1.37-1.37c-.4-.4-.92-.59-1.43-.59-.52 0-1.04.2-1.43.59L10.3 9.45l-7.72 7.72c-.78.78-.78 2.05 0 2.83L4 21.41c.39.39.9.59 1.41.59.51 0 1.02-.2 1.41-.59l7.78-7.78 2.81-2.81c.8-.78.8-2.07 0-2.86zM5.41 20L4 18.59l7.72-7.72 1.47 1.35L5.41 20z\"/>\n",
              "  </svg>\n",
              "      </button>\n",
              "      \n",
              "  <style>\n",
              "    .colab-df-container {\n",
              "      display:flex;\n",
              "      flex-wrap:wrap;\n",
              "      gap: 12px;\n",
              "    }\n",
              "\n",
              "    .colab-df-convert {\n",
              "      background-color: #E8F0FE;\n",
              "      border: none;\n",
              "      border-radius: 50%;\n",
              "      cursor: pointer;\n",
              "      display: none;\n",
              "      fill: #1967D2;\n",
              "      height: 32px;\n",
              "      padding: 0 0 0 0;\n",
              "      width: 32px;\n",
              "    }\n",
              "\n",
              "    .colab-df-convert:hover {\n",
              "      background-color: #E2EBFA;\n",
              "      box-shadow: 0px 1px 2px rgba(60, 64, 67, 0.3), 0px 1px 3px 1px rgba(60, 64, 67, 0.15);\n",
              "      fill: #174EA6;\n",
              "    }\n",
              "\n",
              "    [theme=dark] .colab-df-convert {\n",
              "      background-color: #3B4455;\n",
              "      fill: #D2E3FC;\n",
              "    }\n",
              "\n",
              "    [theme=dark] .colab-df-convert:hover {\n",
              "      background-color: #434B5C;\n",
              "      box-shadow: 0px 1px 3px 1px rgba(0, 0, 0, 0.15);\n",
              "      filter: drop-shadow(0px 1px 2px rgba(0, 0, 0, 0.3));\n",
              "      fill: #FFFFFF;\n",
              "    }\n",
              "  </style>\n",
              "\n",
              "      <script>\n",
              "        const buttonEl =\n",
              "          document.querySelector('#df-c5b01731-5d1e-4246-b30e-c846c7f4e8e3 button.colab-df-convert');\n",
              "        buttonEl.style.display =\n",
              "          google.colab.kernel.accessAllowed ? 'block' : 'none';\n",
              "\n",
              "        async function convertToInteractive(key) {\n",
              "          const element = document.querySelector('#df-c5b01731-5d1e-4246-b30e-c846c7f4e8e3');\n",
              "          const dataTable =\n",
              "            await google.colab.kernel.invokeFunction('convertToInteractive',\n",
              "                                                     [key], {});\n",
              "          if (!dataTable) return;\n",
              "\n",
              "          const docLinkHtml = 'Like what you see? Visit the ' +\n",
              "            '<a target=\"_blank\" href=https://colab.research.google.com/notebooks/data_table.ipynb>data table notebook</a>'\n",
              "            + ' to learn more about interactive tables.';\n",
              "          element.innerHTML = '';\n",
              "          dataTable['output_type'] = 'display_data';\n",
              "          await google.colab.output.renderOutput(dataTable, element);\n",
              "          const docLink = document.createElement('div');\n",
              "          docLink.innerHTML = docLinkHtml;\n",
              "          element.appendChild(docLink);\n",
              "        }\n",
              "      </script>\n",
              "    </div>\n",
              "  </div>\n",
              "  "
            ]
          },
          "metadata": {},
          "execution_count": 42
        }
      ]
    },
    {
      "cell_type": "code",
      "source": [
        "#cek ekmbali tipe data\n",
        "Prod.info()"
      ],
      "metadata": {
        "colab": {
          "base_uri": "https://localhost:8080/"
        },
        "id": "U5MLIYlXGRf0",
        "outputId": "6a4657e9-5cbd-4415-a774-2f1a64e421e1"
      },
      "execution_count": 43,
      "outputs": [
        {
          "output_type": "stream",
          "name": "stdout",
          "text": [
            "<class 'pandas.core.frame.DataFrame'>\n",
            "RangeIndex: 88 entries, 0 to 87\n",
            "Data columns (total 12 columns):\n",
            " #   Column                    Non-Null Count  Dtype  \n",
            "---  ------                    --------------  -----  \n",
            " 0   product_id                88 non-null     object \n",
            " 1   product_group             88 non-null     object \n",
            " 2   product_category          88 non-null     object \n",
            " 3   product_type              88 non-null     object \n",
            " 4   product                   88 non-null     object \n",
            " 5   product_description       88 non-null     object \n",
            " 6   unit_of_measure           88 non-null     object \n",
            " 7   current_wholesale_price   88 non-null     float64\n",
            " 8   current_retail_price ($)  88 non-null     float64\n",
            " 9   tax_exempt_yn             88 non-null     object \n",
            " 10  promo_yn                  88 non-null     object \n",
            " 11  new_product_yn            88 non-null     object \n",
            "dtypes: float64(2), object(10)\n",
            "memory usage: 8.4+ KB\n"
          ]
        }
      ]
    },
    {
      "cell_type": "code",
      "source": [
        "# cek duplicate\n",
        "Prod[Prod.duplicated(keep=False)]"
      ],
      "metadata": {
        "colab": {
          "base_uri": "https://localhost:8080/",
          "height": 49
        },
        "id": "Vze851oAGqzo",
        "outputId": "736de9d8-ebd1-43be-b785-4caf118c1256"
      },
      "execution_count": 44,
      "outputs": [
        {
          "output_type": "execute_result",
          "data": {
            "text/plain": [
              "Empty DataFrame\n",
              "Columns: [product_id, product_group, product_category, product_type, product, product_description, unit_of_measure, current_wholesale_price, current_retail_price ($), tax_exempt_yn, promo_yn, new_product_yn]\n",
              "Index: []"
            ],
            "text/html": [
              "\n",
              "  <div id=\"df-286f8b1e-eeac-4a9f-ae2b-6b420b9635dc\">\n",
              "    <div class=\"colab-df-container\">\n",
              "      <div>\n",
              "<style scoped>\n",
              "    .dataframe tbody tr th:only-of-type {\n",
              "        vertical-align: middle;\n",
              "    }\n",
              "\n",
              "    .dataframe tbody tr th {\n",
              "        vertical-align: top;\n",
              "    }\n",
              "\n",
              "    .dataframe thead th {\n",
              "        text-align: right;\n",
              "    }\n",
              "</style>\n",
              "<table border=\"1\" class=\"dataframe\">\n",
              "  <thead>\n",
              "    <tr style=\"text-align: right;\">\n",
              "      <th></th>\n",
              "      <th>product_id</th>\n",
              "      <th>product_group</th>\n",
              "      <th>product_category</th>\n",
              "      <th>product_type</th>\n",
              "      <th>product</th>\n",
              "      <th>product_description</th>\n",
              "      <th>unit_of_measure</th>\n",
              "      <th>current_wholesale_price</th>\n",
              "      <th>current_retail_price ($)</th>\n",
              "      <th>tax_exempt_yn</th>\n",
              "      <th>promo_yn</th>\n",
              "      <th>new_product_yn</th>\n",
              "    </tr>\n",
              "  </thead>\n",
              "  <tbody>\n",
              "  </tbody>\n",
              "</table>\n",
              "</div>\n",
              "      <button class=\"colab-df-convert\" onclick=\"convertToInteractive('df-286f8b1e-eeac-4a9f-ae2b-6b420b9635dc')\"\n",
              "              title=\"Convert this dataframe to an interactive table.\"\n",
              "              style=\"display:none;\">\n",
              "        \n",
              "  <svg xmlns=\"http://www.w3.org/2000/svg\" height=\"24px\"viewBox=\"0 0 24 24\"\n",
              "       width=\"24px\">\n",
              "    <path d=\"M0 0h24v24H0V0z\" fill=\"none\"/>\n",
              "    <path d=\"M18.56 5.44l.94 2.06.94-2.06 2.06-.94-2.06-.94-.94-2.06-.94 2.06-2.06.94zm-11 1L8.5 8.5l.94-2.06 2.06-.94-2.06-.94L8.5 2.5l-.94 2.06-2.06.94zm10 10l.94 2.06.94-2.06 2.06-.94-2.06-.94-.94-2.06-.94 2.06-2.06.94z\"/><path d=\"M17.41 7.96l-1.37-1.37c-.4-.4-.92-.59-1.43-.59-.52 0-1.04.2-1.43.59L10.3 9.45l-7.72 7.72c-.78.78-.78 2.05 0 2.83L4 21.41c.39.39.9.59 1.41.59.51 0 1.02-.2 1.41-.59l7.78-7.78 2.81-2.81c.8-.78.8-2.07 0-2.86zM5.41 20L4 18.59l7.72-7.72 1.47 1.35L5.41 20z\"/>\n",
              "  </svg>\n",
              "      </button>\n",
              "      \n",
              "  <style>\n",
              "    .colab-df-container {\n",
              "      display:flex;\n",
              "      flex-wrap:wrap;\n",
              "      gap: 12px;\n",
              "    }\n",
              "\n",
              "    .colab-df-convert {\n",
              "      background-color: #E8F0FE;\n",
              "      border: none;\n",
              "      border-radius: 50%;\n",
              "      cursor: pointer;\n",
              "      display: none;\n",
              "      fill: #1967D2;\n",
              "      height: 32px;\n",
              "      padding: 0 0 0 0;\n",
              "      width: 32px;\n",
              "    }\n",
              "\n",
              "    .colab-df-convert:hover {\n",
              "      background-color: #E2EBFA;\n",
              "      box-shadow: 0px 1px 2px rgba(60, 64, 67, 0.3), 0px 1px 3px 1px rgba(60, 64, 67, 0.15);\n",
              "      fill: #174EA6;\n",
              "    }\n",
              "\n",
              "    [theme=dark] .colab-df-convert {\n",
              "      background-color: #3B4455;\n",
              "      fill: #D2E3FC;\n",
              "    }\n",
              "\n",
              "    [theme=dark] .colab-df-convert:hover {\n",
              "      background-color: #434B5C;\n",
              "      box-shadow: 0px 1px 3px 1px rgba(0, 0, 0, 0.15);\n",
              "      filter: drop-shadow(0px 1px 2px rgba(0, 0, 0, 0.3));\n",
              "      fill: #FFFFFF;\n",
              "    }\n",
              "  </style>\n",
              "\n",
              "      <script>\n",
              "        const buttonEl =\n",
              "          document.querySelector('#df-286f8b1e-eeac-4a9f-ae2b-6b420b9635dc button.colab-df-convert');\n",
              "        buttonEl.style.display =\n",
              "          google.colab.kernel.accessAllowed ? 'block' : 'none';\n",
              "\n",
              "        async function convertToInteractive(key) {\n",
              "          const element = document.querySelector('#df-286f8b1e-eeac-4a9f-ae2b-6b420b9635dc');\n",
              "          const dataTable =\n",
              "            await google.colab.kernel.invokeFunction('convertToInteractive',\n",
              "                                                     [key], {});\n",
              "          if (!dataTable) return;\n",
              "\n",
              "          const docLinkHtml = 'Like what you see? Visit the ' +\n",
              "            '<a target=\"_blank\" href=https://colab.research.google.com/notebooks/data_table.ipynb>data table notebook</a>'\n",
              "            + ' to learn more about interactive tables.';\n",
              "          element.innerHTML = '';\n",
              "          dataTable['output_type'] = 'display_data';\n",
              "          await google.colab.output.renderOutput(dataTable, element);\n",
              "          const docLink = document.createElement('div');\n",
              "          docLink.innerHTML = docLinkHtml;\n",
              "          element.appendChild(docLink);\n",
              "        }\n",
              "      </script>\n",
              "    </div>\n",
              "  </div>\n",
              "  "
            ]
          },
          "metadata": {},
          "execution_count": 44
        }
      ]
    },
    {
      "cell_type": "code",
      "source": [
        "# cek outlier\n",
        "hasil_outlier(Prod['current_wholesale_price'])"
      ],
      "metadata": {
        "colab": {
          "base_uri": "https://localhost:8080/"
        },
        "id": "YUDu876YweCO",
        "outputId": "e184c854-367b-4401-f16f-7db66feaa18b"
      },
      "execution_count": 45,
      "outputs": [
        {
          "output_type": "stream",
          "name": "stdout",
          "text": [
            "Banyaknya outlier  7\n",
            "Beberapa outlier dari data:  [14.4, 14.4, 15.8, 16.36, 16.8, 18.0, 36.0]\n"
          ]
        }
      ]
    },
    {
      "cell_type": "code",
      "source": [
        "hasil_outlier(Prod['current_retail_price ($)'])"
      ],
      "metadata": {
        "colab": {
          "base_uri": "https://localhost:8080/"
        },
        "id": "2rpIaa3twf0_",
        "outputId": "8a736556-260d-4149-986b-505d75d1d1d0"
      },
      "execution_count": 46,
      "outputs": [
        {
          "output_type": "stream",
          "name": "stdout",
          "text": [
            "Banyaknya outlier  9\n",
            "Beberapa outlier dari data:  [18.0, 18.0, 19.75, 20.45, 21.0, 22.5, 23.0, 28.0, 45.0]\n"
          ]
        }
      ]
    },
    {
      "cell_type": "markdown",
      "source": [
        "Dari analisa outlier terdapat oulier pada data 'current_wholesale_price' dan 'current_retail_price ($)'. Tetapi tidak dilakukan handling outlier karena jika dilakukan handling outlier data yang akan dihasilkan akan bias"
      ],
      "metadata": {
        "id": "OOOzapyHwhg_"
      }
    },
    {
      "cell_type": "markdown",
      "source": [
        "#### Data prep Sales_Outlet"
      ],
      "metadata": {
        "id": "_BwzWL8ocsK4"
      }
    },
    {
      "cell_type": "code",
      "source": [
        "# Membaca isi data\n",
        "Sale_Out = pd.read_csv(path+'Sales_Outlet.csv')\n",
        "Sale_Out.head()"
      ],
      "metadata": {
        "colab": {
          "base_uri": "https://localhost:8080/",
          "height": 250
        },
        "id": "OFsy4xYwCoYA",
        "outputId": "f0a51090-2376-406c-a643-c781b4443e51"
      },
      "execution_count": 47,
      "outputs": [
        {
          "output_type": "execute_result",
          "data": {
            "text/plain": [
              "   sales_outlet_id sales_outlet_type  store_square_feet       store_address  \\\n",
              "0                2         warehouse               3400  164-14 Jamaica Ave   \n",
              "1                3            retail               1300      32-20 Broadway   \n",
              "2                4            retail               1300    604 Union Street   \n",
              "3                5            retail                900   100 Church Street   \n",
              "4                6            retail               1000      122 E Broadway   \n",
              "\n",
              "         store_city store_state_province store_telephone  store_postal_code  \\\n",
              "0           Jamaica                   NY    972-871-0402              11432   \n",
              "1  Long Island City                   NY    777-718-3190              11106   \n",
              "2          Brooklyn                   NY    619-347-5193              11215   \n",
              "3          New York                   NY    343-212-5151              10007   \n",
              "4          New York                   NY    613-555-4989              10002   \n",
              "\n",
              "   store_longitude  store_latitude  manager      Neighorhood  \n",
              "0       -73.795168       40.705226      NaN          Jamaica  \n",
              "1       -73.924008       40.761196      6.0          Astoria  \n",
              "2       -73.983984       40.677645     11.0          Gowanus  \n",
              "3       -74.010130       40.713290     16.0  Lower Manhattan  \n",
              "4       -73.992687       40.713852     21.0  Lower East Side  "
            ],
            "text/html": [
              "\n",
              "  <div id=\"df-9ae38888-7d9c-4504-9b71-c37667c26b78\">\n",
              "    <div class=\"colab-df-container\">\n",
              "      <div>\n",
              "<style scoped>\n",
              "    .dataframe tbody tr th:only-of-type {\n",
              "        vertical-align: middle;\n",
              "    }\n",
              "\n",
              "    .dataframe tbody tr th {\n",
              "        vertical-align: top;\n",
              "    }\n",
              "\n",
              "    .dataframe thead th {\n",
              "        text-align: right;\n",
              "    }\n",
              "</style>\n",
              "<table border=\"1\" class=\"dataframe\">\n",
              "  <thead>\n",
              "    <tr style=\"text-align: right;\">\n",
              "      <th></th>\n",
              "      <th>sales_outlet_id</th>\n",
              "      <th>sales_outlet_type</th>\n",
              "      <th>store_square_feet</th>\n",
              "      <th>store_address</th>\n",
              "      <th>store_city</th>\n",
              "      <th>store_state_province</th>\n",
              "      <th>store_telephone</th>\n",
              "      <th>store_postal_code</th>\n",
              "      <th>store_longitude</th>\n",
              "      <th>store_latitude</th>\n",
              "      <th>manager</th>\n",
              "      <th>Neighorhood</th>\n",
              "    </tr>\n",
              "  </thead>\n",
              "  <tbody>\n",
              "    <tr>\n",
              "      <th>0</th>\n",
              "      <td>2</td>\n",
              "      <td>warehouse</td>\n",
              "      <td>3400</td>\n",
              "      <td>164-14 Jamaica Ave</td>\n",
              "      <td>Jamaica</td>\n",
              "      <td>NY</td>\n",
              "      <td>972-871-0402</td>\n",
              "      <td>11432</td>\n",
              "      <td>-73.795168</td>\n",
              "      <td>40.705226</td>\n",
              "      <td>NaN</td>\n",
              "      <td>Jamaica</td>\n",
              "    </tr>\n",
              "    <tr>\n",
              "      <th>1</th>\n",
              "      <td>3</td>\n",
              "      <td>retail</td>\n",
              "      <td>1300</td>\n",
              "      <td>32-20 Broadway</td>\n",
              "      <td>Long Island City</td>\n",
              "      <td>NY</td>\n",
              "      <td>777-718-3190</td>\n",
              "      <td>11106</td>\n",
              "      <td>-73.924008</td>\n",
              "      <td>40.761196</td>\n",
              "      <td>6.0</td>\n",
              "      <td>Astoria</td>\n",
              "    </tr>\n",
              "    <tr>\n",
              "      <th>2</th>\n",
              "      <td>4</td>\n",
              "      <td>retail</td>\n",
              "      <td>1300</td>\n",
              "      <td>604 Union Street</td>\n",
              "      <td>Brooklyn</td>\n",
              "      <td>NY</td>\n",
              "      <td>619-347-5193</td>\n",
              "      <td>11215</td>\n",
              "      <td>-73.983984</td>\n",
              "      <td>40.677645</td>\n",
              "      <td>11.0</td>\n",
              "      <td>Gowanus</td>\n",
              "    </tr>\n",
              "    <tr>\n",
              "      <th>3</th>\n",
              "      <td>5</td>\n",
              "      <td>retail</td>\n",
              "      <td>900</td>\n",
              "      <td>100 Church Street</td>\n",
              "      <td>New York</td>\n",
              "      <td>NY</td>\n",
              "      <td>343-212-5151</td>\n",
              "      <td>10007</td>\n",
              "      <td>-74.010130</td>\n",
              "      <td>40.713290</td>\n",
              "      <td>16.0</td>\n",
              "      <td>Lower Manhattan</td>\n",
              "    </tr>\n",
              "    <tr>\n",
              "      <th>4</th>\n",
              "      <td>6</td>\n",
              "      <td>retail</td>\n",
              "      <td>1000</td>\n",
              "      <td>122 E Broadway</td>\n",
              "      <td>New York</td>\n",
              "      <td>NY</td>\n",
              "      <td>613-555-4989</td>\n",
              "      <td>10002</td>\n",
              "      <td>-73.992687</td>\n",
              "      <td>40.713852</td>\n",
              "      <td>21.0</td>\n",
              "      <td>Lower East Side</td>\n",
              "    </tr>\n",
              "  </tbody>\n",
              "</table>\n",
              "</div>\n",
              "      <button class=\"colab-df-convert\" onclick=\"convertToInteractive('df-9ae38888-7d9c-4504-9b71-c37667c26b78')\"\n",
              "              title=\"Convert this dataframe to an interactive table.\"\n",
              "              style=\"display:none;\">\n",
              "        \n",
              "  <svg xmlns=\"http://www.w3.org/2000/svg\" height=\"24px\"viewBox=\"0 0 24 24\"\n",
              "       width=\"24px\">\n",
              "    <path d=\"M0 0h24v24H0V0z\" fill=\"none\"/>\n",
              "    <path d=\"M18.56 5.44l.94 2.06.94-2.06 2.06-.94-2.06-.94-.94-2.06-.94 2.06-2.06.94zm-11 1L8.5 8.5l.94-2.06 2.06-.94-2.06-.94L8.5 2.5l-.94 2.06-2.06.94zm10 10l.94 2.06.94-2.06 2.06-.94-2.06-.94-.94-2.06-.94 2.06-2.06.94z\"/><path d=\"M17.41 7.96l-1.37-1.37c-.4-.4-.92-.59-1.43-.59-.52 0-1.04.2-1.43.59L10.3 9.45l-7.72 7.72c-.78.78-.78 2.05 0 2.83L4 21.41c.39.39.9.59 1.41.59.51 0 1.02-.2 1.41-.59l7.78-7.78 2.81-2.81c.8-.78.8-2.07 0-2.86zM5.41 20L4 18.59l7.72-7.72 1.47 1.35L5.41 20z\"/>\n",
              "  </svg>\n",
              "      </button>\n",
              "      \n",
              "  <style>\n",
              "    .colab-df-container {\n",
              "      display:flex;\n",
              "      flex-wrap:wrap;\n",
              "      gap: 12px;\n",
              "    }\n",
              "\n",
              "    .colab-df-convert {\n",
              "      background-color: #E8F0FE;\n",
              "      border: none;\n",
              "      border-radius: 50%;\n",
              "      cursor: pointer;\n",
              "      display: none;\n",
              "      fill: #1967D2;\n",
              "      height: 32px;\n",
              "      padding: 0 0 0 0;\n",
              "      width: 32px;\n",
              "    }\n",
              "\n",
              "    .colab-df-convert:hover {\n",
              "      background-color: #E2EBFA;\n",
              "      box-shadow: 0px 1px 2px rgba(60, 64, 67, 0.3), 0px 1px 3px 1px rgba(60, 64, 67, 0.15);\n",
              "      fill: #174EA6;\n",
              "    }\n",
              "\n",
              "    [theme=dark] .colab-df-convert {\n",
              "      background-color: #3B4455;\n",
              "      fill: #D2E3FC;\n",
              "    }\n",
              "\n",
              "    [theme=dark] .colab-df-convert:hover {\n",
              "      background-color: #434B5C;\n",
              "      box-shadow: 0px 1px 3px 1px rgba(0, 0, 0, 0.15);\n",
              "      filter: drop-shadow(0px 1px 2px rgba(0, 0, 0, 0.3));\n",
              "      fill: #FFFFFF;\n",
              "    }\n",
              "  </style>\n",
              "\n",
              "      <script>\n",
              "        const buttonEl =\n",
              "          document.querySelector('#df-9ae38888-7d9c-4504-9b71-c37667c26b78 button.colab-df-convert');\n",
              "        buttonEl.style.display =\n",
              "          google.colab.kernel.accessAllowed ? 'block' : 'none';\n",
              "\n",
              "        async function convertToInteractive(key) {\n",
              "          const element = document.querySelector('#df-9ae38888-7d9c-4504-9b71-c37667c26b78');\n",
              "          const dataTable =\n",
              "            await google.colab.kernel.invokeFunction('convertToInteractive',\n",
              "                                                     [key], {});\n",
              "          if (!dataTable) return;\n",
              "\n",
              "          const docLinkHtml = 'Like what you see? Visit the ' +\n",
              "            '<a target=\"_blank\" href=https://colab.research.google.com/notebooks/data_table.ipynb>data table notebook</a>'\n",
              "            + ' to learn more about interactive tables.';\n",
              "          element.innerHTML = '';\n",
              "          dataTable['output_type'] = 'display_data';\n",
              "          await google.colab.output.renderOutput(dataTable, element);\n",
              "          const docLink = document.createElement('div');\n",
              "          docLink.innerHTML = docLinkHtml;\n",
              "          element.appendChild(docLink);\n",
              "        }\n",
              "      </script>\n",
              "    </div>\n",
              "  </div>\n",
              "  "
            ]
          },
          "metadata": {},
          "execution_count": 47
        }
      ]
    },
    {
      "cell_type": "code",
      "source": [
        "# cek tipe data dan missing value\n",
        "Sale_Out.info()"
      ],
      "metadata": {
        "colab": {
          "base_uri": "https://localhost:8080/"
        },
        "id": "oVMYNUIFIv_v",
        "outputId": "20cbd4d6-0ced-4dbe-a363-b0d225fdf24b"
      },
      "execution_count": 48,
      "outputs": [
        {
          "output_type": "stream",
          "name": "stdout",
          "text": [
            "<class 'pandas.core.frame.DataFrame'>\n",
            "RangeIndex: 9 entries, 0 to 8\n",
            "Data columns (total 12 columns):\n",
            " #   Column                Non-Null Count  Dtype  \n",
            "---  ------                --------------  -----  \n",
            " 0   sales_outlet_id       9 non-null      int64  \n",
            " 1   sales_outlet_type     9 non-null      object \n",
            " 2   store_square_feet     9 non-null      int64  \n",
            " 3   store_address         9 non-null      object \n",
            " 4   store_city            9 non-null      object \n",
            " 5   store_state_province  9 non-null      object \n",
            " 6   store_telephone       9 non-null      object \n",
            " 7   store_postal_code     9 non-null      int64  \n",
            " 8   store_longitude       9 non-null      float64\n",
            " 9   store_latitude        9 non-null      float64\n",
            " 10  manager               8 non-null      float64\n",
            " 11  Neighorhood           9 non-null      object \n",
            "dtypes: float64(3), int64(3), object(6)\n",
            "memory usage: 992.0+ bytes\n"
          ]
        }
      ]
    },
    {
      "cell_type": "markdown",
      "source": [
        "Dari data dapat dilihat bahwa terdapat missing value yaitu didata manager (1 missing value) dan ada beberapa tipe data yang perlu diganti seperti sales_outlet_id, store_postal_code dan manager diubah ke tipe data string"
      ],
      "metadata": {
        "id": "E7d9yEr3JJbs"
      }
    },
    {
      "cell_type": "code",
      "source": [
        "# Mengisi missing value pada manager\n",
        "Sale_Out['manager'].fillna(Sale_Out['manager'].mean(),inplace=True)"
      ],
      "metadata": {
        "id": "Oi35DtR2MBNn"
      },
      "execution_count": 49,
      "outputs": []
    },
    {
      "cell_type": "code",
      "source": [
        "Sale_Out.info()"
      ],
      "metadata": {
        "colab": {
          "base_uri": "https://localhost:8080/"
        },
        "id": "OYS_z7GIOKsA",
        "outputId": "a9bfd797-ecf8-4b4a-a95c-4b35fb4e93c4"
      },
      "execution_count": 50,
      "outputs": [
        {
          "output_type": "stream",
          "name": "stdout",
          "text": [
            "<class 'pandas.core.frame.DataFrame'>\n",
            "RangeIndex: 9 entries, 0 to 8\n",
            "Data columns (total 12 columns):\n",
            " #   Column                Non-Null Count  Dtype  \n",
            "---  ------                --------------  -----  \n",
            " 0   sales_outlet_id       9 non-null      int64  \n",
            " 1   sales_outlet_type     9 non-null      object \n",
            " 2   store_square_feet     9 non-null      int64  \n",
            " 3   store_address         9 non-null      object \n",
            " 4   store_city            9 non-null      object \n",
            " 5   store_state_province  9 non-null      object \n",
            " 6   store_telephone       9 non-null      object \n",
            " 7   store_postal_code     9 non-null      int64  \n",
            " 8   store_longitude       9 non-null      float64\n",
            " 9   store_latitude        9 non-null      float64\n",
            " 10  manager               9 non-null      float64\n",
            " 11  Neighorhood           9 non-null      object \n",
            "dtypes: float64(3), int64(3), object(6)\n",
            "memory usage: 992.0+ bytes\n"
          ]
        }
      ]
    },
    {
      "cell_type": "code",
      "source": [
        "dt_str = ['sales_outlet_id','store_postal_code','manager']\n",
        "for S in dt_str:\n",
        "  Sale_Out[S] = Sale_Out[S].astype(str)"
      ],
      "metadata": {
        "id": "X55Wy--8KhBg"
      },
      "execution_count": 51,
      "outputs": []
    },
    {
      "cell_type": "code",
      "source": [
        "Sale_Out.info()"
      ],
      "metadata": {
        "colab": {
          "base_uri": "https://localhost:8080/"
        },
        "id": "ota4ZwjtLQ0o",
        "outputId": "796cf94b-c479-4bce-a911-b234f61ed1cd"
      },
      "execution_count": 52,
      "outputs": [
        {
          "output_type": "stream",
          "name": "stdout",
          "text": [
            "<class 'pandas.core.frame.DataFrame'>\n",
            "RangeIndex: 9 entries, 0 to 8\n",
            "Data columns (total 12 columns):\n",
            " #   Column                Non-Null Count  Dtype  \n",
            "---  ------                --------------  -----  \n",
            " 0   sales_outlet_id       9 non-null      object \n",
            " 1   sales_outlet_type     9 non-null      object \n",
            " 2   store_square_feet     9 non-null      int64  \n",
            " 3   store_address         9 non-null      object \n",
            " 4   store_city            9 non-null      object \n",
            " 5   store_state_province  9 non-null      object \n",
            " 6   store_telephone       9 non-null      object \n",
            " 7   store_postal_code     9 non-null      object \n",
            " 8   store_longitude       9 non-null      float64\n",
            " 9   store_latitude        9 non-null      float64\n",
            " 10  manager               9 non-null      object \n",
            " 11  Neighorhood           9 non-null      object \n",
            "dtypes: float64(2), int64(1), object(9)\n",
            "memory usage: 992.0+ bytes\n"
          ]
        }
      ]
    },
    {
      "cell_type": "code",
      "source": [
        "Sale_Out"
      ],
      "metadata": {
        "colab": {
          "base_uri": "https://localhost:8080/",
          "height": 375
        },
        "id": "ohwJRzKROTus",
        "outputId": "1013215f-3db7-4685-eeb9-c4a330ba6c6f"
      },
      "execution_count": 53,
      "outputs": [
        {
          "output_type": "execute_result",
          "data": {
            "text/plain": [
              "  sales_outlet_id sales_outlet_type  store_square_feet       store_address  \\\n",
              "0               2         warehouse               3400  164-14 Jamaica Ave   \n",
              "1               3            retail               1300      32-20 Broadway   \n",
              "2               4            retail               1300    604 Union Street   \n",
              "3               5            retail                900   100 Church Street   \n",
              "4               6            retail               1000      122 E Broadway   \n",
              "5               7            retail               1200   224 E 57th Street   \n",
              "6               8            retail               1500      687 9th Avenue   \n",
              "7               9            retail               1700      175 8th Avenue   \n",
              "8              10            retail               1600   183 W 10th Street   \n",
              "\n",
              "         store_city store_state_province store_telephone store_postal_code  \\\n",
              "0           Jamaica                   NY    972-871-0402             11432   \n",
              "1  Long Island City                   NY    777-718-3190             11106   \n",
              "2          Brooklyn                   NY    619-347-5193             11215   \n",
              "3          New York                   NY    343-212-5151             10007   \n",
              "4          New York                   NY    613-555-4989             10002   \n",
              "5          New York                   NY    287-817-2330             10021   \n",
              "6          New York                   NY    652-212-7020             10036   \n",
              "7          New York                   NY    242-212-0080             10011   \n",
              "8          New York                   NY    674-646-6434             10014   \n",
              "\n",
              "   store_longitude  store_latitude manager        Neighorhood  \n",
              "0       -73.795168       40.705226    23.5            Jamaica  \n",
              "1       -73.924008       40.761196     6.0            Astoria  \n",
              "2       -73.983984       40.677645    11.0            Gowanus  \n",
              "3       -74.010130       40.713290    16.0    Lower Manhattan  \n",
              "4       -73.992687       40.713852    21.0    Lower East Side  \n",
              "5       -73.960000       40.770000    26.0    Upper East Side  \n",
              "6       -73.990338       40.761887    31.0     Hell's Kitchen  \n",
              "7       -74.000502       40.742760    36.0            Chelsea  \n",
              "8       -74.002722       40.734367    41.0  Greenwich Village  "
            ],
            "text/html": [
              "\n",
              "  <div id=\"df-c3f617ae-6100-466d-8aa0-91d09fd9d9f9\">\n",
              "    <div class=\"colab-df-container\">\n",
              "      <div>\n",
              "<style scoped>\n",
              "    .dataframe tbody tr th:only-of-type {\n",
              "        vertical-align: middle;\n",
              "    }\n",
              "\n",
              "    .dataframe tbody tr th {\n",
              "        vertical-align: top;\n",
              "    }\n",
              "\n",
              "    .dataframe thead th {\n",
              "        text-align: right;\n",
              "    }\n",
              "</style>\n",
              "<table border=\"1\" class=\"dataframe\">\n",
              "  <thead>\n",
              "    <tr style=\"text-align: right;\">\n",
              "      <th></th>\n",
              "      <th>sales_outlet_id</th>\n",
              "      <th>sales_outlet_type</th>\n",
              "      <th>store_square_feet</th>\n",
              "      <th>store_address</th>\n",
              "      <th>store_city</th>\n",
              "      <th>store_state_province</th>\n",
              "      <th>store_telephone</th>\n",
              "      <th>store_postal_code</th>\n",
              "      <th>store_longitude</th>\n",
              "      <th>store_latitude</th>\n",
              "      <th>manager</th>\n",
              "      <th>Neighorhood</th>\n",
              "    </tr>\n",
              "  </thead>\n",
              "  <tbody>\n",
              "    <tr>\n",
              "      <th>0</th>\n",
              "      <td>2</td>\n",
              "      <td>warehouse</td>\n",
              "      <td>3400</td>\n",
              "      <td>164-14 Jamaica Ave</td>\n",
              "      <td>Jamaica</td>\n",
              "      <td>NY</td>\n",
              "      <td>972-871-0402</td>\n",
              "      <td>11432</td>\n",
              "      <td>-73.795168</td>\n",
              "      <td>40.705226</td>\n",
              "      <td>23.5</td>\n",
              "      <td>Jamaica</td>\n",
              "    </tr>\n",
              "    <tr>\n",
              "      <th>1</th>\n",
              "      <td>3</td>\n",
              "      <td>retail</td>\n",
              "      <td>1300</td>\n",
              "      <td>32-20 Broadway</td>\n",
              "      <td>Long Island City</td>\n",
              "      <td>NY</td>\n",
              "      <td>777-718-3190</td>\n",
              "      <td>11106</td>\n",
              "      <td>-73.924008</td>\n",
              "      <td>40.761196</td>\n",
              "      <td>6.0</td>\n",
              "      <td>Astoria</td>\n",
              "    </tr>\n",
              "    <tr>\n",
              "      <th>2</th>\n",
              "      <td>4</td>\n",
              "      <td>retail</td>\n",
              "      <td>1300</td>\n",
              "      <td>604 Union Street</td>\n",
              "      <td>Brooklyn</td>\n",
              "      <td>NY</td>\n",
              "      <td>619-347-5193</td>\n",
              "      <td>11215</td>\n",
              "      <td>-73.983984</td>\n",
              "      <td>40.677645</td>\n",
              "      <td>11.0</td>\n",
              "      <td>Gowanus</td>\n",
              "    </tr>\n",
              "    <tr>\n",
              "      <th>3</th>\n",
              "      <td>5</td>\n",
              "      <td>retail</td>\n",
              "      <td>900</td>\n",
              "      <td>100 Church Street</td>\n",
              "      <td>New York</td>\n",
              "      <td>NY</td>\n",
              "      <td>343-212-5151</td>\n",
              "      <td>10007</td>\n",
              "      <td>-74.010130</td>\n",
              "      <td>40.713290</td>\n",
              "      <td>16.0</td>\n",
              "      <td>Lower Manhattan</td>\n",
              "    </tr>\n",
              "    <tr>\n",
              "      <th>4</th>\n",
              "      <td>6</td>\n",
              "      <td>retail</td>\n",
              "      <td>1000</td>\n",
              "      <td>122 E Broadway</td>\n",
              "      <td>New York</td>\n",
              "      <td>NY</td>\n",
              "      <td>613-555-4989</td>\n",
              "      <td>10002</td>\n",
              "      <td>-73.992687</td>\n",
              "      <td>40.713852</td>\n",
              "      <td>21.0</td>\n",
              "      <td>Lower East Side</td>\n",
              "    </tr>\n",
              "    <tr>\n",
              "      <th>5</th>\n",
              "      <td>7</td>\n",
              "      <td>retail</td>\n",
              "      <td>1200</td>\n",
              "      <td>224 E 57th Street</td>\n",
              "      <td>New York</td>\n",
              "      <td>NY</td>\n",
              "      <td>287-817-2330</td>\n",
              "      <td>10021</td>\n",
              "      <td>-73.960000</td>\n",
              "      <td>40.770000</td>\n",
              "      <td>26.0</td>\n",
              "      <td>Upper East Side</td>\n",
              "    </tr>\n",
              "    <tr>\n",
              "      <th>6</th>\n",
              "      <td>8</td>\n",
              "      <td>retail</td>\n",
              "      <td>1500</td>\n",
              "      <td>687 9th Avenue</td>\n",
              "      <td>New York</td>\n",
              "      <td>NY</td>\n",
              "      <td>652-212-7020</td>\n",
              "      <td>10036</td>\n",
              "      <td>-73.990338</td>\n",
              "      <td>40.761887</td>\n",
              "      <td>31.0</td>\n",
              "      <td>Hell's Kitchen</td>\n",
              "    </tr>\n",
              "    <tr>\n",
              "      <th>7</th>\n",
              "      <td>9</td>\n",
              "      <td>retail</td>\n",
              "      <td>1700</td>\n",
              "      <td>175 8th Avenue</td>\n",
              "      <td>New York</td>\n",
              "      <td>NY</td>\n",
              "      <td>242-212-0080</td>\n",
              "      <td>10011</td>\n",
              "      <td>-74.000502</td>\n",
              "      <td>40.742760</td>\n",
              "      <td>36.0</td>\n",
              "      <td>Chelsea</td>\n",
              "    </tr>\n",
              "    <tr>\n",
              "      <th>8</th>\n",
              "      <td>10</td>\n",
              "      <td>retail</td>\n",
              "      <td>1600</td>\n",
              "      <td>183 W 10th Street</td>\n",
              "      <td>New York</td>\n",
              "      <td>NY</td>\n",
              "      <td>674-646-6434</td>\n",
              "      <td>10014</td>\n",
              "      <td>-74.002722</td>\n",
              "      <td>40.734367</td>\n",
              "      <td>41.0</td>\n",
              "      <td>Greenwich Village</td>\n",
              "    </tr>\n",
              "  </tbody>\n",
              "</table>\n",
              "</div>\n",
              "      <button class=\"colab-df-convert\" onclick=\"convertToInteractive('df-c3f617ae-6100-466d-8aa0-91d09fd9d9f9')\"\n",
              "              title=\"Convert this dataframe to an interactive table.\"\n",
              "              style=\"display:none;\">\n",
              "        \n",
              "  <svg xmlns=\"http://www.w3.org/2000/svg\" height=\"24px\"viewBox=\"0 0 24 24\"\n",
              "       width=\"24px\">\n",
              "    <path d=\"M0 0h24v24H0V0z\" fill=\"none\"/>\n",
              "    <path d=\"M18.56 5.44l.94 2.06.94-2.06 2.06-.94-2.06-.94-.94-2.06-.94 2.06-2.06.94zm-11 1L8.5 8.5l.94-2.06 2.06-.94-2.06-.94L8.5 2.5l-.94 2.06-2.06.94zm10 10l.94 2.06.94-2.06 2.06-.94-2.06-.94-.94-2.06-.94 2.06-2.06.94z\"/><path d=\"M17.41 7.96l-1.37-1.37c-.4-.4-.92-.59-1.43-.59-.52 0-1.04.2-1.43.59L10.3 9.45l-7.72 7.72c-.78.78-.78 2.05 0 2.83L4 21.41c.39.39.9.59 1.41.59.51 0 1.02-.2 1.41-.59l7.78-7.78 2.81-2.81c.8-.78.8-2.07 0-2.86zM5.41 20L4 18.59l7.72-7.72 1.47 1.35L5.41 20z\"/>\n",
              "  </svg>\n",
              "      </button>\n",
              "      \n",
              "  <style>\n",
              "    .colab-df-container {\n",
              "      display:flex;\n",
              "      flex-wrap:wrap;\n",
              "      gap: 12px;\n",
              "    }\n",
              "\n",
              "    .colab-df-convert {\n",
              "      background-color: #E8F0FE;\n",
              "      border: none;\n",
              "      border-radius: 50%;\n",
              "      cursor: pointer;\n",
              "      display: none;\n",
              "      fill: #1967D2;\n",
              "      height: 32px;\n",
              "      padding: 0 0 0 0;\n",
              "      width: 32px;\n",
              "    }\n",
              "\n",
              "    .colab-df-convert:hover {\n",
              "      background-color: #E2EBFA;\n",
              "      box-shadow: 0px 1px 2px rgba(60, 64, 67, 0.3), 0px 1px 3px 1px rgba(60, 64, 67, 0.15);\n",
              "      fill: #174EA6;\n",
              "    }\n",
              "\n",
              "    [theme=dark] .colab-df-convert {\n",
              "      background-color: #3B4455;\n",
              "      fill: #D2E3FC;\n",
              "    }\n",
              "\n",
              "    [theme=dark] .colab-df-convert:hover {\n",
              "      background-color: #434B5C;\n",
              "      box-shadow: 0px 1px 3px 1px rgba(0, 0, 0, 0.15);\n",
              "      filter: drop-shadow(0px 1px 2px rgba(0, 0, 0, 0.3));\n",
              "      fill: #FFFFFF;\n",
              "    }\n",
              "  </style>\n",
              "\n",
              "      <script>\n",
              "        const buttonEl =\n",
              "          document.querySelector('#df-c3f617ae-6100-466d-8aa0-91d09fd9d9f9 button.colab-df-convert');\n",
              "        buttonEl.style.display =\n",
              "          google.colab.kernel.accessAllowed ? 'block' : 'none';\n",
              "\n",
              "        async function convertToInteractive(key) {\n",
              "          const element = document.querySelector('#df-c3f617ae-6100-466d-8aa0-91d09fd9d9f9');\n",
              "          const dataTable =\n",
              "            await google.colab.kernel.invokeFunction('convertToInteractive',\n",
              "                                                     [key], {});\n",
              "          if (!dataTable) return;\n",
              "\n",
              "          const docLinkHtml = 'Like what you see? Visit the ' +\n",
              "            '<a target=\"_blank\" href=https://colab.research.google.com/notebooks/data_table.ipynb>data table notebook</a>'\n",
              "            + ' to learn more about interactive tables.';\n",
              "          element.innerHTML = '';\n",
              "          dataTable['output_type'] = 'display_data';\n",
              "          await google.colab.output.renderOutput(dataTable, element);\n",
              "          const docLink = document.createElement('div');\n",
              "          docLink.innerHTML = docLinkHtml;\n",
              "          element.appendChild(docLink);\n",
              "        }\n",
              "      </script>\n",
              "    </div>\n",
              "  </div>\n",
              "  "
            ]
          },
          "metadata": {},
          "execution_count": 53
        }
      ]
    },
    {
      "cell_type": "code",
      "source": [
        "# cek duplicate\n",
        "Sale_Out[Sale_Out.duplicated(keep=False)]"
      ],
      "metadata": {
        "colab": {
          "base_uri": "https://localhost:8080/",
          "height": 49
        },
        "id": "rTMnh3nlO8DS",
        "outputId": "4e5d35d0-66c2-426c-c1d4-1de43d1b1194"
      },
      "execution_count": 54,
      "outputs": [
        {
          "output_type": "execute_result",
          "data": {
            "text/plain": [
              "Empty DataFrame\n",
              "Columns: [sales_outlet_id, sales_outlet_type, store_square_feet, store_address, store_city, store_state_province, store_telephone, store_postal_code, store_longitude, store_latitude, manager, Neighorhood]\n",
              "Index: []"
            ],
            "text/html": [
              "\n",
              "  <div id=\"df-1ab08fec-613c-4f82-8243-16f72c63a7be\">\n",
              "    <div class=\"colab-df-container\">\n",
              "      <div>\n",
              "<style scoped>\n",
              "    .dataframe tbody tr th:only-of-type {\n",
              "        vertical-align: middle;\n",
              "    }\n",
              "\n",
              "    .dataframe tbody tr th {\n",
              "        vertical-align: top;\n",
              "    }\n",
              "\n",
              "    .dataframe thead th {\n",
              "        text-align: right;\n",
              "    }\n",
              "</style>\n",
              "<table border=\"1\" class=\"dataframe\">\n",
              "  <thead>\n",
              "    <tr style=\"text-align: right;\">\n",
              "      <th></th>\n",
              "      <th>sales_outlet_id</th>\n",
              "      <th>sales_outlet_type</th>\n",
              "      <th>store_square_feet</th>\n",
              "      <th>store_address</th>\n",
              "      <th>store_city</th>\n",
              "      <th>store_state_province</th>\n",
              "      <th>store_telephone</th>\n",
              "      <th>store_postal_code</th>\n",
              "      <th>store_longitude</th>\n",
              "      <th>store_latitude</th>\n",
              "      <th>manager</th>\n",
              "      <th>Neighorhood</th>\n",
              "    </tr>\n",
              "  </thead>\n",
              "  <tbody>\n",
              "  </tbody>\n",
              "</table>\n",
              "</div>\n",
              "      <button class=\"colab-df-convert\" onclick=\"convertToInteractive('df-1ab08fec-613c-4f82-8243-16f72c63a7be')\"\n",
              "              title=\"Convert this dataframe to an interactive table.\"\n",
              "              style=\"display:none;\">\n",
              "        \n",
              "  <svg xmlns=\"http://www.w3.org/2000/svg\" height=\"24px\"viewBox=\"0 0 24 24\"\n",
              "       width=\"24px\">\n",
              "    <path d=\"M0 0h24v24H0V0z\" fill=\"none\"/>\n",
              "    <path d=\"M18.56 5.44l.94 2.06.94-2.06 2.06-.94-2.06-.94-.94-2.06-.94 2.06-2.06.94zm-11 1L8.5 8.5l.94-2.06 2.06-.94-2.06-.94L8.5 2.5l-.94 2.06-2.06.94zm10 10l.94 2.06.94-2.06 2.06-.94-2.06-.94-.94-2.06-.94 2.06-2.06.94z\"/><path d=\"M17.41 7.96l-1.37-1.37c-.4-.4-.92-.59-1.43-.59-.52 0-1.04.2-1.43.59L10.3 9.45l-7.72 7.72c-.78.78-.78 2.05 0 2.83L4 21.41c.39.39.9.59 1.41.59.51 0 1.02-.2 1.41-.59l7.78-7.78 2.81-2.81c.8-.78.8-2.07 0-2.86zM5.41 20L4 18.59l7.72-7.72 1.47 1.35L5.41 20z\"/>\n",
              "  </svg>\n",
              "      </button>\n",
              "      \n",
              "  <style>\n",
              "    .colab-df-container {\n",
              "      display:flex;\n",
              "      flex-wrap:wrap;\n",
              "      gap: 12px;\n",
              "    }\n",
              "\n",
              "    .colab-df-convert {\n",
              "      background-color: #E8F0FE;\n",
              "      border: none;\n",
              "      border-radius: 50%;\n",
              "      cursor: pointer;\n",
              "      display: none;\n",
              "      fill: #1967D2;\n",
              "      height: 32px;\n",
              "      padding: 0 0 0 0;\n",
              "      width: 32px;\n",
              "    }\n",
              "\n",
              "    .colab-df-convert:hover {\n",
              "      background-color: #E2EBFA;\n",
              "      box-shadow: 0px 1px 2px rgba(60, 64, 67, 0.3), 0px 1px 3px 1px rgba(60, 64, 67, 0.15);\n",
              "      fill: #174EA6;\n",
              "    }\n",
              "\n",
              "    [theme=dark] .colab-df-convert {\n",
              "      background-color: #3B4455;\n",
              "      fill: #D2E3FC;\n",
              "    }\n",
              "\n",
              "    [theme=dark] .colab-df-convert:hover {\n",
              "      background-color: #434B5C;\n",
              "      box-shadow: 0px 1px 3px 1px rgba(0, 0, 0, 0.15);\n",
              "      filter: drop-shadow(0px 1px 2px rgba(0, 0, 0, 0.3));\n",
              "      fill: #FFFFFF;\n",
              "    }\n",
              "  </style>\n",
              "\n",
              "      <script>\n",
              "        const buttonEl =\n",
              "          document.querySelector('#df-1ab08fec-613c-4f82-8243-16f72c63a7be button.colab-df-convert');\n",
              "        buttonEl.style.display =\n",
              "          google.colab.kernel.accessAllowed ? 'block' : 'none';\n",
              "\n",
              "        async function convertToInteractive(key) {\n",
              "          const element = document.querySelector('#df-1ab08fec-613c-4f82-8243-16f72c63a7be');\n",
              "          const dataTable =\n",
              "            await google.colab.kernel.invokeFunction('convertToInteractive',\n",
              "                                                     [key], {});\n",
              "          if (!dataTable) return;\n",
              "\n",
              "          const docLinkHtml = 'Like what you see? Visit the ' +\n",
              "            '<a target=\"_blank\" href=https://colab.research.google.com/notebooks/data_table.ipynb>data table notebook</a>'\n",
              "            + ' to learn more about interactive tables.';\n",
              "          element.innerHTML = '';\n",
              "          dataTable['output_type'] = 'display_data';\n",
              "          await google.colab.output.renderOutput(dataTable, element);\n",
              "          const docLink = document.createElement('div');\n",
              "          docLink.innerHTML = docLinkHtml;\n",
              "          element.appendChild(docLink);\n",
              "        }\n",
              "      </script>\n",
              "    </div>\n",
              "  </div>\n",
              "  "
            ]
          },
          "metadata": {},
          "execution_count": 54
        }
      ]
    },
    {
      "cell_type": "code",
      "source": [
        "# cek oulier\n",
        "hasil_outlier(Sale_Out['store_square_feet'])"
      ],
      "metadata": {
        "colab": {
          "base_uri": "https://localhost:8080/"
        },
        "id": "b8jXLEaawvvt",
        "outputId": "cfc78d46-302b-42aa-a299-f0645e05e185"
      },
      "execution_count": 55,
      "outputs": [
        {
          "output_type": "stream",
          "name": "stdout",
          "text": [
            "Banyaknya outlier  1\n",
            "Beberapa outlier dari data:  [3400]\n"
          ]
        }
      ]
    },
    {
      "cell_type": "code",
      "source": [
        "hasil_outlier(Sale_Out['store_longitude'])"
      ],
      "metadata": {
        "colab": {
          "base_uri": "https://localhost:8080/"
        },
        "id": "7jAF5QSfwzan",
        "outputId": "fb55b6da-1e3a-4456-d984-b9b3d5555190"
      },
      "execution_count": 56,
      "outputs": [
        {
          "output_type": "stream",
          "name": "stdout",
          "text": [
            "Banyaknya outlier  1\n",
            "Beberapa outlier dari data:  [-73.795168]\n"
          ]
        }
      ]
    },
    {
      "cell_type": "code",
      "source": [
        "hasil_outlier(Sale_Out['store_latitude'])"
      ],
      "metadata": {
        "colab": {
          "base_uri": "https://localhost:8080/"
        },
        "id": "yw039YlTw0yw",
        "outputId": "e396671d-a7d0-443e-addd-862581615811"
      },
      "execution_count": 57,
      "outputs": [
        {
          "output_type": "stream",
          "name": "stdout",
          "text": [
            "Banyaknya outlier  0\n",
            "Beberapa outlier dari data:  []\n"
          ]
        }
      ]
    },
    {
      "cell_type": "markdown",
      "source": [
        "Dari analisa outlier terdapat oulier pada data 'store_square_feet' dan 'store_longitude'. Tetapi tidak dilakukan handling outlier karena jika dilakukan handling outlier data yang akan dihasilkan akan bias"
      ],
      "metadata": {
        "id": "jIDzbE9Jw2Lg"
      }
    },
    {
      "cell_type": "markdown",
      "source": [
        "#### Data prep Sales_Reciepts"
      ],
      "metadata": {
        "id": "TcuOfNdIctSy"
      }
    },
    {
      "cell_type": "code",
      "source": [
        "# Membaca isi data\n",
        "Sale_Rec = pd.read_csv(path+'Sales_Reciepts.csv')\n",
        "Sale_Rec.head()"
      ],
      "metadata": {
        "colab": {
          "base_uri": "https://localhost:8080/",
          "height": 206
        },
        "id": "49lPy0mtwi5G",
        "outputId": "c451f03d-0e86-4dad-a83b-f149571b2dd0"
      },
      "execution_count": 58,
      "outputs": [
        {
          "output_type": "execute_result",
          "data": {
            "text/plain": [
              "   transaction_id transaction_date transaction_time  sales_outlet_id  \\\n",
              "0               7       2019-04-01         12:04:43                3   \n",
              "1              11       2019-04-01         15:54:39                3   \n",
              "2              19       2019-04-01         14:34:59                3   \n",
              "3              32       2019-04-01         16:06:04                3   \n",
              "4              33       2019-04-01         19:18:37                3   \n",
              "\n",
              "   staff_id  customer_id instore_yn  order  line_item_id  product_id  \\\n",
              "0        12          558          N      1             1          52   \n",
              "1        17          781          N      1             1          27   \n",
              "2        17          788          Y      1             1          46   \n",
              "3        12          683          N      1             1          23   \n",
              "4        17           99          Y      1             1          34   \n",
              "\n",
              "   quantity  line_item_amount  unit_price promo_item_yn  \n",
              "0         1              2.50        2.50             N  \n",
              "1         2              7.00        3.50             N  \n",
              "2         2              5.00        2.50             N  \n",
              "3         2              5.00        2.50             N  \n",
              "4         1              2.45        2.45             N  "
            ],
            "text/html": [
              "\n",
              "  <div id=\"df-bd124799-d10a-44fa-811f-aad3c0a05299\">\n",
              "    <div class=\"colab-df-container\">\n",
              "      <div>\n",
              "<style scoped>\n",
              "    .dataframe tbody tr th:only-of-type {\n",
              "        vertical-align: middle;\n",
              "    }\n",
              "\n",
              "    .dataframe tbody tr th {\n",
              "        vertical-align: top;\n",
              "    }\n",
              "\n",
              "    .dataframe thead th {\n",
              "        text-align: right;\n",
              "    }\n",
              "</style>\n",
              "<table border=\"1\" class=\"dataframe\">\n",
              "  <thead>\n",
              "    <tr style=\"text-align: right;\">\n",
              "      <th></th>\n",
              "      <th>transaction_id</th>\n",
              "      <th>transaction_date</th>\n",
              "      <th>transaction_time</th>\n",
              "      <th>sales_outlet_id</th>\n",
              "      <th>staff_id</th>\n",
              "      <th>customer_id</th>\n",
              "      <th>instore_yn</th>\n",
              "      <th>order</th>\n",
              "      <th>line_item_id</th>\n",
              "      <th>product_id</th>\n",
              "      <th>quantity</th>\n",
              "      <th>line_item_amount</th>\n",
              "      <th>unit_price</th>\n",
              "      <th>promo_item_yn</th>\n",
              "    </tr>\n",
              "  </thead>\n",
              "  <tbody>\n",
              "    <tr>\n",
              "      <th>0</th>\n",
              "      <td>7</td>\n",
              "      <td>2019-04-01</td>\n",
              "      <td>12:04:43</td>\n",
              "      <td>3</td>\n",
              "      <td>12</td>\n",
              "      <td>558</td>\n",
              "      <td>N</td>\n",
              "      <td>1</td>\n",
              "      <td>1</td>\n",
              "      <td>52</td>\n",
              "      <td>1</td>\n",
              "      <td>2.50</td>\n",
              "      <td>2.50</td>\n",
              "      <td>N</td>\n",
              "    </tr>\n",
              "    <tr>\n",
              "      <th>1</th>\n",
              "      <td>11</td>\n",
              "      <td>2019-04-01</td>\n",
              "      <td>15:54:39</td>\n",
              "      <td>3</td>\n",
              "      <td>17</td>\n",
              "      <td>781</td>\n",
              "      <td>N</td>\n",
              "      <td>1</td>\n",
              "      <td>1</td>\n",
              "      <td>27</td>\n",
              "      <td>2</td>\n",
              "      <td>7.00</td>\n",
              "      <td>3.50</td>\n",
              "      <td>N</td>\n",
              "    </tr>\n",
              "    <tr>\n",
              "      <th>2</th>\n",
              "      <td>19</td>\n",
              "      <td>2019-04-01</td>\n",
              "      <td>14:34:59</td>\n",
              "      <td>3</td>\n",
              "      <td>17</td>\n",
              "      <td>788</td>\n",
              "      <td>Y</td>\n",
              "      <td>1</td>\n",
              "      <td>1</td>\n",
              "      <td>46</td>\n",
              "      <td>2</td>\n",
              "      <td>5.00</td>\n",
              "      <td>2.50</td>\n",
              "      <td>N</td>\n",
              "    </tr>\n",
              "    <tr>\n",
              "      <th>3</th>\n",
              "      <td>32</td>\n",
              "      <td>2019-04-01</td>\n",
              "      <td>16:06:04</td>\n",
              "      <td>3</td>\n",
              "      <td>12</td>\n",
              "      <td>683</td>\n",
              "      <td>N</td>\n",
              "      <td>1</td>\n",
              "      <td>1</td>\n",
              "      <td>23</td>\n",
              "      <td>2</td>\n",
              "      <td>5.00</td>\n",
              "      <td>2.50</td>\n",
              "      <td>N</td>\n",
              "    </tr>\n",
              "    <tr>\n",
              "      <th>4</th>\n",
              "      <td>33</td>\n",
              "      <td>2019-04-01</td>\n",
              "      <td>19:18:37</td>\n",
              "      <td>3</td>\n",
              "      <td>17</td>\n",
              "      <td>99</td>\n",
              "      <td>Y</td>\n",
              "      <td>1</td>\n",
              "      <td>1</td>\n",
              "      <td>34</td>\n",
              "      <td>1</td>\n",
              "      <td>2.45</td>\n",
              "      <td>2.45</td>\n",
              "      <td>N</td>\n",
              "    </tr>\n",
              "  </tbody>\n",
              "</table>\n",
              "</div>\n",
              "      <button class=\"colab-df-convert\" onclick=\"convertToInteractive('df-bd124799-d10a-44fa-811f-aad3c0a05299')\"\n",
              "              title=\"Convert this dataframe to an interactive table.\"\n",
              "              style=\"display:none;\">\n",
              "        \n",
              "  <svg xmlns=\"http://www.w3.org/2000/svg\" height=\"24px\"viewBox=\"0 0 24 24\"\n",
              "       width=\"24px\">\n",
              "    <path d=\"M0 0h24v24H0V0z\" fill=\"none\"/>\n",
              "    <path d=\"M18.56 5.44l.94 2.06.94-2.06 2.06-.94-2.06-.94-.94-2.06-.94 2.06-2.06.94zm-11 1L8.5 8.5l.94-2.06 2.06-.94-2.06-.94L8.5 2.5l-.94 2.06-2.06.94zm10 10l.94 2.06.94-2.06 2.06-.94-2.06-.94-.94-2.06-.94 2.06-2.06.94z\"/><path d=\"M17.41 7.96l-1.37-1.37c-.4-.4-.92-.59-1.43-.59-.52 0-1.04.2-1.43.59L10.3 9.45l-7.72 7.72c-.78.78-.78 2.05 0 2.83L4 21.41c.39.39.9.59 1.41.59.51 0 1.02-.2 1.41-.59l7.78-7.78 2.81-2.81c.8-.78.8-2.07 0-2.86zM5.41 20L4 18.59l7.72-7.72 1.47 1.35L5.41 20z\"/>\n",
              "  </svg>\n",
              "      </button>\n",
              "      \n",
              "  <style>\n",
              "    .colab-df-container {\n",
              "      display:flex;\n",
              "      flex-wrap:wrap;\n",
              "      gap: 12px;\n",
              "    }\n",
              "\n",
              "    .colab-df-convert {\n",
              "      background-color: #E8F0FE;\n",
              "      border: none;\n",
              "      border-radius: 50%;\n",
              "      cursor: pointer;\n",
              "      display: none;\n",
              "      fill: #1967D2;\n",
              "      height: 32px;\n",
              "      padding: 0 0 0 0;\n",
              "      width: 32px;\n",
              "    }\n",
              "\n",
              "    .colab-df-convert:hover {\n",
              "      background-color: #E2EBFA;\n",
              "      box-shadow: 0px 1px 2px rgba(60, 64, 67, 0.3), 0px 1px 3px 1px rgba(60, 64, 67, 0.15);\n",
              "      fill: #174EA6;\n",
              "    }\n",
              "\n",
              "    [theme=dark] .colab-df-convert {\n",
              "      background-color: #3B4455;\n",
              "      fill: #D2E3FC;\n",
              "    }\n",
              "\n",
              "    [theme=dark] .colab-df-convert:hover {\n",
              "      background-color: #434B5C;\n",
              "      box-shadow: 0px 1px 3px 1px rgba(0, 0, 0, 0.15);\n",
              "      filter: drop-shadow(0px 1px 2px rgba(0, 0, 0, 0.3));\n",
              "      fill: #FFFFFF;\n",
              "    }\n",
              "  </style>\n",
              "\n",
              "      <script>\n",
              "        const buttonEl =\n",
              "          document.querySelector('#df-bd124799-d10a-44fa-811f-aad3c0a05299 button.colab-df-convert');\n",
              "        buttonEl.style.display =\n",
              "          google.colab.kernel.accessAllowed ? 'block' : 'none';\n",
              "\n",
              "        async function convertToInteractive(key) {\n",
              "          const element = document.querySelector('#df-bd124799-d10a-44fa-811f-aad3c0a05299');\n",
              "          const dataTable =\n",
              "            await google.colab.kernel.invokeFunction('convertToInteractive',\n",
              "                                                     [key], {});\n",
              "          if (!dataTable) return;\n",
              "\n",
              "          const docLinkHtml = 'Like what you see? Visit the ' +\n",
              "            '<a target=\"_blank\" href=https://colab.research.google.com/notebooks/data_table.ipynb>data table notebook</a>'\n",
              "            + ' to learn more about interactive tables.';\n",
              "          element.innerHTML = '';\n",
              "          dataTable['output_type'] = 'display_data';\n",
              "          await google.colab.output.renderOutput(dataTable, element);\n",
              "          const docLink = document.createElement('div');\n",
              "          docLink.innerHTML = docLinkHtml;\n",
              "          element.appendChild(docLink);\n",
              "        }\n",
              "      </script>\n",
              "    </div>\n",
              "  </div>\n",
              "  "
            ]
          },
          "metadata": {},
          "execution_count": 58
        }
      ]
    },
    {
      "cell_type": "code",
      "source": [
        "#cek tipe data \n",
        "Sale_Rec.info()"
      ],
      "metadata": {
        "colab": {
          "base_uri": "https://localhost:8080/"
        },
        "id": "zXks8ovlRY7P",
        "outputId": "35023cb6-fe16-4911-ce74-7d2b17416272"
      },
      "execution_count": 59,
      "outputs": [
        {
          "output_type": "stream",
          "name": "stdout",
          "text": [
            "<class 'pandas.core.frame.DataFrame'>\n",
            "RangeIndex: 49894 entries, 0 to 49893\n",
            "Data columns (total 14 columns):\n",
            " #   Column            Non-Null Count  Dtype  \n",
            "---  ------            --------------  -----  \n",
            " 0   transaction_id    49894 non-null  int64  \n",
            " 1   transaction_date  49894 non-null  object \n",
            " 2   transaction_time  49894 non-null  object \n",
            " 3   sales_outlet_id   49894 non-null  int64  \n",
            " 4   staff_id          49894 non-null  int64  \n",
            " 5   customer_id       49894 non-null  int64  \n",
            " 6   instore_yn        49894 non-null  object \n",
            " 7   order             49894 non-null  int64  \n",
            " 8   line_item_id      49894 non-null  int64  \n",
            " 9   product_id        49894 non-null  int64  \n",
            " 10  quantity          49894 non-null  int64  \n",
            " 11  line_item_amount  49894 non-null  float64\n",
            " 12  unit_price        49894 non-null  float64\n",
            " 13  promo_item_yn     49894 non-null  object \n",
            "dtypes: float64(2), int64(8), object(4)\n",
            "memory usage: 5.3+ MB\n"
          ]
        }
      ]
    },
    {
      "cell_type": "code",
      "source": [
        "# cek missing value\n",
        "pd.isnull(Sale_Rec).sum()"
      ],
      "metadata": {
        "colab": {
          "base_uri": "https://localhost:8080/"
        },
        "id": "OUad1fVlR4iy",
        "outputId": "a7653044-074f-4200-fc20-cbcc098161b0"
      },
      "execution_count": 60,
      "outputs": [
        {
          "output_type": "execute_result",
          "data": {
            "text/plain": [
              "transaction_id      0\n",
              "transaction_date    0\n",
              "transaction_time    0\n",
              "sales_outlet_id     0\n",
              "staff_id            0\n",
              "customer_id         0\n",
              "instore_yn          0\n",
              "order               0\n",
              "line_item_id        0\n",
              "product_id          0\n",
              "quantity            0\n",
              "line_item_amount    0\n",
              "unit_price          0\n",
              "promo_item_yn       0\n",
              "dtype: int64"
            ]
          },
          "metadata": {},
          "execution_count": 60
        }
      ]
    },
    {
      "cell_type": "markdown",
      "source": [
        "Dari analisa diatas tidak adanya missing value, tetapi adanya beberapa data yang tipe datanya harus diubah seperti data  'transaction_id', 'sales_outlet_id', 'customer_id', 'staf_id', 'product_id', 'line_item_id' diubah ke object dan data 'trasaction date' diubah ke date serta data 'transaction_time' diubah ke time"
      ],
      "metadata": {
        "id": "iAAki4q1SGNN"
      }
    },
    {
      "cell_type": "code",
      "source": [
        "# Mengubah tipe data\n",
        "string_data = ['transaction_id','sales_outlet_id','staff_id','customer_id','line_item_id','product_id']\n",
        "for data in string_data:\n",
        "  Sale_Rec[data]=Sale_Rec[data].astype(str)\n",
        "\n",
        "Sale_Rec['transaction_date']=pd.to_datetime(Sale_Rec['transaction_date'])\n",
        "\n",
        "# mengubah ke tipe data time\n",
        "Sale_Rec['transaction_time'] = pd.to_datetime(Sale_Rec['transaction_time'], format='%H:%M:%S')\n"
      ],
      "metadata": {
        "id": "sb5NQ15uUuKt"
      },
      "execution_count": 61,
      "outputs": []
    },
    {
      "cell_type": "code",
      "source": [
        "Sale_Rec.info()"
      ],
      "metadata": {
        "colab": {
          "base_uri": "https://localhost:8080/"
        },
        "id": "yIqGHXDDXlvq",
        "outputId": "da677104-914e-4de5-b209-ea0a09cfc95e"
      },
      "execution_count": 62,
      "outputs": [
        {
          "output_type": "stream",
          "name": "stdout",
          "text": [
            "<class 'pandas.core.frame.DataFrame'>\n",
            "RangeIndex: 49894 entries, 0 to 49893\n",
            "Data columns (total 14 columns):\n",
            " #   Column            Non-Null Count  Dtype         \n",
            "---  ------            --------------  -----         \n",
            " 0   transaction_id    49894 non-null  object        \n",
            " 1   transaction_date  49894 non-null  datetime64[ns]\n",
            " 2   transaction_time  49894 non-null  datetime64[ns]\n",
            " 3   sales_outlet_id   49894 non-null  object        \n",
            " 4   staff_id          49894 non-null  object        \n",
            " 5   customer_id       49894 non-null  object        \n",
            " 6   instore_yn        49894 non-null  object        \n",
            " 7   order             49894 non-null  int64         \n",
            " 8   line_item_id      49894 non-null  object        \n",
            " 9   product_id        49894 non-null  object        \n",
            " 10  quantity          49894 non-null  int64         \n",
            " 11  line_item_amount  49894 non-null  float64       \n",
            " 12  unit_price        49894 non-null  float64       \n",
            " 13  promo_item_yn     49894 non-null  object        \n",
            "dtypes: datetime64[ns](2), float64(2), int64(2), object(8)\n",
            "memory usage: 5.3+ MB\n"
          ]
        }
      ]
    },
    {
      "cell_type": "code",
      "source": [
        "Sale_Rec"
      ],
      "metadata": {
        "colab": {
          "base_uri": "https://localhost:8080/",
          "height": 423
        },
        "id": "G4YIG5AaXE80",
        "outputId": "549214bc-33f5-4c2d-fc65-570ace045935"
      },
      "execution_count": 63,
      "outputs": [
        {
          "output_type": "execute_result",
          "data": {
            "text/plain": [
              "      transaction_id transaction_date    transaction_time sales_outlet_id  \\\n",
              "0                  7       2019-04-01 1900-01-01 12:04:43               3   \n",
              "1                 11       2019-04-01 1900-01-01 15:54:39               3   \n",
              "2                 19       2019-04-01 1900-01-01 14:34:59               3   \n",
              "3                 32       2019-04-01 1900-01-01 16:06:04               3   \n",
              "4                 33       2019-04-01 1900-01-01 19:18:37               3   \n",
              "...              ...              ...                 ...             ...   \n",
              "49889            753       2019-04-29 1900-01-01 16:51:58               8   \n",
              "49890            756       2019-04-29 1900-01-01 16:51:14               8   \n",
              "49891            759       2019-04-29 1900-01-01 11:17:36               8   \n",
              "49892            763       2019-04-29 1900-01-01 15:45:52               8   \n",
              "49893            763       2019-04-29 1900-01-01 15:45:52               8   \n",
              "\n",
              "      staff_id customer_id instore_yn  order line_item_id product_id  \\\n",
              "0           12         558          N      1            1         52   \n",
              "1           17         781          N      1            1         27   \n",
              "2           17         788          Y      1            1         46   \n",
              "3           12         683          N      1            1         23   \n",
              "4           17          99          Y      1            1         34   \n",
              "...        ...         ...        ...    ...          ...        ...   \n",
              "49889       42           0          N      1            1         30   \n",
              "49890       42        8412          Y      1            1         25   \n",
              "49891       15           0          Y      1            1         31   \n",
              "49892       45        8030          N      1            1         44   \n",
              "49893       45        8030          N      1            5         75   \n",
              "\n",
              "       quantity  line_item_amount  unit_price promo_item_yn  \n",
              "0             1              2.50        2.50             N  \n",
              "1             2              7.00        3.50             N  \n",
              "2             2              5.00        2.50             N  \n",
              "3             2              5.00        2.50             N  \n",
              "4             1              2.45        2.45             N  \n",
              "...         ...               ...         ...           ...  \n",
              "49889         1              3.00        3.00             N  \n",
              "49890         2              4.40        2.20             N  \n",
              "49891         1              2.20        2.20             N  \n",
              "49892         2              5.00        2.50             N  \n",
              "49893         1              3.50        3.50             N  \n",
              "\n",
              "[49894 rows x 14 columns]"
            ],
            "text/html": [
              "\n",
              "  <div id=\"df-8bc3ffd9-28d3-4822-a8ab-90523f87110e\">\n",
              "    <div class=\"colab-df-container\">\n",
              "      <div>\n",
              "<style scoped>\n",
              "    .dataframe tbody tr th:only-of-type {\n",
              "        vertical-align: middle;\n",
              "    }\n",
              "\n",
              "    .dataframe tbody tr th {\n",
              "        vertical-align: top;\n",
              "    }\n",
              "\n",
              "    .dataframe thead th {\n",
              "        text-align: right;\n",
              "    }\n",
              "</style>\n",
              "<table border=\"1\" class=\"dataframe\">\n",
              "  <thead>\n",
              "    <tr style=\"text-align: right;\">\n",
              "      <th></th>\n",
              "      <th>transaction_id</th>\n",
              "      <th>transaction_date</th>\n",
              "      <th>transaction_time</th>\n",
              "      <th>sales_outlet_id</th>\n",
              "      <th>staff_id</th>\n",
              "      <th>customer_id</th>\n",
              "      <th>instore_yn</th>\n",
              "      <th>order</th>\n",
              "      <th>line_item_id</th>\n",
              "      <th>product_id</th>\n",
              "      <th>quantity</th>\n",
              "      <th>line_item_amount</th>\n",
              "      <th>unit_price</th>\n",
              "      <th>promo_item_yn</th>\n",
              "    </tr>\n",
              "  </thead>\n",
              "  <tbody>\n",
              "    <tr>\n",
              "      <th>0</th>\n",
              "      <td>7</td>\n",
              "      <td>2019-04-01</td>\n",
              "      <td>1900-01-01 12:04:43</td>\n",
              "      <td>3</td>\n",
              "      <td>12</td>\n",
              "      <td>558</td>\n",
              "      <td>N</td>\n",
              "      <td>1</td>\n",
              "      <td>1</td>\n",
              "      <td>52</td>\n",
              "      <td>1</td>\n",
              "      <td>2.50</td>\n",
              "      <td>2.50</td>\n",
              "      <td>N</td>\n",
              "    </tr>\n",
              "    <tr>\n",
              "      <th>1</th>\n",
              "      <td>11</td>\n",
              "      <td>2019-04-01</td>\n",
              "      <td>1900-01-01 15:54:39</td>\n",
              "      <td>3</td>\n",
              "      <td>17</td>\n",
              "      <td>781</td>\n",
              "      <td>N</td>\n",
              "      <td>1</td>\n",
              "      <td>1</td>\n",
              "      <td>27</td>\n",
              "      <td>2</td>\n",
              "      <td>7.00</td>\n",
              "      <td>3.50</td>\n",
              "      <td>N</td>\n",
              "    </tr>\n",
              "    <tr>\n",
              "      <th>2</th>\n",
              "      <td>19</td>\n",
              "      <td>2019-04-01</td>\n",
              "      <td>1900-01-01 14:34:59</td>\n",
              "      <td>3</td>\n",
              "      <td>17</td>\n",
              "      <td>788</td>\n",
              "      <td>Y</td>\n",
              "      <td>1</td>\n",
              "      <td>1</td>\n",
              "      <td>46</td>\n",
              "      <td>2</td>\n",
              "      <td>5.00</td>\n",
              "      <td>2.50</td>\n",
              "      <td>N</td>\n",
              "    </tr>\n",
              "    <tr>\n",
              "      <th>3</th>\n",
              "      <td>32</td>\n",
              "      <td>2019-04-01</td>\n",
              "      <td>1900-01-01 16:06:04</td>\n",
              "      <td>3</td>\n",
              "      <td>12</td>\n",
              "      <td>683</td>\n",
              "      <td>N</td>\n",
              "      <td>1</td>\n",
              "      <td>1</td>\n",
              "      <td>23</td>\n",
              "      <td>2</td>\n",
              "      <td>5.00</td>\n",
              "      <td>2.50</td>\n",
              "      <td>N</td>\n",
              "    </tr>\n",
              "    <tr>\n",
              "      <th>4</th>\n",
              "      <td>33</td>\n",
              "      <td>2019-04-01</td>\n",
              "      <td>1900-01-01 19:18:37</td>\n",
              "      <td>3</td>\n",
              "      <td>17</td>\n",
              "      <td>99</td>\n",
              "      <td>Y</td>\n",
              "      <td>1</td>\n",
              "      <td>1</td>\n",
              "      <td>34</td>\n",
              "      <td>1</td>\n",
              "      <td>2.45</td>\n",
              "      <td>2.45</td>\n",
              "      <td>N</td>\n",
              "    </tr>\n",
              "    <tr>\n",
              "      <th>...</th>\n",
              "      <td>...</td>\n",
              "      <td>...</td>\n",
              "      <td>...</td>\n",
              "      <td>...</td>\n",
              "      <td>...</td>\n",
              "      <td>...</td>\n",
              "      <td>...</td>\n",
              "      <td>...</td>\n",
              "      <td>...</td>\n",
              "      <td>...</td>\n",
              "      <td>...</td>\n",
              "      <td>...</td>\n",
              "      <td>...</td>\n",
              "      <td>...</td>\n",
              "    </tr>\n",
              "    <tr>\n",
              "      <th>49889</th>\n",
              "      <td>753</td>\n",
              "      <td>2019-04-29</td>\n",
              "      <td>1900-01-01 16:51:58</td>\n",
              "      <td>8</td>\n",
              "      <td>42</td>\n",
              "      <td>0</td>\n",
              "      <td>N</td>\n",
              "      <td>1</td>\n",
              "      <td>1</td>\n",
              "      <td>30</td>\n",
              "      <td>1</td>\n",
              "      <td>3.00</td>\n",
              "      <td>3.00</td>\n",
              "      <td>N</td>\n",
              "    </tr>\n",
              "    <tr>\n",
              "      <th>49890</th>\n",
              "      <td>756</td>\n",
              "      <td>2019-04-29</td>\n",
              "      <td>1900-01-01 16:51:14</td>\n",
              "      <td>8</td>\n",
              "      <td>42</td>\n",
              "      <td>8412</td>\n",
              "      <td>Y</td>\n",
              "      <td>1</td>\n",
              "      <td>1</td>\n",
              "      <td>25</td>\n",
              "      <td>2</td>\n",
              "      <td>4.40</td>\n",
              "      <td>2.20</td>\n",
              "      <td>N</td>\n",
              "    </tr>\n",
              "    <tr>\n",
              "      <th>49891</th>\n",
              "      <td>759</td>\n",
              "      <td>2019-04-29</td>\n",
              "      <td>1900-01-01 11:17:36</td>\n",
              "      <td>8</td>\n",
              "      <td>15</td>\n",
              "      <td>0</td>\n",
              "      <td>Y</td>\n",
              "      <td>1</td>\n",
              "      <td>1</td>\n",
              "      <td>31</td>\n",
              "      <td>1</td>\n",
              "      <td>2.20</td>\n",
              "      <td>2.20</td>\n",
              "      <td>N</td>\n",
              "    </tr>\n",
              "    <tr>\n",
              "      <th>49892</th>\n",
              "      <td>763</td>\n",
              "      <td>2019-04-29</td>\n",
              "      <td>1900-01-01 15:45:52</td>\n",
              "      <td>8</td>\n",
              "      <td>45</td>\n",
              "      <td>8030</td>\n",
              "      <td>N</td>\n",
              "      <td>1</td>\n",
              "      <td>1</td>\n",
              "      <td>44</td>\n",
              "      <td>2</td>\n",
              "      <td>5.00</td>\n",
              "      <td>2.50</td>\n",
              "      <td>N</td>\n",
              "    </tr>\n",
              "    <tr>\n",
              "      <th>49893</th>\n",
              "      <td>763</td>\n",
              "      <td>2019-04-29</td>\n",
              "      <td>1900-01-01 15:45:52</td>\n",
              "      <td>8</td>\n",
              "      <td>45</td>\n",
              "      <td>8030</td>\n",
              "      <td>N</td>\n",
              "      <td>1</td>\n",
              "      <td>5</td>\n",
              "      <td>75</td>\n",
              "      <td>1</td>\n",
              "      <td>3.50</td>\n",
              "      <td>3.50</td>\n",
              "      <td>N</td>\n",
              "    </tr>\n",
              "  </tbody>\n",
              "</table>\n",
              "<p>49894 rows × 14 columns</p>\n",
              "</div>\n",
              "      <button class=\"colab-df-convert\" onclick=\"convertToInteractive('df-8bc3ffd9-28d3-4822-a8ab-90523f87110e')\"\n",
              "              title=\"Convert this dataframe to an interactive table.\"\n",
              "              style=\"display:none;\">\n",
              "        \n",
              "  <svg xmlns=\"http://www.w3.org/2000/svg\" height=\"24px\"viewBox=\"0 0 24 24\"\n",
              "       width=\"24px\">\n",
              "    <path d=\"M0 0h24v24H0V0z\" fill=\"none\"/>\n",
              "    <path d=\"M18.56 5.44l.94 2.06.94-2.06 2.06-.94-2.06-.94-.94-2.06-.94 2.06-2.06.94zm-11 1L8.5 8.5l.94-2.06 2.06-.94-2.06-.94L8.5 2.5l-.94 2.06-2.06.94zm10 10l.94 2.06.94-2.06 2.06-.94-2.06-.94-.94-2.06-.94 2.06-2.06.94z\"/><path d=\"M17.41 7.96l-1.37-1.37c-.4-.4-.92-.59-1.43-.59-.52 0-1.04.2-1.43.59L10.3 9.45l-7.72 7.72c-.78.78-.78 2.05 0 2.83L4 21.41c.39.39.9.59 1.41.59.51 0 1.02-.2 1.41-.59l7.78-7.78 2.81-2.81c.8-.78.8-2.07 0-2.86zM5.41 20L4 18.59l7.72-7.72 1.47 1.35L5.41 20z\"/>\n",
              "  </svg>\n",
              "      </button>\n",
              "      \n",
              "  <style>\n",
              "    .colab-df-container {\n",
              "      display:flex;\n",
              "      flex-wrap:wrap;\n",
              "      gap: 12px;\n",
              "    }\n",
              "\n",
              "    .colab-df-convert {\n",
              "      background-color: #E8F0FE;\n",
              "      border: none;\n",
              "      border-radius: 50%;\n",
              "      cursor: pointer;\n",
              "      display: none;\n",
              "      fill: #1967D2;\n",
              "      height: 32px;\n",
              "      padding: 0 0 0 0;\n",
              "      width: 32px;\n",
              "    }\n",
              "\n",
              "    .colab-df-convert:hover {\n",
              "      background-color: #E2EBFA;\n",
              "      box-shadow: 0px 1px 2px rgba(60, 64, 67, 0.3), 0px 1px 3px 1px rgba(60, 64, 67, 0.15);\n",
              "      fill: #174EA6;\n",
              "    }\n",
              "\n",
              "    [theme=dark] .colab-df-convert {\n",
              "      background-color: #3B4455;\n",
              "      fill: #D2E3FC;\n",
              "    }\n",
              "\n",
              "    [theme=dark] .colab-df-convert:hover {\n",
              "      background-color: #434B5C;\n",
              "      box-shadow: 0px 1px 3px 1px rgba(0, 0, 0, 0.15);\n",
              "      filter: drop-shadow(0px 1px 2px rgba(0, 0, 0, 0.3));\n",
              "      fill: #FFFFFF;\n",
              "    }\n",
              "  </style>\n",
              "\n",
              "      <script>\n",
              "        const buttonEl =\n",
              "          document.querySelector('#df-8bc3ffd9-28d3-4822-a8ab-90523f87110e button.colab-df-convert');\n",
              "        buttonEl.style.display =\n",
              "          google.colab.kernel.accessAllowed ? 'block' : 'none';\n",
              "\n",
              "        async function convertToInteractive(key) {\n",
              "          const element = document.querySelector('#df-8bc3ffd9-28d3-4822-a8ab-90523f87110e');\n",
              "          const dataTable =\n",
              "            await google.colab.kernel.invokeFunction('convertToInteractive',\n",
              "                                                     [key], {});\n",
              "          if (!dataTable) return;\n",
              "\n",
              "          const docLinkHtml = 'Like what you see? Visit the ' +\n",
              "            '<a target=\"_blank\" href=https://colab.research.google.com/notebooks/data_table.ipynb>data table notebook</a>'\n",
              "            + ' to learn more about interactive tables.';\n",
              "          element.innerHTML = '';\n",
              "          dataTable['output_type'] = 'display_data';\n",
              "          await google.colab.output.renderOutput(dataTable, element);\n",
              "          const docLink = document.createElement('div');\n",
              "          docLink.innerHTML = docLinkHtml;\n",
              "          element.appendChild(docLink);\n",
              "        }\n",
              "      </script>\n",
              "    </div>\n",
              "  </div>\n",
              "  "
            ]
          },
          "metadata": {},
          "execution_count": 63
        }
      ]
    },
    {
      "cell_type": "code",
      "source": [
        "# cek duplicate\n",
        "Sale_Rec[Sale_Rec.duplicated(keep=False)]"
      ],
      "metadata": {
        "colab": {
          "base_uri": "https://localhost:8080/",
          "height": 49
        },
        "id": "1l0RZPJxc4It",
        "outputId": "c498f97a-c10f-488b-879d-07188eebea88"
      },
      "execution_count": 64,
      "outputs": [
        {
          "output_type": "execute_result",
          "data": {
            "text/plain": [
              "Empty DataFrame\n",
              "Columns: [transaction_id, transaction_date, transaction_time, sales_outlet_id, staff_id, customer_id, instore_yn, order, line_item_id, product_id, quantity, line_item_amount, unit_price, promo_item_yn]\n",
              "Index: []"
            ],
            "text/html": [
              "\n",
              "  <div id=\"df-c27c110b-2346-461a-a896-34150dd4aa6d\">\n",
              "    <div class=\"colab-df-container\">\n",
              "      <div>\n",
              "<style scoped>\n",
              "    .dataframe tbody tr th:only-of-type {\n",
              "        vertical-align: middle;\n",
              "    }\n",
              "\n",
              "    .dataframe tbody tr th {\n",
              "        vertical-align: top;\n",
              "    }\n",
              "\n",
              "    .dataframe thead th {\n",
              "        text-align: right;\n",
              "    }\n",
              "</style>\n",
              "<table border=\"1\" class=\"dataframe\">\n",
              "  <thead>\n",
              "    <tr style=\"text-align: right;\">\n",
              "      <th></th>\n",
              "      <th>transaction_id</th>\n",
              "      <th>transaction_date</th>\n",
              "      <th>transaction_time</th>\n",
              "      <th>sales_outlet_id</th>\n",
              "      <th>staff_id</th>\n",
              "      <th>customer_id</th>\n",
              "      <th>instore_yn</th>\n",
              "      <th>order</th>\n",
              "      <th>line_item_id</th>\n",
              "      <th>product_id</th>\n",
              "      <th>quantity</th>\n",
              "      <th>line_item_amount</th>\n",
              "      <th>unit_price</th>\n",
              "      <th>promo_item_yn</th>\n",
              "    </tr>\n",
              "  </thead>\n",
              "  <tbody>\n",
              "  </tbody>\n",
              "</table>\n",
              "</div>\n",
              "      <button class=\"colab-df-convert\" onclick=\"convertToInteractive('df-c27c110b-2346-461a-a896-34150dd4aa6d')\"\n",
              "              title=\"Convert this dataframe to an interactive table.\"\n",
              "              style=\"display:none;\">\n",
              "        \n",
              "  <svg xmlns=\"http://www.w3.org/2000/svg\" height=\"24px\"viewBox=\"0 0 24 24\"\n",
              "       width=\"24px\">\n",
              "    <path d=\"M0 0h24v24H0V0z\" fill=\"none\"/>\n",
              "    <path d=\"M18.56 5.44l.94 2.06.94-2.06 2.06-.94-2.06-.94-.94-2.06-.94 2.06-2.06.94zm-11 1L8.5 8.5l.94-2.06 2.06-.94-2.06-.94L8.5 2.5l-.94 2.06-2.06.94zm10 10l.94 2.06.94-2.06 2.06-.94-2.06-.94-.94-2.06-.94 2.06-2.06.94z\"/><path d=\"M17.41 7.96l-1.37-1.37c-.4-.4-.92-.59-1.43-.59-.52 0-1.04.2-1.43.59L10.3 9.45l-7.72 7.72c-.78.78-.78 2.05 0 2.83L4 21.41c.39.39.9.59 1.41.59.51 0 1.02-.2 1.41-.59l7.78-7.78 2.81-2.81c.8-.78.8-2.07 0-2.86zM5.41 20L4 18.59l7.72-7.72 1.47 1.35L5.41 20z\"/>\n",
              "  </svg>\n",
              "      </button>\n",
              "      \n",
              "  <style>\n",
              "    .colab-df-container {\n",
              "      display:flex;\n",
              "      flex-wrap:wrap;\n",
              "      gap: 12px;\n",
              "    }\n",
              "\n",
              "    .colab-df-convert {\n",
              "      background-color: #E8F0FE;\n",
              "      border: none;\n",
              "      border-radius: 50%;\n",
              "      cursor: pointer;\n",
              "      display: none;\n",
              "      fill: #1967D2;\n",
              "      height: 32px;\n",
              "      padding: 0 0 0 0;\n",
              "      width: 32px;\n",
              "    }\n",
              "\n",
              "    .colab-df-convert:hover {\n",
              "      background-color: #E2EBFA;\n",
              "      box-shadow: 0px 1px 2px rgba(60, 64, 67, 0.3), 0px 1px 3px 1px rgba(60, 64, 67, 0.15);\n",
              "      fill: #174EA6;\n",
              "    }\n",
              "\n",
              "    [theme=dark] .colab-df-convert {\n",
              "      background-color: #3B4455;\n",
              "      fill: #D2E3FC;\n",
              "    }\n",
              "\n",
              "    [theme=dark] .colab-df-convert:hover {\n",
              "      background-color: #434B5C;\n",
              "      box-shadow: 0px 1px 3px 1px rgba(0, 0, 0, 0.15);\n",
              "      filter: drop-shadow(0px 1px 2px rgba(0, 0, 0, 0.3));\n",
              "      fill: #FFFFFF;\n",
              "    }\n",
              "  </style>\n",
              "\n",
              "      <script>\n",
              "        const buttonEl =\n",
              "          document.querySelector('#df-c27c110b-2346-461a-a896-34150dd4aa6d button.colab-df-convert');\n",
              "        buttonEl.style.display =\n",
              "          google.colab.kernel.accessAllowed ? 'block' : 'none';\n",
              "\n",
              "        async function convertToInteractive(key) {\n",
              "          const element = document.querySelector('#df-c27c110b-2346-461a-a896-34150dd4aa6d');\n",
              "          const dataTable =\n",
              "            await google.colab.kernel.invokeFunction('convertToInteractive',\n",
              "                                                     [key], {});\n",
              "          if (!dataTable) return;\n",
              "\n",
              "          const docLinkHtml = 'Like what you see? Visit the ' +\n",
              "            '<a target=\"_blank\" href=https://colab.research.google.com/notebooks/data_table.ipynb>data table notebook</a>'\n",
              "            + ' to learn more about interactive tables.';\n",
              "          element.innerHTML = '';\n",
              "          dataTable['output_type'] = 'display_data';\n",
              "          await google.colab.output.renderOutput(dataTable, element);\n",
              "          const docLink = document.createElement('div');\n",
              "          docLink.innerHTML = docLinkHtml;\n",
              "          element.appendChild(docLink);\n",
              "        }\n",
              "      </script>\n",
              "    </div>\n",
              "  </div>\n",
              "  "
            ]
          },
          "metadata": {},
          "execution_count": 64
        }
      ]
    },
    {
      "cell_type": "code",
      "source": [
        "# cek outlier\n",
        "hasil_outlier(Sale_Rec['order'])"
      ],
      "metadata": {
        "colab": {
          "base_uri": "https://localhost:8080/"
        },
        "id": "LK1C9cmPxHqR",
        "outputId": "a4f704e2-707e-4744-df7b-6cc9558f2247"
      },
      "execution_count": 65,
      "outputs": [
        {
          "output_type": "stream",
          "name": "stdout",
          "text": [
            "Banyaknya outlier  1507\n",
            "Beberapa outlier dari data:  [2, 2, 2, 2, 2, 2, 2, 2, 2, 2, 2, 2, 2, 2, 2, 2, 2, 2, 2, 2, 2, 2, 2, 2, 2, 2, 2, 2, 2, 2, 2, 2, 2, 2, 2, 2, 2, 2, 2, 2, 2, 2, 2, 2, 2, 2, 2, 2, 2, 2, 2, 2, 2, 2, 2, 2, 2, 2, 2, 2, 2, 2, 2, 2, 2, 2, 2, 2, 2, 2, 2, 2, 2, 2, 2, 2, 2, 2, 2, 2, 2, 2, 2, 3, 3, 3, 3, 3, 3, 3, 3, 3, 3, 3, 3, 3, 3, 3, 3, 3, 3, 3, 3, 3, 3, 3, 3, 3, 3, 3, 3, 3, 3, 3, 3, 3, 3, 3, 3, 3, 3, 3, 3, 3, 3, 3, 3, 3, 3, 3, 3, 3, 3, 3, 3, 3, 3, 3, 3, 4, 4, 5, 5, 5, 5, 5, 5, 5, 5, 5, 5, 5, 5, 5, 5, 5, 5, 5, 5, 5, 5, 5, 5, 5, 5, 5, 5, 5, 5, 5, 5, 5, 5, 5, 5, 5, 5, 5, 5, 5, 5, 5, 5, 5, 5, 5, 5, 5, 5, 5, 5, 5, 5, 5, 5, 5, 5, 5, 5, 5, 5, 5, 6, 6, 6, 6, 6, 6, 6, 6, 6, 6, 6, 6, 6, 6, 6, 6, 6, 6, 6, 6, 6, 6, 6, 6, 6, 6, 6, 6, 6, 6, 6, 6, 6, 6, 6, 6, 6, 6, 6, 6, 6, 6, 6, 6, 6, 6, 6, 6, 6, 6, 6, 6, 6, 6, 6, 6, 6, 6, 6, 6, 6, 6, 6, 6, 6, 6, 6, 6, 6, 6, 6, 6, 6, 6, 6, 6, 6, 6, 6, 6, 6, 6, 6, 6, 6, 6, 6, 6, 6, 6, 6, 6, 6, 6, 6, 6, 6, 6, 6, 6, 6, 6, 6, 6, 6, 6, 6, 6, 6, 6, 6, 6, 6, 6, 6, 6, 6, 6, 6, 6, 6, 6, 6, 6, 6, 6, 6, 6, 6, 6, 6, 6, 7, 7, 7, 7, 7, 7, 7, 7, 7, 7, 7, 7, 7, 7, 7, 7, 7, 7, 7, 7, 7, 7, 7, 7, 7, 7, 7, 7, 7, 7, 7, 7, 7, 7, 7, 7, 7, 7, 7, 7, 7, 7, 7, 7, 7, 7, 7, 7, 7, 7, 7, 7, 7, 7, 7, 7, 7, 7, 7, 7, 7, 7, 7, 7, 7, 7, 7, 7, 7, 7, 7, 7, 7, 7, 7, 7, 7, 7, 7, 7, 7, 7, 7, 7, 7, 7, 7, 7, 7, 7, 7, 7, 7, 7, 7, 7, 7, 7, 7, 7, 7, 7, 7, 7, 7, 7, 7, 7, 7, 7, 7, 7, 7, 7, 7, 7, 7, 7, 7, 7, 7, 7, 7, 7, 7, 7, 7, 7, 7, 7, 7, 7, 7, 7, 7, 7, 7, 7, 7, 7, 7, 7, 7, 7, 7, 7, 7, 7, 7, 7, 7, 7, 7, 7, 7, 7, 7, 7, 7, 7, 7, 7, 7, 7, 7, 7, 7, 7, 7, 7, 7, 7, 7, 7, 7, 7, 7, 7, 7, 7, 7, 7, 7, 7, 7, 7, 7, 7, 7, 7, 7, 7, 7, 7, 7, 7, 7, 7, 7, 7, 7, 7, 7, 7, 7, 7, 7, 7, 7, 7, 7, 7, 7, 7, 7, 7, 7, 7, 7, 7, 7, 7, 7, 7, 7, 7, 7, 7, 7, 7, 7, 7, 7, 7, 7, 7, 7, 7, 7, 7, 7, 7, 7, 7, 7, 7, 7, 7, 7, 7, 7, 7, 7, 7, 7, 7, 7, 7, 7, 7, 7, 7, 7, 7, 7, 7, 7, 7, 7, 7, 7, 7, 7, 7, 7, 7, 7, 7, 7, 7, 7, 7, 7, 7, 7, 7, 7, 7, 7, 7, 7, 7, 7, 7, 7, 7, 7, 7, 7, 7, 7, 7, 7, 7, 7, 7, 7, 7, 7, 7, 7, 7, 7, 7, 7, 7, 7, 7, 7, 7, 7, 7, 7, 7, 7, 7, 7, 7, 7, 7, 7, 7, 7, 7, 7, 7, 7, 7, 7, 7, 7, 7, 7, 7, 7, 7, 7, 7, 7, 7, 7, 7, 7, 7, 7, 7, 7, 7, 7, 7, 7, 7, 7, 7, 7, 7, 7, 7, 7, 7, 7, 7, 7, 7, 7, 7, 7, 7, 7, 7, 7, 7, 7, 7, 7, 7, 7, 7, 7, 7, 7, 7, 7, 7, 7, 7, 7, 7, 7, 7, 7, 7, 7, 7, 7, 7, 7, 7, 7, 7, 7, 7, 7, 7, 7, 7, 7, 7, 7, 7, 7, 7, 7, 7, 7, 7, 7, 7, 7, 7, 7, 7, 7, 7, 7, 7, 7, 7, 7, 7, 7, 7, 7, 7, 7, 7, 7, 7, 7, 7, 7, 7, 7, 7, 7, 7, 7, 7, 7, 7, 7, 7, 7, 7, 7, 7, 7, 7, 7, 7, 7, 7, 7, 7, 7, 7, 7, 7, 7, 7, 7, 7, 7, 7, 7, 7, 7, 7, 7, 7, 7, 7, 7, 7, 7, 7, 7, 7, 7, 7, 7, 7, 7, 7, 7, 7, 7, 7, 7, 7, 7, 7, 7, 7, 7, 7, 7, 7, 7, 7, 7, 7, 7, 7, 7, 7, 7, 7, 7, 7, 7, 7, 7, 7, 7, 7, 7, 7, 7, 7, 7, 7, 7, 7, 7, 7, 7, 7, 7, 7, 7, 7, 7, 7, 7, 7, 7, 7, 7, 7, 7, 7, 7, 7, 7, 7, 7, 7, 7, 7, 7, 7, 7, 7, 7, 7, 7, 7, 7, 7, 7, 7, 7, 7, 7, 7, 7, 7, 7, 7, 7, 7, 7, 7, 7, 7, 7, 7, 7, 7, 7, 7, 7, 7, 7, 7, 7, 7, 7, 7, 7, 7, 7, 7, 7, 7, 7, 7, 7, 7, 7, 7, 7, 7, 7, 7, 7, 7, 7, 7, 7, 7, 7, 7, 7, 7, 7, 7, 7, 7, 7, 7, 7, 7, 7, 7, 7, 7, 7, 7, 7, 7, 7, 7, 7, 7, 7, 7, 7, 7, 7, 7, 7, 7, 7, 7, 7, 7, 7, 7, 7, 7, 7, 7, 7, 7, 7, 7, 7, 7, 7, 7, 7, 7, 7, 7, 7, 7, 7, 7, 7, 7, 7, 7, 7, 7, 7, 7, 7, 7, 7, 7, 7, 7, 7, 7, 7, 7, 7, 7, 7, 7, 7, 7, 7, 7, 7, 7, 7, 7, 7, 7, 7, 7, 7, 7, 7, 7, 7, 7, 7, 7, 7, 7, 7, 7, 7, 7, 7, 7, 7, 7, 7, 7, 7, 7, 7, 7, 7, 7, 7, 7, 7, 7, 7, 7, 7, 7, 7, 7, 7, 7, 7, 7, 7, 7, 7, 7, 7, 7, 7, 7, 7, 7, 7, 7, 7, 7, 7, 7, 7, 7, 7, 7, 7, 7, 7, 7, 7, 7, 7, 7, 7, 7, 7, 7, 7, 7, 7, 7, 7, 7, 7, 7, 7, 7, 7, 7, 7, 7, 7, 7, 7, 7, 7, 7, 7, 7, 7, 7, 7, 7, 7, 7, 7, 7, 7, 7, 7, 7, 7, 7, 7, 7, 7, 7, 7, 7, 7, 7, 7, 7, 7, 7, 7, 7, 7, 7, 7, 7, 7, 7, 7, 7, 7, 7, 7, 7, 7, 7, 7, 7, 7, 7, 7, 7, 7, 7, 7, 7, 7, 7, 7, 7, 7, 7, 7, 7, 7, 7, 7, 7, 7, 7, 7, 7, 7, 7, 7, 7, 7, 7, 7, 7, 7, 7, 7, 7, 7, 7, 7, 7, 7, 7, 7, 7, 7, 7, 7, 7, 7, 7, 7, 7, 7, 7, 8, 8, 8, 8, 9, 9, 9, 9, 9, 9, 9, 9, 9, 9, 9, 9, 9, 9, 9, 9, 9, 9, 9, 9, 9, 9, 9, 9, 9, 9, 9, 9, 9, 9, 9, 9, 9, 9, 9, 9, 9, 9, 9, 9, 9, 9, 9, 9, 9, 9, 9, 9, 9, 9, 9, 9, 9, 9, 9, 9, 9, 9, 9, 9, 9, 9, 9, 9, 9, 9, 9, 9, 9, 9, 9, 9, 9, 9, 9, 9, 9, 9, 9, 9, 9, 9, 9, 9, 9, 9, 9, 9, 9, 9, 9, 9, 9, 9, 9, 9, 9, 9, 9, 9, 9, 9, 9, 9, 9, 9, 9, 9, 9, 9, 9, 9, 9, 9, 9, 9, 9, 9, 9, 9, 9, 9, 9, 9, 9, 9, 9, 9, 9, 9, 9, 9, 9, 9, 9, 9, 9, 9, 9, 9, 9, 9, 9, 9, 9, 9, 9, 9, 9, 9, 9, 9, 9, 9, 9, 9, 9, 9, 9, 9, 9, 9, 9, 9, 9, 9, 9, 9, 9, 9, 9, 9, 9, 9, 9, 9, 9, 9, 9, 9, 9, 9, 9, 9, 9, 9, 9, 9, 9, 9, 9, 9, 9, 9, 9, 9, 9, 9, 9, 9, 9, 9, 9, 9, 9, 9, 9, 9, 9, 9, 9, 9, 9, 9, 9, 9, 9, 9, 9, 9, 9, 9, 9, 9, 9, 9, 9, 9, 9, 9, 9, 9, 9, 9, 9, 9, 9, 9, 9, 9, 9, 9, 9, 9, 9, 9, 9, 9, 9, 9, 9, 9, 9]\n"
          ]
        }
      ]
    },
    {
      "cell_type": "code",
      "source": [
        "hasil_outlier(Sale_Rec['quantity'])"
      ],
      "metadata": {
        "colab": {
          "base_uri": "https://localhost:8080/"
        },
        "id": "rXEJVVJeyn9W",
        "outputId": "e05abe57-0175-427e-9512-5401078ab19e"
      },
      "execution_count": 66,
      "outputs": [
        {
          "output_type": "stream",
          "name": "stdout",
          "text": [
            "Banyaknya outlier  14\n",
            "Beberapa outlier dari data:  [4, 4, 4, 4, 4, 4, 4, 4, 4, 6, 8, 8, 8, 8]\n"
          ]
        }
      ]
    },
    {
      "cell_type": "code",
      "source": [
        "hasil_outlier(Sale_Rec['line_item_amount'])"
      ],
      "metadata": {
        "colab": {
          "base_uri": "https://localhost:8080/"
        },
        "id": "p8QkRvrKypcO",
        "outputId": "4f98b120-d92b-4087-ebb1-2b2e8d486a85"
      },
      "execution_count": 67,
      "outputs": [
        {
          "output_type": "stream",
          "name": "stdout",
          "text": [
            "Banyaknya outlier  1095\n",
            "Beberapa outlier dari data:  [10.95, 10.95, 10.95, 10.95, 10.95, 10.95, 10.95, 10.95, 10.95, 10.95, 10.95, 10.95, 10.95, 10.95, 10.95, 10.95, 10.95, 10.95, 10.95, 10.95, 10.95, 10.95, 10.95, 10.95, 10.95, 10.95, 10.95, 10.95, 10.95, 10.95, 10.95, 10.95, 10.95, 10.95, 10.95, 10.95, 10.95, 10.95, 10.95, 10.95, 10.95, 10.95, 11.25, 11.25, 11.25, 11.25, 11.25, 11.25, 11.25, 11.25, 11.25, 11.25, 11.25, 11.25, 11.25, 11.25, 11.25, 11.25, 11.25, 11.25, 11.25, 11.25, 11.25, 11.25, 11.25, 11.25, 11.25, 11.25, 11.25, 11.25, 11.25, 11.25, 11.25, 11.25, 11.25, 11.25, 11.25, 11.25, 11.25, 11.25, 11.25, 11.25, 11.25, 11.25, 11.25, 11.25, 11.25, 11.25, 11.25, 11.25, 11.25, 11.25, 11.25, 11.25, 11.25, 11.25, 11.25, 11.25, 11.25, 11.25, 11.25, 11.25, 11.25, 11.25, 11.25, 11.25, 11.25, 11.25, 11.25, 11.25, 11.25, 11.25, 11.25, 11.25, 11.25, 11.25, 11.25, 11.25, 11.25, 11.25, 11.25, 11.25, 11.25, 11.25, 11.25, 11.25, 11.25, 11.25, 11.25, 11.25, 11.25, 11.25, 11.25, 11.25, 11.25, 11.25, 11.25, 12.0, 12.0, 12.0, 12.0, 12.0, 12.0, 12.0, 12.0, 12.0, 12.0, 12.0, 12.0, 12.0, 12.0, 12.0, 12.0, 12.0, 12.0, 12.0, 12.0, 12.0, 12.0, 12.0, 12.0, 12.0, 12.0, 12.0, 12.0, 12.0, 12.0, 12.0, 12.0, 12.0, 12.0, 12.0, 12.0, 12.0, 12.0, 12.0, 12.0, 12.0, 12.0, 12.0, 12.0, 12.0, 12.0, 12.0, 12.0, 12.0, 12.0, 12.0, 12.0, 12.0, 12.0, 12.0, 12.0, 12.0, 12.0, 12.0, 12.0, 12.0, 12.0, 12.0, 12.0, 12.0, 12.0, 12.0, 12.0, 12.0, 12.0, 12.0, 12.0, 12.0, 12.0, 12.0, 12.0, 12.0, 12.0, 12.0, 12.0, 12.0, 12.0, 12.0, 12.0, 12.0, 12.0, 12.0, 12.0, 12.0, 12.0, 12.0, 12.0, 12.0, 12.75, 12.75, 12.75, 12.75, 12.75, 12.75, 12.75, 12.75, 12.75, 12.75, 12.75, 12.75, 12.75, 12.75, 12.75, 12.75, 12.75, 12.75, 12.75, 12.75, 12.75, 12.75, 12.75, 12.75, 12.75, 12.75, 12.75, 12.75, 12.75, 12.75, 12.75, 12.75, 12.75, 12.75, 12.75, 12.75, 12.75, 12.75, 12.75, 12.75, 12.75, 12.75, 12.75, 12.75, 12.75, 12.75, 12.75, 12.75, 12.75, 12.75, 12.75, 12.75, 13.33, 13.33, 13.33, 13.33, 13.33, 13.33, 13.33, 13.33, 13.33, 13.33, 13.33, 13.33, 13.33, 13.33, 13.33, 13.33, 13.33, 13.33, 13.33, 13.33, 13.33, 13.33, 13.33, 13.33, 13.33, 13.33, 13.33, 13.33, 13.33, 13.33, 13.33, 13.33, 13.33, 13.33, 13.33, 13.33, 13.33, 13.33, 13.33, 13.33, 13.33, 13.33, 13.33, 13.33, 13.33, 13.33, 13.33, 13.33, 13.33, 13.33, 13.5, 13.5, 13.5, 13.5, 13.5, 13.5, 13.5, 13.5, 13.5, 13.5, 13.5, 13.5, 13.5, 13.5, 13.5, 13.5, 13.5, 13.5, 13.5, 13.5, 13.5, 13.5, 13.5, 13.5, 14.0, 14.0, 14.0, 14.0, 14.0, 14.0, 14.0, 14.0, 14.0, 14.0, 14.0, 14.0, 14.0, 14.0, 14.0, 14.0, 14.0, 14.0, 14.0, 14.0, 14.0, 14.0, 14.0, 14.0, 14.0, 14.0, 14.0, 14.0, 14.0, 14.0, 14.0, 14.0, 14.0, 14.0, 14.0, 14.0, 14.0, 14.0, 14.0, 14.0, 14.0, 14.0, 14.0, 14.0, 14.0, 14.0, 14.0, 14.0, 14.0, 14.0, 14.0, 14.0, 14.0, 14.0, 14.0, 14.0, 14.0, 14.0, 14.0, 14.0, 14.0, 14.0, 14.0, 14.0, 14.0, 14.0, 14.0, 14.0, 14.0, 14.0, 14.0, 14.0, 14.0, 14.0, 14.0, 14.0, 14.0, 14.0, 14.0, 14.0, 14.0, 14.0, 14.0, 14.0, 14.0, 14.0, 14.0, 14.0, 14.0, 14.0, 14.0, 14.25, 14.25, 14.25, 14.25, 14.25, 14.25, 14.25, 14.25, 14.25, 14.25, 14.25, 14.25, 14.25, 14.25, 14.25, 14.25, 14.25, 14.25, 14.25, 14.25, 14.25, 14.75, 14.75, 14.75, 14.75, 14.75, 14.75, 14.75, 14.75, 14.75, 14.75, 14.75, 14.75, 14.75, 14.75, 14.75, 14.75, 14.75, 14.75, 14.75, 14.75, 14.75, 14.75, 14.75, 14.75, 14.75, 14.75, 14.75, 14.75, 14.75, 14.75, 14.75, 14.75, 14.75, 14.75, 14.75, 14.75, 14.75, 14.75, 14.75, 14.75, 14.75, 14.75, 14.75, 14.75, 14.75, 14.75, 14.75, 14.75, 14.75, 14.75, 14.75, 14.75, 14.75, 15.0, 15.0, 15.0, 15.0, 15.0, 15.0, 15.0, 15.0, 15.0, 15.0, 15.0, 15.0, 15.0, 15.0, 15.0, 15.0, 15.0, 15.0, 15.0, 15.0, 15.0, 15.0, 15.0, 15.0, 15.0, 15.0, 15.0, 15.0, 15.0, 15.0, 15.0, 15.0, 15.0, 15.0, 15.0, 15.0, 15.0, 15.0, 15.0, 15.0, 15.0, 15.0, 15.0, 15.0, 15.0, 15.0, 15.0, 15.0, 15.0, 15.0, 17.0, 18.0, 18.0, 18.0, 18.0, 18.0, 18.0, 18.0, 18.0, 18.0, 18.0, 18.0, 18.0, 18.0, 18.0, 18.0, 18.0, 18.0, 18.0, 18.0, 18.0, 18.0, 18.0, 18.0, 18.0, 18.0, 18.0, 18.0, 18.0, 18.0, 18.0, 18.0, 18.0, 18.0, 18.0, 18.0, 18.0, 18.0, 18.0, 18.0, 18.0, 18.0, 18.0, 18.0, 18.0, 18.0, 18.0, 18.0, 18.0, 18.0, 18.0, 18.0, 18.0, 18.0, 18.0, 18.0, 18.0, 18.0, 18.0, 18.0, 18.0, 18.0, 18.0, 18.0, 18.0, 18.0, 18.0, 18.0, 18.0, 18.0, 18.0, 18.0, 18.0, 18.0, 18.0, 18.0, 18.0, 18.0, 18.0, 18.0, 18.0, 18.0, 18.0, 18.0, 18.0, 18.0, 18.0, 18.0, 18.0, 18.0, 18.0, 18.0, 18.0, 18.0, 18.0, 18.0, 18.0, 18.0, 18.0, 18.0, 18.0, 18.0, 18.0, 18.0, 18.0, 18.0, 18.0, 18.0, 18.0, 18.0, 18.0, 18.0, 18.0, 18.0, 18.0, 18.0, 18.0, 18.0, 18.0, 18.0, 18.0, 18.0, 18.0, 18.0, 18.0, 18.0, 18.0, 18.0, 18.0, 18.0, 18.0, 18.0, 18.0, 18.0, 19.75, 19.75, 19.75, 19.75, 19.75, 19.75, 19.75, 19.75, 19.75, 19.75, 19.75, 19.75, 19.75, 19.75, 19.75, 19.75, 19.75, 19.75, 19.75, 19.75, 19.75, 19.75, 19.75, 19.75, 19.75, 19.75, 19.75, 19.75, 19.75, 19.75, 19.75, 19.75, 19.75, 19.75, 19.75, 19.75, 19.75, 19.75, 19.75, 19.75, 19.75, 19.75, 19.75, 19.75, 19.75, 19.75, 19.75, 19.75, 19.75, 19.75, 19.75, 20.45, 20.45, 20.45, 20.45, 20.45, 20.45, 20.45, 20.45, 20.45, 20.45, 20.45, 20.45, 20.45, 20.45, 20.45, 20.45, 20.45, 20.45, 20.45, 20.45, 20.45, 20.45, 20.45, 20.45, 20.45, 20.45, 20.45, 20.45, 20.45, 20.45, 20.45, 20.45, 20.45, 20.45, 20.45, 20.45, 20.45, 20.45, 20.45, 20.45, 20.45, 20.45, 20.45, 20.45, 20.45, 20.45, 20.45, 21.0, 21.0, 21.0, 21.0, 21.0, 21.0, 21.0, 21.0, 21.0, 21.0, 21.0, 21.0, 21.0, 21.0, 21.0, 21.0, 21.0, 21.0, 21.0, 21.0, 21.0, 21.0, 21.0, 21.0, 21.0, 21.0, 21.0, 21.0, 21.0, 21.0, 21.0, 21.0, 21.0, 21.0, 21.0, 21.0, 21.0, 21.0, 21.0, 21.0, 21.0, 21.0, 21.0, 21.0, 21.0, 21.0, 21.0, 21.0, 21.0, 21.0, 21.0, 21.0, 21.0, 21.0, 21.0, 21.0, 21.0, 21.0, 21.0, 21.0, 21.0, 21.0, 21.0, 21.0, 21.0, 21.0, 21.0, 21.0, 21.0, 21.0, 22.5, 22.5, 22.5, 22.5, 22.5, 22.5, 22.5, 22.5, 22.5, 22.5, 22.5, 22.5, 22.5, 22.5, 22.5, 22.5, 22.5, 22.5, 22.5, 22.5, 22.5, 22.5, 22.5, 22.5, 22.5, 22.5, 22.5, 22.5, 22.5, 22.5, 22.5, 22.5, 22.5, 22.5, 22.5, 22.5, 22.5, 22.5, 22.5, 22.5, 22.5, 22.5, 22.5, 22.5, 22.5, 22.5, 22.5, 22.5, 22.5, 22.5, 22.5, 22.5, 22.5, 22.5, 22.5, 23.0, 23.0, 23.0, 23.0, 23.0, 23.0, 23.0, 23.0, 23.0, 23.0, 23.0, 23.0, 24.0, 28.0, 28.0, 28.0, 28.0, 28.0, 28.0, 28.0, 28.0, 28.0, 28.0, 28.0, 28.0, 28.0, 28.0, 28.0, 28.0, 28.0, 28.0, 28.0, 28.0, 28.0, 28.0, 28.0, 28.0, 28.0, 28.0, 28.0, 28.0, 28.0, 28.0, 28.0, 28.0, 28.0, 28.0, 28.0, 28.0, 28.0, 28.0, 28.0, 28.0, 28.0, 28.0, 28.0, 28.0, 28.0, 28.0, 28.0, 28.0, 28.0, 28.0, 28.0, 28.0, 28.0, 28.0, 28.0, 28.0, 28.0, 28.0, 28.0, 28.0, 28.0, 28.0, 28.0, 28.0, 28.0, 28.0, 28.0, 28.0, 28.0, 28.0, 28.0, 28.0, 28.0, 28.0, 28.0, 28.0, 28.0, 28.0, 28.0, 28.0, 28.0, 28.0, 28.0, 28.0, 36.0, 45.0, 45.0, 45.0, 45.0, 45.0, 45.0, 45.0, 45.0, 45.0, 45.0, 45.0, 45.0, 45.0, 45.0, 45.0, 45.0, 45.0, 45.0, 45.0, 45.0, 45.0, 45.0, 45.0, 45.0, 45.0, 45.0, 45.0, 45.0, 45.0, 45.0, 45.0, 45.0, 45.0, 45.0, 45.0, 45.0, 45.0, 45.0, 45.0, 45.0, 45.0, 45.0, 45.0, 45.0, 45.0, 45.0, 45.0, 45.0, 45.0, 45.0, 45.0, 45.0, 45.0, 45.0, 45.0, 45.0, 45.0, 45.0, 45.0, 45.0, 45.0, 45.0, 45.0, 56.0, 72.0, 360.0, 360.0, 360.0, 360.0]\n"
          ]
        }
      ]
    },
    {
      "cell_type": "code",
      "source": [
        "hasil_outlier(Sale_Rec['unit_price'])"
      ],
      "metadata": {
        "colab": {
          "base_uri": "https://localhost:8080/"
        },
        "id": "9vO8ijYNyrB-",
        "outputId": "a3bf2be7-d2d3-4e19-e3da-1bbd0725b7ed"
      },
      "execution_count": 68,
      "outputs": [
        {
          "output_type": "stream",
          "name": "stdout",
          "text": [
            "Banyaknya outlier  1389\n",
            "Beberapa outlier dari data:  [5.63, 5.63, 5.63, 5.63, 5.63, 6.4, 6.4, 6.4, 6.4, 6.4, 6.4, 6.4, 6.4, 6.4, 6.4, 6.4, 6.4, 6.4, 6.4, 6.4, 6.4, 6.4, 6.4, 6.4, 6.4, 6.4, 6.4, 6.4, 6.4, 6.4, 6.4, 6.4, 6.4, 6.4, 6.4, 6.4, 6.4, 6.4, 6.4, 6.4, 6.4, 7.6, 7.6, 7.6, 7.6, 7.6, 7.6, 7.6, 7.6, 7.6, 7.6, 7.6, 7.6, 7.6, 7.6, 7.6, 7.6, 7.6, 7.6, 7.6, 7.6, 7.6, 7.6, 7.6, 7.6, 7.6, 7.6, 7.6, 7.6, 7.6, 7.6, 7.6, 7.6, 7.6, 7.6, 7.6, 7.6, 7.6, 7.6, 7.6, 7.6, 7.6, 7.6, 7.6, 7.6, 7.6, 7.6, 7.6, 7.6, 7.6, 7.6, 7.6, 7.6, 7.6, 7.6, 7.6, 7.6, 7.6, 7.6, 7.6, 7.6, 7.6, 7.6, 7.6, 7.6, 7.6, 8.95, 8.95, 8.95, 8.95, 8.95, 8.95, 8.95, 8.95, 8.95, 8.95, 8.95, 8.95, 8.95, 8.95, 8.95, 8.95, 8.95, 8.95, 8.95, 8.95, 8.95, 8.95, 8.95, 8.95, 8.95, 8.95, 8.95, 8.95, 8.95, 8.95, 8.95, 8.95, 8.95, 8.95, 8.95, 8.95, 8.95, 8.95, 8.95, 8.95, 8.95, 8.95, 8.95, 8.95, 8.95, 8.95, 8.95, 8.95, 8.95, 8.95, 8.95, 8.95, 8.95, 8.95, 8.95, 8.95, 8.95, 8.95, 8.95, 8.95, 8.95, 8.95, 8.95, 8.95, 8.95, 8.95, 8.95, 8.95, 8.95, 8.95, 8.95, 8.95, 8.95, 8.95, 8.95, 8.95, 8.95, 8.95, 8.95, 8.95, 8.95, 8.95, 8.95, 8.95, 8.95, 8.95, 8.95, 8.95, 8.95, 8.95, 8.95, 8.95, 8.95, 8.95, 8.95, 8.95, 8.95, 8.95, 8.95, 8.95, 8.95, 8.95, 8.95, 8.95, 8.95, 8.95, 8.95, 8.95, 8.95, 8.95, 8.95, 8.95, 8.95, 8.95, 8.95, 8.95, 8.95, 8.95, 8.95, 8.95, 8.95, 8.95, 8.95, 8.95, 8.95, 8.95, 8.95, 8.95, 8.95, 8.95, 8.95, 8.95, 8.95, 8.95, 8.95, 8.95, 8.95, 8.95, 8.95, 8.95, 8.95, 8.95, 8.95, 8.95, 8.95, 8.95, 8.95, 8.95, 8.95, 8.95, 8.95, 8.95, 8.95, 8.95, 8.95, 8.95, 8.95, 8.95, 8.95, 8.95, 8.95, 8.95, 8.95, 8.95, 8.95, 8.95, 8.95, 8.95, 8.95, 8.95, 8.95, 8.95, 8.95, 8.95, 8.95, 8.95, 8.95, 8.95, 8.95, 8.95, 8.95, 8.95, 8.95, 8.95, 8.95, 8.95, 8.95, 8.95, 8.95, 8.95, 8.95, 8.95, 8.95, 8.95, 8.95, 8.95, 8.95, 8.95, 8.95, 8.95, 8.95, 8.95, 8.95, 8.95, 8.95, 8.95, 8.95, 8.95, 8.95, 8.95, 8.95, 8.95, 8.95, 8.95, 8.95, 8.95, 8.95, 8.95, 8.95, 8.95, 8.95, 8.95, 8.95, 8.95, 8.95, 8.95, 8.95, 8.95, 8.95, 8.95, 8.95, 8.95, 8.95, 8.95, 8.95, 8.95, 8.95, 8.95, 8.95, 8.95, 8.95, 8.95, 8.95, 8.95, 8.95, 8.95, 8.95, 8.95, 8.95, 8.95, 8.95, 8.95, 8.95, 8.95, 9.25, 9.25, 9.25, 9.25, 9.25, 9.25, 9.25, 9.25, 9.25, 9.25, 9.25, 9.25, 9.25, 9.25, 9.25, 9.25, 9.25, 9.25, 9.25, 9.25, 9.25, 9.25, 9.25, 9.25, 9.25, 9.25, 9.25, 9.25, 9.25, 9.25, 9.25, 9.25, 9.25, 9.25, 9.25, 9.25, 9.25, 9.25, 9.25, 9.25, 9.25, 9.25, 9.25, 9.25, 9.25, 9.25, 9.25, 9.25, 9.5, 9.5, 9.5, 9.5, 9.5, 9.5, 9.5, 9.5, 9.5, 9.5, 9.5, 9.5, 9.5, 9.5, 9.5, 9.5, 9.5, 9.5, 9.5, 9.5, 9.5, 9.5, 9.5, 9.5, 9.5, 9.5, 9.5, 9.5, 9.5, 9.5, 9.5, 9.5, 9.5, 9.5, 9.5, 9.5, 9.5, 9.5, 9.5, 9.5, 9.5, 9.5, 9.5, 9.5, 9.5, 9.5, 9.5, 9.5, 9.5, 9.5, 9.5, 9.5, 9.5, 9.5, 9.5, 9.5, 9.5, 10.0, 10.0, 10.0, 10.0, 10.0, 10.0, 10.0, 10.0, 10.0, 10.0, 10.0, 10.0, 10.0, 10.0, 10.0, 10.0, 10.0, 10.0, 10.0, 10.0, 10.0, 10.0, 10.0, 10.0, 10.0, 10.0, 10.0, 10.0, 10.0, 10.0, 10.0, 10.0, 10.0, 10.0, 10.0, 10.0, 10.0, 10.0, 10.0, 10.0, 10.0, 10.0, 10.0, 10.0, 10.0, 10.0, 10.0, 10.0, 10.95, 10.95, 10.95, 10.95, 10.95, 10.95, 10.95, 10.95, 10.95, 10.95, 10.95, 10.95, 10.95, 10.95, 10.95, 10.95, 10.95, 10.95, 10.95, 10.95, 10.95, 10.95, 10.95, 10.95, 10.95, 10.95, 10.95, 10.95, 10.95, 10.95, 10.95, 10.95, 10.95, 10.95, 10.95, 10.95, 10.95, 10.95, 10.95, 10.95, 10.95, 10.95, 12.0, 12.0, 12.0, 12.0, 12.0, 12.0, 12.0, 12.0, 12.0, 12.0, 12.0, 12.0, 12.0, 12.0, 12.0, 12.0, 12.0, 12.0, 12.0, 12.0, 12.0, 12.0, 12.0, 12.0, 12.0, 12.0, 12.0, 12.0, 12.0, 12.0, 12.0, 12.0, 12.0, 12.0, 12.0, 12.0, 12.0, 12.0, 12.0, 12.0, 12.0, 12.0, 12.0, 12.0, 12.0, 12.0, 12.0, 12.0, 12.0, 12.0, 12.0, 12.0, 12.0, 12.0, 12.0, 12.0, 12.0, 12.0, 12.0, 12.0, 12.0, 12.0, 12.0, 12.0, 12.0, 12.0, 12.0, 12.0, 12.0, 13.33, 13.33, 13.33, 13.33, 13.33, 13.33, 13.33, 13.33, 13.33, 13.33, 13.33, 13.33, 13.33, 13.33, 13.33, 13.33, 13.33, 13.33, 13.33, 13.33, 13.33, 13.33, 13.33, 13.33, 13.33, 13.33, 13.33, 13.33, 13.33, 13.33, 13.33, 13.33, 13.33, 13.33, 13.33, 13.33, 13.33, 13.33, 13.33, 13.33, 13.33, 13.33, 13.33, 13.33, 13.33, 13.33, 13.33, 13.33, 13.33, 13.33, 14.0, 14.0, 14.0, 14.0, 14.0, 14.0, 14.0, 14.0, 14.0, 14.0, 14.0, 14.0, 14.0, 14.0, 14.0, 14.0, 14.0, 14.0, 14.0, 14.0, 14.0, 14.0, 14.0, 14.0, 14.0, 14.0, 14.0, 14.0, 14.0, 14.0, 14.0, 14.0, 14.0, 14.0, 14.0, 14.0, 14.0, 14.0, 14.0, 14.0, 14.0, 14.0, 14.0, 14.0, 14.0, 14.0, 14.0, 14.0, 14.0, 14.0, 14.0, 14.0, 14.0, 14.0, 14.0, 14.0, 14.0, 14.0, 14.0, 14.0, 14.0, 14.0, 14.0, 14.0, 14.0, 14.0, 14.0, 14.0, 14.0, 14.0, 14.0, 14.0, 14.0, 14.0, 14.0, 14.0, 14.0, 14.0, 14.0, 14.0, 14.0, 14.0, 14.0, 14.0, 14.0, 14.0, 14.0, 14.0, 14.0, 14.0, 14.0, 14.0, 14.0, 14.75, 14.75, 14.75, 14.75, 14.75, 14.75, 14.75, 14.75, 14.75, 14.75, 14.75, 14.75, 14.75, 14.75, 14.75, 14.75, 14.75, 14.75, 14.75, 14.75, 14.75, 14.75, 14.75, 14.75, 14.75, 14.75, 14.75, 14.75, 14.75, 14.75, 14.75, 14.75, 14.75, 14.75, 14.75, 14.75, 14.75, 14.75, 14.75, 14.75, 14.75, 14.75, 14.75, 14.75, 14.75, 14.75, 14.75, 14.75, 14.75, 14.75, 14.75, 14.75, 14.75, 15.0, 15.0, 15.0, 15.0, 15.0, 15.0, 15.0, 15.0, 15.0, 15.0, 15.0, 15.0, 15.0, 15.0, 15.0, 15.0, 15.0, 15.0, 15.0, 15.0, 15.0, 15.0, 15.0, 15.0, 15.0, 15.0, 15.0, 15.0, 15.0, 15.0, 15.0, 15.0, 15.0, 15.0, 15.0, 15.0, 15.0, 15.0, 15.0, 15.0, 15.0, 15.0, 15.0, 15.0, 15.0, 15.0, 15.0, 15.0, 15.0, 15.0, 18.0, 18.0, 18.0, 18.0, 18.0, 18.0, 18.0, 18.0, 18.0, 18.0, 18.0, 18.0, 18.0, 18.0, 18.0, 18.0, 18.0, 18.0, 18.0, 18.0, 18.0, 18.0, 18.0, 18.0, 18.0, 18.0, 18.0, 18.0, 18.0, 18.0, 18.0, 18.0, 18.0, 18.0, 18.0, 18.0, 18.0, 18.0, 18.0, 18.0, 18.0, 18.0, 18.0, 18.0, 18.0, 18.0, 18.0, 18.0, 18.0, 18.0, 18.0, 18.0, 18.0, 18.0, 18.0, 18.0, 18.0, 18.0, 18.0, 18.0, 18.0, 18.0, 18.0, 18.0, 18.0, 18.0, 18.0, 18.0, 18.0, 18.0, 18.0, 18.0, 18.0, 18.0, 18.0, 18.0, 18.0, 18.0, 18.0, 18.0, 18.0, 18.0, 18.0, 18.0, 18.0, 18.0, 18.0, 18.0, 18.0, 18.0, 18.0, 18.0, 18.0, 18.0, 18.0, 18.0, 18.0, 18.0, 18.0, 18.0, 18.0, 18.0, 18.0, 18.0, 18.0, 18.0, 18.0, 18.0, 18.0, 18.0, 18.0, 18.0, 18.0, 18.0, 18.0, 18.0, 18.0, 18.0, 18.0, 18.0, 18.0, 18.0, 18.0, 18.0, 18.0, 18.0, 18.0, 18.0, 18.0, 18.0, 18.0, 18.0, 18.0, 18.0, 19.75, 19.75, 19.75, 19.75, 19.75, 19.75, 19.75, 19.75, 19.75, 19.75, 19.75, 19.75, 19.75, 19.75, 19.75, 19.75, 19.75, 19.75, 19.75, 19.75, 19.75, 19.75, 19.75, 19.75, 19.75, 19.75, 19.75, 19.75, 19.75, 19.75, 19.75, 19.75, 19.75, 19.75, 19.75, 19.75, 19.75, 19.75, 19.75, 19.75, 19.75, 19.75, 19.75, 19.75, 19.75, 19.75, 19.75, 19.75, 19.75, 19.75, 19.75, 20.45, 20.45, 20.45, 20.45, 20.45, 20.45, 20.45, 20.45, 20.45, 20.45, 20.45, 20.45, 20.45, 20.45, 20.45, 20.45, 20.45, 20.45, 20.45, 20.45, 20.45, 20.45, 20.45, 20.45, 20.45, 20.45, 20.45, 20.45, 20.45, 20.45, 20.45, 20.45, 20.45, 20.45, 20.45, 20.45, 20.45, 20.45, 20.45, 20.45, 20.45, 20.45, 20.45, 20.45, 20.45, 20.45, 20.45, 21.0, 21.0, 21.0, 21.0, 21.0, 21.0, 21.0, 21.0, 21.0, 21.0, 21.0, 21.0, 21.0, 21.0, 21.0, 21.0, 21.0, 21.0, 21.0, 21.0, 21.0, 21.0, 21.0, 21.0, 21.0, 21.0, 21.0, 21.0, 21.0, 21.0, 21.0, 21.0, 21.0, 21.0, 21.0, 21.0, 21.0, 21.0, 21.0, 21.0, 21.0, 21.0, 21.0, 21.0, 21.0, 21.0, 21.0, 21.0, 21.0, 21.0, 21.0, 21.0, 21.0, 21.0, 21.0, 21.0, 21.0, 21.0, 21.0, 21.0, 21.0, 21.0, 21.0, 21.0, 21.0, 21.0, 21.0, 21.0, 21.0, 21.0, 22.5, 22.5, 22.5, 22.5, 22.5, 22.5, 22.5, 22.5, 22.5, 22.5, 22.5, 22.5, 22.5, 22.5, 22.5, 22.5, 22.5, 22.5, 22.5, 22.5, 22.5, 22.5, 22.5, 22.5, 22.5, 22.5, 22.5, 22.5, 22.5, 22.5, 22.5, 22.5, 22.5, 22.5, 22.5, 22.5, 22.5, 22.5, 22.5, 22.5, 22.5, 22.5, 22.5, 22.5, 22.5, 22.5, 22.5, 22.5, 22.5, 22.5, 22.5, 22.5, 22.5, 22.5, 22.5, 23.0, 23.0, 23.0, 23.0, 23.0, 23.0, 23.0, 23.0, 23.0, 23.0, 23.0, 23.0, 28.0, 28.0, 28.0, 28.0, 28.0, 28.0, 28.0, 28.0, 28.0, 28.0, 28.0, 28.0, 28.0, 28.0, 28.0, 28.0, 28.0, 28.0, 28.0, 28.0, 28.0, 28.0, 28.0, 28.0, 28.0, 28.0, 28.0, 28.0, 28.0, 28.0, 28.0, 28.0, 28.0, 28.0, 28.0, 28.0, 28.0, 28.0, 28.0, 28.0, 28.0, 28.0, 28.0, 28.0, 28.0, 28.0, 28.0, 28.0, 28.0, 28.0, 28.0, 28.0, 28.0, 28.0, 28.0, 28.0, 28.0, 28.0, 28.0, 28.0, 28.0, 28.0, 28.0, 28.0, 28.0, 28.0, 28.0, 28.0, 28.0, 28.0, 28.0, 28.0, 28.0, 28.0, 28.0, 28.0, 28.0, 28.0, 28.0, 28.0, 28.0, 28.0, 28.0, 45.0, 45.0, 45.0, 45.0, 45.0, 45.0, 45.0, 45.0, 45.0, 45.0, 45.0, 45.0, 45.0, 45.0, 45.0, 45.0, 45.0, 45.0, 45.0, 45.0, 45.0, 45.0, 45.0, 45.0, 45.0, 45.0, 45.0, 45.0, 45.0, 45.0, 45.0, 45.0, 45.0, 45.0, 45.0, 45.0, 45.0, 45.0, 45.0, 45.0, 45.0, 45.0, 45.0, 45.0, 45.0, 45.0, 45.0, 45.0, 45.0, 45.0, 45.0, 45.0, 45.0, 45.0, 45.0, 45.0, 45.0, 45.0, 45.0, 45.0, 45.0, 45.0, 45.0, 45.0, 45.0, 45.0, 45.0]\n"
          ]
        }
      ]
    },
    {
      "cell_type": "markdown",
      "source": [
        "Dari analisa outlier terdapat oulier pada data 'order','quantity','line_item_amount',dan 'unit_price' . Tetapi tidak dilakukan handling outlier karena jika dilakukan handling outlier data yang akan dihasilkan akan bias"
      ],
      "metadata": {
        "id": "A6kqBkrUyuPn"
      }
    },
    {
      "cell_type": "markdown",
      "metadata": {
        "id": "QUlpaqeqMFn2"
      },
      "source": [
        "## 7. Exploratory Data Analysis & Visualization"
      ]
    },
    {
      "cell_type": "markdown",
      "source": [
        "Melakukan exploratory data analysis dan visualisasi dengan melihat tampilan missing value menggunakan visualisasi heatmap"
      ],
      "metadata": {
        "id": "oxCBptdeHJjq"
      }
    },
    {
      "cell_type": "markdown",
      "source": [
        "##### Customer data"
      ],
      "metadata": {
        "id": "-11PUfIQRqLV"
      }
    },
    {
      "cell_type": "code",
      "source": [
        "# Membuat plot missing value menggunakan seaborn\n",
        "missing_values = Cust.isnull()\n",
        "# Mengatur palet warna heatmap\n",
        "cmap = sns.color_palette([(0.4, 0.7, 0.9), \"red\"])\n",
        "# Membuat plot heatmap\n",
        "sns.heatmap(missing_values, cmap=cmap, cbar=False)\n",
        "# title\n",
        "plt.title(\"Detect Missing Values in Customer Data\")\n",
        "\n",
        "# Melihat apakah ada missing value\n",
        "n_missing = missing_values.sum().sum()\n",
        "desc = 'Total missing value : {}'.format(n_missing)\n",
        "plt.text(1.1, 0.5, desc, transform=plt.gca().transAxes,\n",
        "         horizontalalignment='left', verticalalignment='top', fontsize=8,\n",
        "         bbox=dict(facecolor='red', alpha=0.5,edgecolor='black'))"
      ],
      "metadata": {
        "colab": {
          "base_uri": "https://localhost:8080/",
          "height": 602
        },
        "id": "bvP8FmlEPn7F",
        "outputId": "c0592257-4860-4099-9a58-304c7d00556c"
      },
      "execution_count": 69,
      "outputs": [
        {
          "output_type": "execute_result",
          "data": {
            "text/plain": [
              "Text(1.1, 0.5, 'Total missing value : 0')"
            ]
          },
          "metadata": {},
          "execution_count": 69
        },
        {
          "output_type": "display_data",
          "data": {
            "text/plain": [
              "<Figure size 640x480 with 1 Axes>"
            ],
            "image/png": "[encoded data removed]"
          },
          "metadata": {}
        }
      ]
    },
    {
      "cell_type": "markdown",
      "source": [
        "##### Generations data"
      ],
      "metadata": {
        "id": "8IA1EIRgVRjC"
      }
    },
    {
      "cell_type": "code",
      "source": [
        "# Membuat plot missing value menggunakan seaborn\n",
        "missing_values = Gen.isnull()\n",
        "# Mengatur palet warna heatmap\n",
        "cmap = sns.color_palette([(0.863, 0.439, 0.576), \"red\"])\n",
        "# Membuat plot heatmap\n",
        "sns.heatmap(missing_values, cmap=cmap, cbar=False)\n",
        "# title\n",
        "plt.title(\"Detect Missing Values in Customer Data\")\n",
        "\n",
        "# Melihat apakah ada missing value\n",
        "n_missing = missing_values.sum().sum()\n",
        "desc = 'Total missing value : {}'.format(n_missing)\n",
        "plt.text(1.1, 0.5, desc, transform=plt.gca().transAxes,\n",
        "         horizontalalignment='left', verticalalignment='top', fontsize=8,\n",
        "         bbox=dict(facecolor='red', alpha=0.5,edgecolor='black'))"
      ],
      "metadata": {
        "colab": {
          "base_uri": "https://localhost:8080/",
          "height": 470
        },
        "id": "fMqLOyXwVq4I",
        "outputId": "e7569e90-518c-43e2-c457-d3614730dbfe"
      },
      "execution_count": 70,
      "outputs": [
        {
          "output_type": "execute_result",
          "data": {
            "text/plain": [
              "Text(1.1, 0.5, 'Total missing value : 0')"
            ]
          },
          "metadata": {},
          "execution_count": 70
        },
        {
          "output_type": "display_data",
          "data": {
            "text/plain": [
              "<Figure size 640x480 with 1 Axes>"
            ],
            "image/png": "[encoded data removed]"
          },
          "metadata": {}
        }
      ]
    },
    {
      "cell_type": "markdown",
      "source": [
        "Pastry_Inventory data\n"
      ],
      "metadata": {
        "id": "iS5Lfgi0VVFN"
      }
    },
    {
      "cell_type": "code",
      "source": [
        "# Membuat plot missing value menggunakan seaborn\n",
        "missing_values = Pas_inv.isnull()\n",
        "# Mengatur palet warna heatmap\n",
        "cmap = sns.color_palette([(0.8, 0.6, 0.4), \"red\"])\n",
        "# Membuat plot heatmap\n",
        "sns.heatmap(missing_values, cmap=cmap, cbar=False)\n",
        "# title\n",
        "plt.title(\"Detect Missing Values in Customer Data\")\n",
        "\n",
        "# Melihat apakah ada missing value\n",
        "n_missing = missing_values.sum().sum()\n",
        "desc = 'Total missing value : {}'.format(n_missing)\n",
        "plt.text(1.1, 0.5, desc, transform=plt.gca().transAxes,\n",
        "         horizontalalignment='left', verticalalignment='top', fontsize=8,\n",
        "         bbox=dict(facecolor='red', alpha=0.5,edgecolor='black'))"
      ],
      "metadata": {
        "colab": {
          "base_uri": "https://localhost:8080/",
          "height": 573
        },
        "id": "bbJ3Svm3VraH",
        "outputId": "a61e087b-e15e-48a6-d1dc-44a4bce8ed9f"
      },
      "execution_count": 71,
      "outputs": [
        {
          "output_type": "execute_result",
          "data": {
            "text/plain": [
              "Text(1.1, 0.5, 'Total missing value : 0')"
            ]
          },
          "metadata": {},
          "execution_count": 71
        },
        {
          "output_type": "display_data",
          "data": {
            "text/plain": [
              "<Figure size 640x480 with 1 Axes>"
            ],
            "image/png": "[encoded data removed]"
          },
          "metadata": {}
        }
      ]
    },
    {
      "cell_type": "markdown",
      "source": [
        " Product data\n"
      ],
      "metadata": {
        "id": "Ajfs3fZyVeNO"
      }
    },
    {
      "cell_type": "code",
      "source": [
        "# Membuat plot missing value menggunakan seaborn\n",
        "missing_values = Prod.isnull()\n",
        "# Mengatur palet warna heatmap\n",
        "cmap = sns.color_palette([(0.7, 0.9, 0.7), \"red\"])\n",
        "# Membuat plot heatmap\n",
        "sns.heatmap(missing_values, cmap=cmap, cbar=False)\n",
        "# title\n",
        "plt.title(\"Detect Missing Values in Customer Data\")\n",
        "\n",
        "# Melihat apakah ada missing value\n",
        "n_missing = missing_values.sum().sum()\n",
        "desc = 'Total missing value : {}'.format(n_missing)\n",
        "plt.text(1.1, 0.5, desc, transform=plt.gca().transAxes,\n",
        "         horizontalalignment='left', verticalalignment='top', fontsize=8,\n",
        "         bbox=dict(facecolor='red', alpha=0.5,edgecolor='black'))"
      ],
      "metadata": {
        "colab": {
          "base_uri": "https://localhost:8080/",
          "height": 624
        },
        "id": "yeHutaGKVr5e",
        "outputId": "1bd9f451-a6de-4fb4-a2db-ca198c469ac8"
      },
      "execution_count": 72,
      "outputs": [
        {
          "output_type": "execute_result",
          "data": {
            "text/plain": [
              "Text(1.1, 0.5, 'Total missing value : 0')"
            ]
          },
          "metadata": {},
          "execution_count": 72
        },
        {
          "output_type": "display_data",
          "data": {
            "text/plain": [
              "<Figure size 640x480 with 1 Axes>"
            ],
            "image/png": "[encoded data removed]"
          },
          "metadata": {}
        }
      ]
    },
    {
      "cell_type": "markdown",
      "source": [
        " Sales_Outlet data\n"
      ],
      "metadata": {
        "id": "0lBq3eSSVf5h"
      }
    },
    {
      "cell_type": "code",
      "source": [
        "# Membuat plot missing value menggunakan seaborn\n",
        "missing_values = Sale_Out.isnull()\n",
        "# Mengatur palet warna heatmap\n",
        "cmap = sns.color_palette([(0.91, 0.6, 0.84), \"red\"])\n",
        "# Membuat plot heatmap\n",
        "sns.heatmap(missing_values, cmap=cmap, cbar=False)\n",
        "# title\n",
        "plt.title(\"Detect Missing Values in Customer Data\")\n",
        "\n",
        "# Melihat apakah ada missing value\n",
        "n_missing = missing_values.sum().sum()\n",
        "desc = 'Total missing value : {}'.format(n_missing)\n",
        "plt.text(1.1, 0.5, desc, transform=plt.gca().transAxes,\n",
        "         horizontalalignment='left', verticalalignment='top', fontsize=8,\n",
        "         bbox=dict(facecolor='red', alpha=0.5,edgecolor='black'))"
      ],
      "metadata": {
        "colab": {
          "base_uri": "https://localhost:8080/",
          "height": 600
        },
        "id": "8rGqGkEqVsaA",
        "outputId": "067e2640-73dc-4d49-e17f-4a578feff4f5"
      },
      "execution_count": 73,
      "outputs": [
        {
          "output_type": "execute_result",
          "data": {
            "text/plain": [
              "Text(1.1, 0.5, 'Total missing value : 0')"
            ]
          },
          "metadata": {},
          "execution_count": 73
        },
        {
          "output_type": "display_data",
          "data": {
            "text/plain": [
              "<Figure size 640x480 with 1 Axes>"
            ],
            "image/png": "[encoded data removed]"
          },
          "metadata": {}
        }
      ]
    },
    {
      "cell_type": "markdown",
      "source": [
        " Sales_Reciepts data"
      ],
      "metadata": {
        "id": "wSQgxy25Vg9p"
      }
    },
    {
      "cell_type": "code",
      "source": [
        "# Membuat plot missing value menggunakan seaborn\n",
        "missing_values = Sale_Rec.isnull()\n",
        "# Mengatur palet warna heatmap\n",
        "cmap = sns.color_palette([(0.9, 0.9, 0.7), \"red\"])\n",
        "# Membuat plot heatmap\n",
        "sns.heatmap(missing_values, cmap=cmap, cbar=False)\n",
        "# title\n",
        "plt.title(\"Detect Missing Values in Customer Data\")\n",
        "\n",
        "# Melihat apakah ada missing value\n",
        "n_missing = missing_values.sum().sum()\n",
        "desc = 'Total missing value : {}'.format(n_missing)\n",
        "plt.text(1.1, 0.5, desc, transform=plt.gca().transAxes,\n",
        "         horizontalalignment='left', verticalalignment='top', fontsize=8,\n",
        "         bbox=dict(facecolor='red', alpha=0.5,edgecolor='black'))"
      ],
      "metadata": {
        "colab": {
          "base_uri": "https://localhost:8080/",
          "height": 580
        },
        "id": "DLqMfDM7VtGa",
        "outputId": "ea204508-d30f-4c7d-8986-58203c9c5444"
      },
      "execution_count": 74,
      "outputs": [
        {
          "output_type": "execute_result",
          "data": {
            "text/plain": [
              "Text(1.1, 0.5, 'Total missing value : 0')"
            ]
          },
          "metadata": {},
          "execution_count": 74
        },
        {
          "output_type": "display_data",
          "data": {
            "text/plain": [
              "<Figure size 640x480 with 1 Axes>"
            ],
            "image/png": "[encoded data removed]"
          },
          "metadata": {}
        }
      ]
    },
    {
      "cell_type": "markdown",
      "source": [
        "### Setelah data bersih export data yang bersih agar dapat divisualisasikan di tableau"
      ],
      "metadata": {
        "id": "js79twMzXglJ"
      }
    },
    {
      "cell_type": "code",
      "source": [
        "#Membuat file Excel dan mengekspor data frame ke sheet yang berbeda-beda\n",
        "with pd.ExcelWriter('Data_coffee_shop_clean.xlsx') as writer:\n",
        "    Cust.to_excel(writer, sheet_name='Customer', index=False)\n",
        "    Gen.to_excel(writer, sheet_name='Generations', index=False)\n",
        "    Pas_inv.to_excel(writer, sheet_name='Pastry_Inventory', index=False)\n",
        "    Prod.to_excel(writer, sheet_name='Product ', index=False)\n",
        "    Sale_Out.to_excel(writer, sheet_name='Sales_Outlet', index=False)\n",
        "    Sale_Rec.to_excel(writer, sheet_name='Sales_Reciepts', index=False)"
      ],
      "metadata": {
        "id": "tJWum7WPXm6X"
      },
      "execution_count": 75,
      "outputs": []
    },
    {
      "cell_type": "markdown",
      "metadata": {
        "id": "EVYEbWFcLFm5"
      },
      "source": [
        "## 8. Rekomendasi"
      ]
    },
    {
      "cell_type": "markdown",
      "source": [
        "- Meningkatkan promo pada setiap produk\n",
        "- Memanfaatkan email untuk pemberitahuan ke customer jika ada promo dan variasi produk abru\n",
        "- Memberikan reward, seperti produk gratis jika pembelian mencapai batas maximal yang ditentukan\n",
        "- Membuat variasi makanan yang berkaitan dengan rasa coklat mengingat customer sangat tertarik dengan croisant varian coklat\n",
        "- Pengurangan stok ginger sconne mengingat sisa produk ini yang terlalu banyak\n",
        "- Membuka store baru sekitar 100 church street mengingat daerah tersebut memiliki banyak pengunjung, penjualan terbanyak, dan keuntungan yang cukup signifikan banyak\n",
        "\n"
      ],
      "metadata": {
        "id": "ocxlbPQ3M3PV"
      }
    },
    {
      "cell_type": "markdown",
      "metadata": {
        "id": "uKCnqg6VKn8P"
      },
      "source": [
        "## 9. Kesimpulan - Create the story"
      ]
    },
    {
      "cell_type": "markdown",
      "source": [
        "- Dari analisa data yang dilakukan di tableau dapat di simpulkan beberapa hal seperti dalam segi profiling pelanggan dimana penambahan customer pada masing-masing store setiap bulannya ada yang mengalami peningkatan maupun penurunan, tetapi jika dibandingkan, customer pada awal bulan sangat tinggi dibanding dengan bulan selanjutnya dan hal tersebut berlaku pada setiap store\n",
        "- Rata-rata uang yang dikeluarkan customer sekitaran 3$ dimana ini berarti customer rata-rata hanya membeli 1 produk pada setiap melakukan pembelanjaan\n",
        "- Analisis penjualan produk yang banyak diminati jika dilihat berdasar kategori generasi, chocolate croissant merupakan produk yang paling banyak diminati disemua generasi, kecuali pada generasi older millenials dimana produk yang paling diminati adalah ginger sconne\n",
        "- Produk yang memiliki promo hanya sedikit, yaitu pada produk ginger sconne dimana penjualan produk yang memiliki promo mengalami peningkatan yang stabil\n",
        "- Produk yang paling rekomendasi di setiap store yaitu chocolate croissant \n",
        "- Penjualan terbanyak terdapat pada store 100 church street lalu diikuti 32-20 broadway dan 687 9th avenue\n",
        "- Produk yang banyak terjual dimasing-masing store adalah ginger sconne\n",
        "- Produk yang memiliki banyak sisa pada masing-masing store adalah ginger sconne\n",
        "- Pengunjung paling banyak terdapat pada store address 100 church street dimana keuntungan yang didapat cukup tinggi mencapai 200 ribu lebih"
      ],
      "metadata": {
        "id": "GZlPqYAtNJsa"
      }
    }
  ]
}